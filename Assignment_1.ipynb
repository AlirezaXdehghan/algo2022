{
 "cells": [
  {
   "cell_type": "markdown",
   "metadata": {},
   "source": [
    "# Initialize global variables"
   ]
  },
  {
   "cell_type": "code",
   "execution_count": 7,
   "metadata": {},
   "outputs": [
    {
     "ename": "FileNotFoundError",
     "evalue": "[WinError 2] The system cannot find the file specified: 'mst_dataset'",
     "output_type": "error",
     "traceback": [
      "\u001b[1;31m---------------------------------------------------------------------------\u001b[0m",
      "\u001b[1;31mFileNotFoundError\u001b[0m                         Traceback (most recent call last)",
      "\u001b[1;32m~\\AppData\\Local\\Temp/ipykernel_14792/178422893.py\u001b[0m in \u001b[0;36m<module>\u001b[1;34m\u001b[0m\n\u001b[0;32m      6\u001b[0m \u001b[1;32mimport\u001b[0m \u001b[0mgc\u001b[0m\u001b[1;33m\u001b[0m\u001b[1;33m\u001b[0m\u001b[0m\n\u001b[0;32m      7\u001b[0m \u001b[1;31m# go to directory with test files\u001b[0m\u001b[1;33m\u001b[0m\u001b[1;33m\u001b[0m\u001b[0m\n\u001b[1;32m----> 8\u001b[1;33m \u001b[0mos\u001b[0m\u001b[1;33m.\u001b[0m\u001b[0mchdir\u001b[0m\u001b[1;33m(\u001b[0m\u001b[1;34m'mst_dataset'\u001b[0m\u001b[1;33m)\u001b[0m\u001b[1;33m\u001b[0m\u001b[1;33m\u001b[0m\u001b[0m\n\u001b[0m",
      "\u001b[1;31mFileNotFoundError\u001b[0m: [WinError 2] The system cannot find the file specified: 'mst_dataset'"
     ]
    }
   ],
   "source": [
    "import random\n",
    "import os\n",
    "import glob\n",
    "from tqdm.notebook import tqdm_notebook\n",
    "from time import perf_counter_ns\n",
    "import gc\n",
    "# go to directory with test files\n",
    "os.chdir('mst_dataset')"
   ]
  },
  {
   "cell_type": "code",
   "execution_count": 8,
   "metadata": {},
   "outputs": [],
   "source": [
    "def parse_input_file_prim(file_address):\n",
    "    vertices = set()\n",
    "    edges = [] \n",
    "    with open(glob.glob(file_address)[0]) as f:\n",
    "        lines = f.readlines()\n",
    "    num_V_E = [int(x) for x in lines[0].split()]\n",
    "    lines = lines[1:]\n",
    "    for line in lines:\n",
    "        x = line.split()\n",
    "        vertices.add(x[0])\n",
    "        vertices.add(x[1])\n",
    "        edges.append((int(x[2]), x[0], x[1])) #heapq ranks tuples based on the first value!\n",
    "    vertices = list(vertices)\n",
    "    return vertices, edges, num_V_E"
   ]
  },
  {
   "cell_type": "code",
   "execution_count": 9,
   "metadata": {},
   "outputs": [
    {
     "data": {
      "application/vnd.jupyter.widget-view+json": {
       "model_id": "c94c6d9fa01b400dacb43d244c60ba04",
       "version_major": 2,
       "version_minor": 0
      },
      "text/plain": [
       "  0%|          | 0/3 [00:00<?, ?it/s]"
      ]
     },
     "metadata": {},
     "output_type": "display_data"
    },
    {
     "ename": "PermissionError",
     "evalue": "[Errno 13] Permission denied: '.git'",
     "output_type": "error",
     "traceback": [
      "\u001b[1;31m---------------------------------------------------------------------------\u001b[0m",
      "\u001b[1;31mPermissionError\u001b[0m                           Traceback (most recent call last)",
      "\u001b[1;32m~\\AppData\\Local\\Temp/ipykernel_14792/668138846.py\u001b[0m in \u001b[0;36m<module>\u001b[1;34m\u001b[0m\n\u001b[0;32m      1\u001b[0m \u001b[0mgraphs_prim\u001b[0m \u001b[1;33m=\u001b[0m \u001b[1;33m[\u001b[0m\u001b[1;33m]\u001b[0m\u001b[1;33m\u001b[0m\u001b[1;33m\u001b[0m\u001b[0m\n\u001b[0;32m      2\u001b[0m \u001b[1;32mfor\u001b[0m \u001b[0mfile\u001b[0m \u001b[1;32min\u001b[0m \u001b[0mtqdm_notebook\u001b[0m\u001b[1;33m(\u001b[0m\u001b[0mos\u001b[0m\u001b[1;33m.\u001b[0m\u001b[0mlistdir\u001b[0m\u001b[1;33m(\u001b[0m\u001b[1;33m)\u001b[0m\u001b[1;33m)\u001b[0m\u001b[1;33m:\u001b[0m\u001b[1;33m\u001b[0m\u001b[1;33m\u001b[0m\u001b[0m\n\u001b[1;32m----> 3\u001b[1;33m     \u001b[0mvertices\u001b[0m\u001b[1;33m,\u001b[0m \u001b[0medges\u001b[0m\u001b[1;33m,\u001b[0m \u001b[0mnum_V_E\u001b[0m \u001b[1;33m=\u001b[0m \u001b[0mparse_input_file_prim\u001b[0m\u001b[1;33m(\u001b[0m\u001b[0mfile\u001b[0m\u001b[1;33m)\u001b[0m\u001b[1;33m\u001b[0m\u001b[1;33m\u001b[0m\u001b[0m\n\u001b[0m\u001b[0;32m      4\u001b[0m     \u001b[0mgraphs_prim\u001b[0m\u001b[1;33m.\u001b[0m\u001b[0mappend\u001b[0m\u001b[1;33m(\u001b[0m\u001b[1;33m(\u001b[0m\u001b[0mnum_V_E\u001b[0m\u001b[1;33m,\u001b[0m \u001b[0mvertices\u001b[0m\u001b[1;33m,\u001b[0m \u001b[0medges\u001b[0m\u001b[1;33m)\u001b[0m\u001b[1;33m)\u001b[0m\u001b[1;33m\u001b[0m\u001b[1;33m\u001b[0m\u001b[0m\n",
      "\u001b[1;32m~\\AppData\\Local\\Temp/ipykernel_14792/3408286697.py\u001b[0m in \u001b[0;36mparse_input_file_prim\u001b[1;34m(file_address)\u001b[0m\n\u001b[0;32m      2\u001b[0m     \u001b[0mvertices\u001b[0m \u001b[1;33m=\u001b[0m \u001b[0mset\u001b[0m\u001b[1;33m(\u001b[0m\u001b[1;33m)\u001b[0m\u001b[1;33m\u001b[0m\u001b[1;33m\u001b[0m\u001b[0m\n\u001b[0;32m      3\u001b[0m     \u001b[0medges\u001b[0m \u001b[1;33m=\u001b[0m \u001b[1;33m[\u001b[0m\u001b[1;33m]\u001b[0m\u001b[1;33m\u001b[0m\u001b[1;33m\u001b[0m\u001b[0m\n\u001b[1;32m----> 4\u001b[1;33m     \u001b[1;32mwith\u001b[0m \u001b[0mopen\u001b[0m\u001b[1;33m(\u001b[0m\u001b[0mglob\u001b[0m\u001b[1;33m.\u001b[0m\u001b[0mglob\u001b[0m\u001b[1;33m(\u001b[0m\u001b[0mfile_address\u001b[0m\u001b[1;33m)\u001b[0m\u001b[1;33m[\u001b[0m\u001b[1;36m0\u001b[0m\u001b[1;33m]\u001b[0m\u001b[1;33m)\u001b[0m \u001b[1;32mas\u001b[0m \u001b[0mf\u001b[0m\u001b[1;33m:\u001b[0m\u001b[1;33m\u001b[0m\u001b[1;33m\u001b[0m\u001b[0m\n\u001b[0m\u001b[0;32m      5\u001b[0m         \u001b[0mlines\u001b[0m \u001b[1;33m=\u001b[0m \u001b[0mf\u001b[0m\u001b[1;33m.\u001b[0m\u001b[0mreadlines\u001b[0m\u001b[1;33m(\u001b[0m\u001b[1;33m)\u001b[0m\u001b[1;33m\u001b[0m\u001b[1;33m\u001b[0m\u001b[0m\n\u001b[0;32m      6\u001b[0m     \u001b[0mnum_V_E\u001b[0m \u001b[1;33m=\u001b[0m \u001b[1;33m[\u001b[0m\u001b[0mint\u001b[0m\u001b[1;33m(\u001b[0m\u001b[0mx\u001b[0m\u001b[1;33m)\u001b[0m \u001b[1;32mfor\u001b[0m \u001b[0mx\u001b[0m \u001b[1;32min\u001b[0m \u001b[0mlines\u001b[0m\u001b[1;33m[\u001b[0m\u001b[1;36m0\u001b[0m\u001b[1;33m]\u001b[0m\u001b[1;33m.\u001b[0m\u001b[0msplit\u001b[0m\u001b[1;33m(\u001b[0m\u001b[1;33m)\u001b[0m\u001b[1;33m]\u001b[0m\u001b[1;33m\u001b[0m\u001b[1;33m\u001b[0m\u001b[0m\n",
      "\u001b[1;31mPermissionError\u001b[0m: [Errno 13] Permission denied: '.git'"
     ]
    }
   ],
   "source": [
    "graphs_prim = []\n",
    "for file in tqdm_notebook(os.listdir()):\n",
    "    vertices, edges, num_V_E = parse_input_file_prim(file) \n",
    "    graphs_prim.append((num_V_E, vertices, edges))"
   ]
  },
  {
   "cell_type": "markdown",
   "metadata": {},
   "source": [
    "# Prim "
   ]
  },
  {
   "cell_type": "code",
   "execution_count": 4,
   "metadata": {},
   "outputs": [],
   "source": [
    "import heapq\n",
    "def Prim(vertices, edges):\n",
    "    S = set() #keep track of touched vertices\n",
    "    V = set(vertices)\n",
    "    S.add(vertices[0])\n",
    "    MST = [] #our MST, a list of (w, u, v)\n",
    "    not_S = set(vertices[1:]) #untouched vertices\n",
    "    while not S == V:\n",
    "        light_edge = find_lightest_edge(S, not_S, edges)\n",
    "        MST.append(light_edge) #populate our MST on each iteration\n",
    "        S.add(light_edge[1]) #add only the Vertices\n",
    "        S.add(light_edge[2]) \n",
    "        not_S = populate_set(vertices, S)\n",
    "    return MST\n",
    "\n",
    "def populate_set(vertices, Set1):\n",
    "    Set2 = set()\n",
    "    for v in vertices:\n",
    "        if not v in Set1:\n",
    "            Set2.add(v)\n",
    "    return Set2\n",
    "    \n",
    "def find_lightest_edge(Set1, Set2, SetGlobal):\n",
    "    heap = []\n",
    "    for (w, u, v) in SetGlobal:\n",
    "        if (u in Set1 and v in Set2) or (v in Set1 and u in Set2):\n",
    "            heapq.heappush(heap,(w, u, v))\n",
    "    return heap[0]\n",
    "\n",
    "def MSTweight(MST):\n",
    "    sum = 0\n",
    "    for (w ,u ,v) in MST:\n",
    "        sum = sum + w\n",
    "    return sum"
   ]
  },
  {
   "cell_type": "code",
   "execution_count": 5,
   "metadata": {},
   "outputs": [],
   "source": [
    "def get_time_prim(vertices, edges):\n",
    "    gc.disable()\n",
    "    start_time = perf_counter_ns()\n",
    "    theMST = Prim(vertices, edges)\n",
    "    end_time = perf_counter_ns()\n",
    "    gc.enable()\n",
    "    print(\"Running Time was: \", end_time-start_time)\n",
    "    print(\"The Weight of MST is: \", MSTweight(theMST))\n",
    "    return (end_time-start_time)"
   ]
  },
  {
   "cell_type": "code",
   "execution_count": 6,
   "metadata": {},
   "outputs": [
    {
     "data": {
      "application/vnd.jupyter.widget-view+json": {
       "model_id": "40a5e1ebbc9b40b6b1a97cd3e50cc124",
       "version_major": 2,
       "version_minor": 0
      },
      "text/plain": [
       "HBox(children=(IntProgress(value=0, max=68), HTML(value='')))"
      ]
     },
     "metadata": {},
     "output_type": "display_data"
    },
    {
     "name": "stdout",
     "output_type": "stream",
     "text": [
      "|V| =  10000  |E| =  13287\n",
      "Running Time was:  25438574482\n",
      "The Weight of MST is:  -22581384\n",
      "|V| =  2000  |E| =  2677\n",
      "Running Time was:  875354827\n",
      "The Weight of MST is:  -4537267\n",
      "|V| =  8000  |E| =  10757\n",
      "Running Time was:  14690679759\n",
      "The Weight of MST is:  -18178610\n",
      "|V| =  20000  |E| =  26667\n",
      "Running Time was:  110111444654\n",
      "The Weight of MST is:  -45962292\n",
      "|V| =  80000  |E| =  106554\n",
      "Running Time was:  3203320074786\n",
      "The Weight of MST is:  -180793224\n",
      "|V| =  4000  |E| =  5315\n",
      "Running Time was:  3434117307\n",
      "The Weight of MST is:  -9314968\n",
      "|V| =  8000  |E| =  10670\n",
      "Running Time was:  14285775869\n",
      "The Weight of MST is:  -18798446\n",
      "|V| =  4000  |E| =  5368\n",
      "Running Time was:  3477853993\n",
      "The Weight of MST is:  -8681447\n",
      "|V| =  8000  |E| =  10705\n",
      "Running Time was:  14245192265\n",
      "The Weight of MST is:  -17844628\n",
      "|V| =  200  |E| =  267\n",
      "Running Time was:  7709745\n",
      "The Weight of MST is:  -510185\n",
      "|V| =  10  |E| =  10\n",
      "Running Time was:  43539\n",
      "The Weight of MST is:  25217\n",
      "|V| =  800  |E| =  1058\n",
      "Running Time was:  136589580\n",
      "The Weight of MST is:  -1578294\n",
      "|V| =  40000  |E| =  53446\n",
      "Running Time was:  657251375901\n",
      "The Weight of MST is:  -94397064\n",
      "|V| =  10  |E| =  13\n",
      "Running Time was:  50951\n",
      "The Weight of MST is:  -44448\n",
      "|V| =  1000  |E| =  1344\n",
      "Running Time was:  219482458\n",
      "The Weight of MST is:  -2356163\n",
      "|V| =  100  |E| =  137\n",
      "Running Time was:  1976505\n",
      "The Weight of MST is:  -288906\n",
      "|V| =  40  |E| =  52\n",
      "Running Time was:  332969\n",
      "The Weight of MST is:  -79741\n",
      "|V| =  10000  |E| =  13301\n",
      "Running Time was:  22620701896\n",
      "The Weight of MST is:  -22079522\n",
      "|V| =  20000  |E| =  26826\n",
      "Running Time was:  112029900458\n",
      "The Weight of MST is:  -45195405\n",
      "|V| =  800  |E| =  1063\n",
      "Running Time was:  137408157\n",
      "The Weight of MST is:  -1541291\n",
      "|V| =  200  |E| =  269\n",
      "Running Time was:  7820945\n",
      "The Weight of MST is:  -515136\n",
      "|V| =  20000  |E| =  26673\n",
      "Running Time was:  112237072969\n",
      "The Weight of MST is:  -47854708\n",
      "|V| =  40  |E| =  50\n",
      "Running Time was:  358215\n",
      "The Weight of MST is:  -79570\n",
      "|V| =  400  |E| =  518\n",
      "Running Time was:  30963347\n",
      "The Weight of MST is:  -788168\n",
      "|V| =  10  |E| =  9\n",
      "Running Time was:  26872\n",
      "The Weight of MST is:  29316\n",
      "|V| =  40000  |E| =  53415\n",
      "Running Time was:  658395011415\n",
      "The Weight of MST is:  -92003321\n",
      "|V| =  8000  |E| =  10662\n",
      "Running Time was:  14254093703\n",
      "The Weight of MST is:  -18741474\n",
      "|V| =  10000  |E| =  13340\n",
      "Running Time was:  22758376997\n",
      "The Weight of MST is:  -22338561\n",
      "|V| =  1000  |E| =  1313\n",
      "Running Time was:  206315760\n",
      "The Weight of MST is:  -1934208\n",
      "|V| =  20  |E| =  26\n",
      "Running Time was:  112366\n",
      "The Weight of MST is:  -37205\n",
      "|V| =  100000  |E| =  133395\n",
      "Running Time was:  5095782048349\n",
      "The Weight of MST is:  -230698391\n",
      "|V| =  40000  |E| =  53242\n",
      "Running Time was:  655377058962\n",
      "The Weight of MST is:  -88771991\n",
      "|V| =  80  |E| =  104\n",
      "Running Time was:  1796624\n",
      "The Weight of MST is:  -110571\n",
      "|V| =  10  |E| =  11\n",
      "Running Time was:  43370\n",
      "The Weight of MST is:  16940\n",
      "|V| =  400  |E| =  526\n",
      "Running Time was:  37735670\n",
      "The Weight of MST is:  -733645\n",
      "|V| =  80000  |E| =  106633\n",
      "Running Time was:  3060947118258\n",
      "The Weight of MST is:  -185997521\n",
      "|V| =  80000  |E| =  106914\n",
      "Running Time was:  3107913653080\n",
      "The Weight of MST is:  -186834082\n",
      "|V| =  10000  |E| =  13311\n",
      "Running Time was:  22340031550\n",
      "The Weight of MST is:  -22606313\n",
      "|V| =  40  |E| =  56\n",
      "Running Time was:  361116\n",
      "The Weight of MST is:  -114203\n",
      "|V| =  4000  |E| =  5360\n",
      "Running Time was:  3464059656\n",
      "The Weight of MST is:  -8722212\n",
      "|V| =  400  |E| =  538\n",
      "Running Time was:  34941158\n",
      "The Weight of MST is:  -895704\n",
      "|V| =  100  |E| =  136\n",
      "Running Time was:  2052675\n",
      "The Weight of MST is:  -141960\n",
      "|V| =  20000  |E| =  26670\n",
      "Running Time was:  110658176584\n",
      "The Weight of MST is:  -46418161\n",
      "|V| =  4000  |E| =  5340\n",
      "Running Time was:  3468448885\n",
      "The Weight of MST is:  -9845767\n",
      "|V| =  40000  |E| =  53319\n",
      "Running Time was:  658607358968\n",
      "The Weight of MST is:  -93017025\n",
      "|V| =  100  |E| =  129\n",
      "Running Time was:  2834432\n",
      "The Weight of MST is:  -271743\n",
      "|V| =  100000  |E| =  133214\n",
      "Running Time was:  5043146353570\n",
      "The Weight of MST is:  -230168572\n",
      "|V| =  20  |E| =  24\n",
      "Running Time was:  200731\n",
      "The Weight of MST is:  25130\n",
      "|V| =  200  |E| =  267\n",
      "Running Time was:  14259121\n",
      "The Weight of MST is:  -393278\n",
      "|V| =  400  |E| =  540\n",
      "Running Time was:  41540208\n",
      "The Weight of MST is:  -1119906\n",
      "|V| =  20  |E| =  28\n",
      "Running Time was:  105721\n",
      "The Weight of MST is:  -41693\n",
      "|V| =  20  |E| =  24\n",
      "Running Time was:  93009\n",
      "The Weight of MST is:  -32021\n",
      "|V| =  80  |E| =  108\n",
      "Running Time was:  1299027\n",
      "The Weight of MST is:  -139926\n",
      "|V| =  100  |E| =  132\n",
      "Running Time was:  2073780\n",
      "The Weight of MST is:  -229506\n",
      "|V| =  2000  |E| =  2652\n",
      "Running Time was:  861746691\n",
      "The Weight of MST is:  -4717250\n",
      "|V| =  1000  |E| =  1328\n",
      "Running Time was:  209011256\n",
      "The Weight of MST is:  -2229428\n",
      "|V| =  1000  |E| =  1300\n",
      "Running Time was:  210180328\n",
      "The Weight of MST is:  -2089013\n",
      "|V| =  80000  |E| =  106586\n",
      "Running Time was:  3045615659060\n",
      "The Weight of MST is:  -182065015\n",
      "|V| =  100000  |E| =  133524\n",
      "Running Time was:  5210201757132\n",
      "The Weight of MST is:  -231393935\n",
      "|V| =  2000  |E| =  2654\n",
      "Running Time was:  967905794\n",
      "The Weight of MST is:  -4739387\n",
      "|V| =  800  |E| =  1076\n",
      "Running Time was:  153958812\n",
      "The Weight of MST is:  -1664316\n",
      "|V| =  40  |E| =  50\n",
      "Running Time was:  327820\n",
      "The Weight of MST is:  -31929\n",
      "|V| =  2000  |E| =  2699\n",
      "Running Time was:  1015190354\n",
      "The Weight of MST is:  -4811598\n",
      "|V| =  100000  |E| =  133463\n"
     ]
    },
    {
     "ename": "KeyboardInterrupt",
     "evalue": "",
     "output_type": "error",
     "traceback": [
      "\u001b[0;31m---------------------------------------------------------------------------\u001b[0m",
      "\u001b[0;31mKeyboardInterrupt\u001b[0m                         Traceback (most recent call last)",
      "\u001b[0;32m<ipython-input-6-21a052e0d505>\u001b[0m in \u001b[0;36m<module>\u001b[0;34m\u001b[0m\n\u001b[1;32m      2\u001b[0m \u001b[0;32mfor\u001b[0m \u001b[0mi\u001b[0m \u001b[0;32min\u001b[0m \u001b[0mtqdm_notebook\u001b[0m\u001b[0;34m(\u001b[0m\u001b[0mrange\u001b[0m\u001b[0;34m(\u001b[0m\u001b[0mlen\u001b[0m\u001b[0;34m(\u001b[0m\u001b[0mgraphs_prim\u001b[0m\u001b[0;34m)\u001b[0m\u001b[0;34m)\u001b[0m\u001b[0;34m)\u001b[0m\u001b[0;34m:\u001b[0m\u001b[0;34m\u001b[0m\u001b[0;34m\u001b[0m\u001b[0m\n\u001b[1;32m      3\u001b[0m     \u001b[0mprint\u001b[0m\u001b[0;34m(\u001b[0m\u001b[0;34m\"|V| = \"\u001b[0m\u001b[0;34m,\u001b[0m \u001b[0mgraphs_prim\u001b[0m\u001b[0;34m[\u001b[0m\u001b[0mi\u001b[0m\u001b[0;34m]\u001b[0m\u001b[0;34m[\u001b[0m\u001b[0;36m0\u001b[0m\u001b[0;34m]\u001b[0m\u001b[0;34m[\u001b[0m\u001b[0;36m0\u001b[0m\u001b[0;34m]\u001b[0m\u001b[0;34m,\u001b[0m \u001b[0;34m\" |E| = \"\u001b[0m\u001b[0;34m,\u001b[0m \u001b[0mgraphs_prim\u001b[0m\u001b[0;34m[\u001b[0m\u001b[0mi\u001b[0m\u001b[0;34m]\u001b[0m\u001b[0;34m[\u001b[0m\u001b[0;36m0\u001b[0m\u001b[0;34m]\u001b[0m\u001b[0;34m[\u001b[0m\u001b[0;36m1\u001b[0m\u001b[0;34m]\u001b[0m\u001b[0;34m)\u001b[0m\u001b[0;34m\u001b[0m\u001b[0;34m\u001b[0m\u001b[0m\n\u001b[0;32m----> 4\u001b[0;31m     \u001b[0mresults\u001b[0m\u001b[0;34m.\u001b[0m\u001b[0mappend\u001b[0m\u001b[0;34m(\u001b[0m\u001b[0;34m(\u001b[0m\u001b[0mgraphs_prim\u001b[0m\u001b[0;34m[\u001b[0m\u001b[0mi\u001b[0m\u001b[0;34m]\u001b[0m\u001b[0;34m[\u001b[0m\u001b[0;36m0\u001b[0m\u001b[0;34m]\u001b[0m\u001b[0;34m[\u001b[0m\u001b[0;36m0\u001b[0m\u001b[0;34m]\u001b[0m\u001b[0;34m,\u001b[0m \u001b[0mget_time_prim\u001b[0m\u001b[0;34m(\u001b[0m\u001b[0mgraphs_prim\u001b[0m\u001b[0;34m[\u001b[0m\u001b[0mi\u001b[0m\u001b[0;34m]\u001b[0m\u001b[0;34m[\u001b[0m\u001b[0;36m1\u001b[0m\u001b[0;34m]\u001b[0m\u001b[0;34m,\u001b[0m \u001b[0mgraphs_prim\u001b[0m\u001b[0;34m[\u001b[0m\u001b[0mi\u001b[0m\u001b[0;34m]\u001b[0m\u001b[0;34m[\u001b[0m\u001b[0;36m2\u001b[0m\u001b[0;34m]\u001b[0m\u001b[0;34m)\u001b[0m\u001b[0;34m)\u001b[0m\u001b[0;34m)\u001b[0m\u001b[0;34m\u001b[0m\u001b[0;34m\u001b[0m\u001b[0m\n\u001b[0m",
      "\u001b[0;32m<ipython-input-5-40d70fc2f7ab>\u001b[0m in \u001b[0;36mget_time_prim\u001b[0;34m(vertices, edges)\u001b[0m\n\u001b[1;32m      2\u001b[0m     \u001b[0mgc\u001b[0m\u001b[0;34m.\u001b[0m\u001b[0mdisable\u001b[0m\u001b[0;34m(\u001b[0m\u001b[0;34m)\u001b[0m\u001b[0;34m\u001b[0m\u001b[0;34m\u001b[0m\u001b[0m\n\u001b[1;32m      3\u001b[0m     \u001b[0mstart_time\u001b[0m \u001b[0;34m=\u001b[0m \u001b[0mperf_counter_ns\u001b[0m\u001b[0;34m(\u001b[0m\u001b[0;34m)\u001b[0m\u001b[0;34m\u001b[0m\u001b[0;34m\u001b[0m\u001b[0m\n\u001b[0;32m----> 4\u001b[0;31m     \u001b[0mtheMST\u001b[0m \u001b[0;34m=\u001b[0m \u001b[0mPrim\u001b[0m\u001b[0;34m(\u001b[0m\u001b[0mvertices\u001b[0m\u001b[0;34m,\u001b[0m \u001b[0medges\u001b[0m\u001b[0;34m)\u001b[0m\u001b[0;34m\u001b[0m\u001b[0;34m\u001b[0m\u001b[0m\n\u001b[0m\u001b[1;32m      5\u001b[0m     \u001b[0mend_time\u001b[0m \u001b[0;34m=\u001b[0m \u001b[0mperf_counter_ns\u001b[0m\u001b[0;34m(\u001b[0m\u001b[0;34m)\u001b[0m\u001b[0;34m\u001b[0m\u001b[0;34m\u001b[0m\u001b[0m\n\u001b[1;32m      6\u001b[0m     \u001b[0mgc\u001b[0m\u001b[0;34m.\u001b[0m\u001b[0menable\u001b[0m\u001b[0;34m(\u001b[0m\u001b[0;34m)\u001b[0m\u001b[0;34m\u001b[0m\u001b[0;34m\u001b[0m\u001b[0m\n",
      "\u001b[0;32m<ipython-input-4-2bd4a011446d>\u001b[0m in \u001b[0;36mPrim\u001b[0;34m(vertices, edges)\u001b[0m\n\u001b[1;32m     10\u001b[0m         \u001b[0mX\u001b[0m\u001b[0;34m.\u001b[0m\u001b[0madd\u001b[0m\u001b[0;34m(\u001b[0m\u001b[0mLightEdge\u001b[0m\u001b[0;34m[\u001b[0m\u001b[0;36m1\u001b[0m\u001b[0;34m]\u001b[0m\u001b[0;34m)\u001b[0m \u001b[0;31m#add only the Vertices\u001b[0m\u001b[0;34m\u001b[0m\u001b[0;34m\u001b[0m\u001b[0m\n\u001b[1;32m     11\u001b[0m         \u001b[0mX\u001b[0m\u001b[0;34m.\u001b[0m\u001b[0madd\u001b[0m\u001b[0;34m(\u001b[0m\u001b[0mLightEdge\u001b[0m\u001b[0;34m[\u001b[0m\u001b[0;36m2\u001b[0m\u001b[0;34m]\u001b[0m\u001b[0;34m)\u001b[0m\u001b[0;34m\u001b[0m\u001b[0;34m\u001b[0m\u001b[0m\n\u001b[0;32m---> 12\u001b[0;31m         \u001b[0mNOTX\u001b[0m \u001b[0;34m=\u001b[0m \u001b[0mPopulateSet\u001b[0m\u001b[0;34m(\u001b[0m\u001b[0mvertices\u001b[0m\u001b[0;34m,\u001b[0m \u001b[0mX\u001b[0m\u001b[0;34m)\u001b[0m\u001b[0;34m\u001b[0m\u001b[0;34m\u001b[0m\u001b[0m\n\u001b[0m\u001b[1;32m     13\u001b[0m     \u001b[0;32mreturn\u001b[0m \u001b[0mMST\u001b[0m\u001b[0;34m\u001b[0m\u001b[0;34m\u001b[0m\u001b[0m\n\u001b[1;32m     14\u001b[0m \u001b[0;34m\u001b[0m\u001b[0m\n",
      "\u001b[0;32m<ipython-input-4-2bd4a011446d>\u001b[0m in \u001b[0;36mPopulateSet\u001b[0;34m(vertices, Set1)\u001b[0m\n\u001b[1;32m     17\u001b[0m     \u001b[0;32mfor\u001b[0m \u001b[0mv\u001b[0m \u001b[0;32min\u001b[0m \u001b[0mvertices\u001b[0m\u001b[0;34m:\u001b[0m\u001b[0;34m\u001b[0m\u001b[0;34m\u001b[0m\u001b[0m\n\u001b[1;32m     18\u001b[0m         \u001b[0;32mif\u001b[0m \u001b[0;32mnot\u001b[0m \u001b[0mv\u001b[0m \u001b[0;32min\u001b[0m \u001b[0mSet1\u001b[0m\u001b[0;34m:\u001b[0m\u001b[0;34m\u001b[0m\u001b[0;34m\u001b[0m\u001b[0m\n\u001b[0;32m---> 19\u001b[0;31m             \u001b[0mSet2\u001b[0m\u001b[0;34m.\u001b[0m\u001b[0madd\u001b[0m\u001b[0;34m(\u001b[0m\u001b[0mv\u001b[0m\u001b[0;34m)\u001b[0m\u001b[0;34m\u001b[0m\u001b[0;34m\u001b[0m\u001b[0m\n\u001b[0m\u001b[1;32m     20\u001b[0m     \u001b[0;32mreturn\u001b[0m \u001b[0mSet2\u001b[0m\u001b[0;34m\u001b[0m\u001b[0;34m\u001b[0m\u001b[0m\n\u001b[1;32m     21\u001b[0m \u001b[0;34m\u001b[0m\u001b[0m\n",
      "\u001b[0;31mKeyboardInterrupt\u001b[0m: "
     ]
    }
   ],
   "source": [
    "results = []\n",
    "for i in tqdm_notebook(range(len(graphs_prim))):\n",
    "    print(\"|V| = \", graphs_prim[i][0][0], \" |E| = \", graphs_prim[i][0][1])\n",
    "    results.append((graphs_prim[i][0][0], get_time_prim(graphs_prim[i][1], graphs_prim[i][2])))"
   ]
  },
  {
   "cell_type": "code",
   "execution_count": 12,
   "metadata": {},
   "outputs": [
    {
     "name": "stdout",
     "output_type": "stream",
     "text": [
      "[(10, 43539), (10, 50951), (10, 26872), (10, 43370), (20, 112366), (20, 200731), (20, 105721), (20, 93009), (40, 332969), (40, 358215), (40, 361116), (40, 327820), (80, 1796624), (80, 1299027), (100, 1976505), (100, 2052675), (100, 2834432), (100, 2073780), (200, 7709745), (200, 7820945), (200, 14259121), (400, 30963347), (400, 37735670), (400, 34941158), (400, 41540208), (800, 136589580), (800, 137408157), (800, 153958812), (1000, 219482458), (1000, 206315760), (1000, 209011256), (1000, 210180328), (2000, 875354827), (2000, 861746691), (2000, 967905794), (2000, 1015190354), (4000, 3434117307), (4000, 3477853993), (4000, 3464059656), (4000, 3468448885), (8000, 14690679759), (8000, 14285775869), (8000, 14245192265), (8000, 14254093703), (10000, 25438574482), (10000, 22620701896), (10000, 22758376997), (10000, 22340031550), (20000, 110111444654), (20000, 112029900458), (20000, 112237072969), (20000, 110658176584), (40000, 657251375901), (40000, 658395011415), (40000, 655377058962), (40000, 658607358968), (80000, 3203320074786), (80000, 3060947118258), (80000, 3107913653080), (80000, 3045615659060), (100000, 5095782048349), (100000, 5043146353570), (100000, 5210201757132)]\n"
     ]
    },
    {
     "data": {
      "image/png": "[encoded data removed]",
      "text/plain": [
       "<Figure size 432x288 with 1 Axes>"
      ]
     },
     "metadata": {
      "needs_background": "light"
     },
     "output_type": "display_data"
    }
   ],
   "source": [
    "import matplotlib.pyplot as plt\n",
    "results = sorted(results,key=lambda results: results[0])\n",
    "print(results)\n",
    "x_val = [x[0] for x in results]\n",
    "y_val = [x[1] for x in results]\n",
    "\n",
    "plt.plot(x_val,y_val,'--')\n",
    "plt.plot(x_val,y_val,'og')\n",
    "plt.ylabel(\"Execution time (milliseconds)\")\n",
    "plt.xlabel(\"Number of vertices\")\n",
    "plt.show()"
   ]
  },
  {
   "cell_type": "code",
   "execution_count": 8,
   "metadata": {},
   "outputs": [],
   "source": [
    "plt.show()"
   ]
  },
  {
   "cell_type": "markdown",
   "metadata": {},
   "source": [
    "# Parse input"
   ]
  },
  {
   "cell_type": "code",
   "execution_count": 5,
   "metadata": {},
   "outputs": [],
   "source": [
    "def parse_input_file_kruskal(file_address):\n",
    "    vertices = set()\n",
    "    edges = [] \n",
    "    with open(glob.glob(file_address)[0]) as f:\n",
    "        lines = f.readlines()\n",
    "    num_V_E = [int(x) for x in lines[0].split()]\n",
    "    lines = lines[1:]\n",
    "    for line in lines:\n",
    "        x = line.split()\n",
    "        vertices.add(x[0])\n",
    "        vertices.add(x[1])\n",
    "        edges.append((x[0], x[1], int(x[2])))\n",
    "    vertices = list(vertices)\n",
    "    return vertices, edges, num_V_E"
   ]
  },
  {
   "cell_type": "code",
   "execution_count": 6,
   "metadata": {},
   "outputs": [
    {
     "ename": "NameError",
     "evalue": "name 'tqdm_notebook' is not defined",
     "output_type": "error",
     "traceback": [
      "\u001b[1;31m---------------------------------------------------------------------------\u001b[0m",
      "\u001b[1;31mNameError\u001b[0m                                 Traceback (most recent call last)",
      "\u001b[1;32m~\\AppData\\Local\\Temp/ipykernel_14792/664510434.py\u001b[0m in \u001b[0;36m<module>\u001b[1;34m\u001b[0m\n\u001b[0;32m      1\u001b[0m \u001b[0mgraphs_kruskal\u001b[0m \u001b[1;33m=\u001b[0m \u001b[1;33m[\u001b[0m\u001b[1;33m]\u001b[0m\u001b[1;33m\u001b[0m\u001b[1;33m\u001b[0m\u001b[0m\n\u001b[0;32m      2\u001b[0m \u001b[0mgraphs\u001b[0m \u001b[1;33m=\u001b[0m \u001b[1;33m[\u001b[0m\u001b[1;34m'input_random_01*'\u001b[0m\u001b[1;33m,\u001b[0m \u001b[1;34m'input_random_02*'\u001b[0m\u001b[1;33m,\u001b[0m \u001b[1;34m'input_random_06*'\u001b[0m\u001b[1;33m]\u001b[0m\u001b[1;33m\u001b[0m\u001b[1;33m\u001b[0m\u001b[0m\n\u001b[1;32m----> 3\u001b[1;33m \u001b[1;32mfor\u001b[0m \u001b[0mfile\u001b[0m \u001b[1;32min\u001b[0m \u001b[0mtqdm_notebook\u001b[0m\u001b[1;33m(\u001b[0m\u001b[0mgraphs\u001b[0m\u001b[1;33m)\u001b[0m\u001b[1;33m:\u001b[0m\u001b[1;33m\u001b[0m\u001b[1;33m\u001b[0m\u001b[0m\n\u001b[0m\u001b[0;32m      4\u001b[0m     \u001b[0mvertices\u001b[0m\u001b[1;33m,\u001b[0m \u001b[0medges\u001b[0m\u001b[1;33m,\u001b[0m \u001b[0mnum_V_E\u001b[0m \u001b[1;33m=\u001b[0m \u001b[0mparse_input_file_kruskal\u001b[0m\u001b[1;33m(\u001b[0m\u001b[0mfile\u001b[0m\u001b[1;33m)\u001b[0m\u001b[1;33m\u001b[0m\u001b[1;33m\u001b[0m\u001b[0m\n\u001b[0;32m      5\u001b[0m     \u001b[0mgraphs_kruskal\u001b[0m\u001b[1;33m.\u001b[0m\u001b[0mappend\u001b[0m\u001b[1;33m(\u001b[0m\u001b[1;33m(\u001b[0m\u001b[0mnum_V_E\u001b[0m\u001b[1;33m,\u001b[0m \u001b[0mvertices\u001b[0m\u001b[1;33m,\u001b[0m \u001b[0medges\u001b[0m\u001b[1;33m)\u001b[0m\u001b[1;33m)\u001b[0m\u001b[1;33m\u001b[0m\u001b[1;33m\u001b[0m\u001b[0m\n",
      "\u001b[1;31mNameError\u001b[0m: name 'tqdm_notebook' is not defined"
     ]
    }
   ],
   "source": [
    "graphs_kruskal = []\n",
    "graphs = ['input_random_01*', 'input_random_02*', 'input_random_06*']\n",
    "for file in tqdm_notebook(graphs):\n",
    "    vertices, edges, num_V_E = parse_input_file_kruskal(file) \n",
    "    graphs_kruskal.append((num_V_E, vertices, edges))"
   ]
  },
  {
   "cell_type": "code",
   "execution_count": 4,
   "metadata": {},
   "outputs": [],
   "source": [
    "class Graph:\n",
    "    def __init__(self, V, E, num_V, num_E):\n",
    "        self.V = V\n",
    "        self.E = E\n",
    "        self.num_V = num_V\n",
    "        self.num_E = num_E"
   ]
  },
  {
   "cell_type": "markdown",
   "metadata": {},
   "source": [
    "# Kruskal Efficient"
   ]
  },
  {
   "cell_type": "code",
   "execution_count": 2,
   "metadata": {},
   "outputs": [],
   "source": [
    "class Kruskal_Efficient:\n",
    "    \n",
    "    def __init__(self, graph):\n",
    "        self.graph = graph\n",
    "        self.sets = {} # set of vertices\n",
    "        self.MST = [] # Minimum Spanning Tree\n",
    "        \n",
    "    \n",
    "    # make a set of vertices\n",
    "    def make_sets(self):\n",
    "        for v in self.graph.V:\n",
    "            self.sets[v] = [v] \n",
    "    \n",
    "    \n",
    "    # append v to the list when it is not among the keys of the dictionary\n",
    "    def append_v(self, items, v, u_index):\n",
    "        for itm in list(items):\n",
    "            ky, vl = itm[0], itm[1] # ky = key , vl = values\n",
    "            if v in vl:\n",
    "                res = self.sets[ky]\n",
    "                self.sets.pop(ky)\n",
    "                self.sets[u_index].extend(res[0:])\n",
    "                break\n",
    "        \n",
    "    \n",
    "    # join the subsets of vertices/edges\n",
    "    def set_union(self, u, v, keys, items):\n",
    "        # if u and v are two single sets\n",
    "        if (u in keys):\n",
    "            if (v in keys):\n",
    "                res = self.sets[v] # store the values of list which contains v in the variale res\n",
    "                self.sets.pop(v) # pop the list contained v from dictionary\n",
    "                self.sets[u].extend(res[0:]) # append it to the list which contains u\n",
    "            # if u a single set but v is in a set of vertices    \n",
    "            else:\n",
    "                self.append_v(items, v, u)\n",
    "\n",
    "        # if u is not a single set\n",
    "        else:\n",
    "            for itm in list(items):\n",
    "                u_ky, u_vl = itm[0], itm[1]\n",
    "                if u in u_vl:\n",
    "                    # if v is a signle set\n",
    "                    if (v in keys):\n",
    "                        res = self.sets[v] \n",
    "                        self.sets.pop(v)\n",
    "                        self.sets[u_ky].extend(res[0:])\n",
    "                    # if v is not in a single set as u    \n",
    "                    else:\n",
    "                        self.append_v(items, v, u_ky)\n",
    "        \n",
    "    \n",
    "    # calculate the final weight of the MST\n",
    "    def MSTweight_EK(self):\n",
    "        sum = 0\n",
    "        for (u ,v, w) in self.MST:\n",
    "            sum = sum + w\n",
    "        return sum\n",
    "\n",
    "    \n",
    "    # check if there is a cycle\n",
    "    def check_cycle(self, u, v):\n",
    "        cycle = False\n",
    "        keys = self.sets.keys()\n",
    "        items = self.sets.items()\n",
    "        \n",
    "        for item in list(items):\n",
    "            key, value = item[0], item[1]\n",
    "            # check if the set of (u, v) makes a loop\n",
    "            if u in value:\n",
    "                if v in value:\n",
    "                    cycle = True\n",
    "                # if not, add them to the set- append them to the self.sets()\n",
    "                else:\n",
    "                    self.set_union(u, v, keys, items)\n",
    "        return cycle\n",
    "    \n",
    "    \n",
    "    # make the MST tree\n",
    "    def execute(self):\n",
    "        lenv = len(self.graph.V) # number of vertices\n",
    "        \n",
    "        # sorting the edges based on the wight of the edges    \n",
    "        E = sorted(self.graph.E, key = lambda m: m[2])\n",
    "        self.make_sets() # make a set of vertices\n",
    "        for e in E:\n",
    "            if((len(self.MST)+1) <  self.graph.num_E):\n",
    "                u, v, w = e\n",
    "                if not self.check_cycle(u, v):\n",
    "                    self.MST.append(e)\n",
    "                    \n",
    "        return self.MST\n"
   ]
  },
  {
   "cell_type": "code",
   "execution_count": 3,
   "metadata": {},
   "outputs": [],
   "source": [
    "def get_time_kruskal(vertices, edges, num_V_E):\n",
    "    graph = Graph(vertices, edges, num_V_E[0], num_V_E[1])\n",
    "    algo = Kruskal_Efficient(graph)\n",
    "    gc.disable()\n",
    "    start_time = perf_counter_ns()\n",
    "    result = algo.execute()\n",
    "    end_time = perf_counter_ns()\n",
    "    gc.enable()\n",
    "    print(\"Running Time was: \", end_time-start_time)\n",
    "    return (end_time-start_time)"
   ]
  },
  {
   "cell_type": "code",
   "execution_count": 4,
   "metadata": {},
   "outputs": [
    {
     "ename": "NameError",
     "evalue": "name 'tqdm_notebook' is not defined",
     "output_type": "error",
     "traceback": [
      "\u001b[1;31m---------------------------------------------------------------------------\u001b[0m",
      "\u001b[1;31mNameError\u001b[0m                                 Traceback (most recent call last)",
      "\u001b[1;32m~\\AppData\\Local\\Temp/ipykernel_14792/1690660029.py\u001b[0m in \u001b[0;36m<module>\u001b[1;34m\u001b[0m\n\u001b[0;32m      1\u001b[0m \u001b[0mresults_k_efficient\u001b[0m \u001b[1;33m=\u001b[0m \u001b[1;33m[\u001b[0m\u001b[1;33m]\u001b[0m\u001b[1;33m\u001b[0m\u001b[1;33m\u001b[0m\u001b[0m\n\u001b[1;32m----> 2\u001b[1;33m \u001b[1;32mfor\u001b[0m \u001b[0mi\u001b[0m \u001b[1;32min\u001b[0m \u001b[0mtqdm_notebook\u001b[0m\u001b[1;33m(\u001b[0m\u001b[0mrange\u001b[0m\u001b[1;33m(\u001b[0m\u001b[0mlen\u001b[0m\u001b[1;33m(\u001b[0m\u001b[0mgraphs_kruskal\u001b[0m\u001b[1;33m)\u001b[0m\u001b[1;33m)\u001b[0m\u001b[1;33m)\u001b[0m\u001b[1;33m:\u001b[0m\u001b[1;33m\u001b[0m\u001b[1;33m\u001b[0m\u001b[0m\n\u001b[0m\u001b[0;32m      3\u001b[0m     \u001b[0mprint\u001b[0m\u001b[1;33m(\u001b[0m\u001b[1;34m\"|V| = \"\u001b[0m\u001b[1;33m,\u001b[0m \u001b[0mgraphs_kruskal\u001b[0m\u001b[1;33m[\u001b[0m\u001b[0mi\u001b[0m\u001b[1;33m]\u001b[0m\u001b[1;33m[\u001b[0m\u001b[1;36m0\u001b[0m\u001b[1;33m]\u001b[0m\u001b[1;33m[\u001b[0m\u001b[1;36m0\u001b[0m\u001b[1;33m]\u001b[0m\u001b[1;33m,\u001b[0m \u001b[1;34m\" |E| = \"\u001b[0m\u001b[1;33m,\u001b[0m \u001b[0mgraphs_kruskal\u001b[0m\u001b[1;33m[\u001b[0m\u001b[0mi\u001b[0m\u001b[1;33m]\u001b[0m\u001b[1;33m[\u001b[0m\u001b[1;36m0\u001b[0m\u001b[1;33m]\u001b[0m\u001b[1;33m[\u001b[0m\u001b[1;36m1\u001b[0m\u001b[1;33m]\u001b[0m\u001b[1;33m)\u001b[0m\u001b[1;33m\u001b[0m\u001b[1;33m\u001b[0m\u001b[0m\n\u001b[0;32m      4\u001b[0m     \u001b[0mresults_k_efficient\u001b[0m\u001b[1;33m.\u001b[0m\u001b[0mappend\u001b[0m\u001b[1;33m(\u001b[0m\u001b[1;33m(\u001b[0m\u001b[0mgraphs_kruskal\u001b[0m\u001b[1;33m[\u001b[0m\u001b[0mi\u001b[0m\u001b[1;33m]\u001b[0m\u001b[1;33m[\u001b[0m\u001b[1;36m0\u001b[0m\u001b[1;33m]\u001b[0m\u001b[1;33m[\u001b[0m\u001b[1;36m0\u001b[0m\u001b[1;33m]\u001b[0m\u001b[1;33m,\u001b[0m \u001b[0mget_time_kruskal\u001b[0m\u001b[1;33m(\u001b[0m\u001b[0mgraphs_kruskal\u001b[0m\u001b[1;33m[\u001b[0m\u001b[0mi\u001b[0m\u001b[1;33m]\u001b[0m\u001b[1;33m[\u001b[0m\u001b[1;36m1\u001b[0m\u001b[1;33m]\u001b[0m\u001b[1;33m,\u001b[0m \u001b[0mgraphs_kruskal\u001b[0m\u001b[1;33m[\u001b[0m\u001b[0mi\u001b[0m\u001b[1;33m]\u001b[0m\u001b[1;33m[\u001b[0m\u001b[1;36m2\u001b[0m\u001b[1;33m]\u001b[0m\u001b[1;33m,\u001b[0m \u001b[0mgraphs_kruskal\u001b[0m\u001b[1;33m[\u001b[0m\u001b[0mi\u001b[0m\u001b[1;33m]\u001b[0m\u001b[1;33m[\u001b[0m\u001b[1;36m0\u001b[0m\u001b[1;33m]\u001b[0m\u001b[1;33m)\u001b[0m\u001b[1;33m)\u001b[0m\u001b[1;33m)\u001b[0m\u001b[1;33m\u001b[0m\u001b[1;33m\u001b[0m\u001b[0m\n",
      "\u001b[1;31mNameError\u001b[0m: name 'tqdm_notebook' is not defined"
     ]
    }
   ],
   "source": [
    "results_k_efficient = []\n",
    "for i in tqdm_notebook(range(len(graphs_kruskal))):\n",
    "    print(\"|V| = \", graphs_kruskal[i][0][0], \" |E| = \", graphs_kruskal[i][0][1])\n",
    "    results_k_efficient.append((graphs_kruskal[i][0][0], get_time_kruskal(graphs_kruskal[i][1], graphs_kruskal[i][2], graphs_kruskal[i][0])))"
   ]
  },
  {
   "cell_type": "code",
   "execution_count": 5,
   "metadata": {},
   "outputs": [
    {
     "ename": "NameError",
     "evalue": "name 'results_k_efficient' is not defined",
     "output_type": "error",
     "traceback": [
      "\u001b[0;31m---------------------------------------------------------------------------\u001b[0m",
      "\u001b[0;31mNameError\u001b[0m                                 Traceback (most recent call last)",
      "\u001b[0;32m<ipython-input-5-7d8382bec85c>\u001b[0m in \u001b[0;36m<module>\u001b[0;34m\u001b[0m\n\u001b[1;32m      1\u001b[0m \u001b[0;32mimport\u001b[0m \u001b[0mmatplotlib\u001b[0m\u001b[0;34m.\u001b[0m\u001b[0mpyplot\u001b[0m \u001b[0;32mas\u001b[0m \u001b[0mplt\u001b[0m\u001b[0;34m\u001b[0m\u001b[0;34m\u001b[0m\u001b[0m\n\u001b[0;32m----> 2\u001b[0;31m \u001b[0mresults_k_efficient\u001b[0m \u001b[0;34m=\u001b[0m \u001b[0msorted\u001b[0m\u001b[0;34m(\u001b[0m\u001b[0mresults_k_efficient\u001b[0m\u001b[0;34m,\u001b[0m \u001b[0mkey\u001b[0m\u001b[0;34m=\u001b[0m\u001b[0;32mlambda\u001b[0m \u001b[0mresults\u001b[0m\u001b[0;34m:\u001b[0m \u001b[0mresults\u001b[0m\u001b[0;34m[\u001b[0m\u001b[0;36m0\u001b[0m\u001b[0;34m]\u001b[0m\u001b[0;34m)\u001b[0m\u001b[0;34m\u001b[0m\u001b[0;34m\u001b[0m\u001b[0m\n\u001b[0m\u001b[1;32m      3\u001b[0m \u001b[0mprint\u001b[0m\u001b[0;34m(\u001b[0m\u001b[0mresults_k_efficient\u001b[0m\u001b[0;34m)\u001b[0m\u001b[0;34m\u001b[0m\u001b[0;34m\u001b[0m\u001b[0m\n\u001b[1;32m      4\u001b[0m \u001b[0mx_val\u001b[0m \u001b[0;34m=\u001b[0m \u001b[0;34m[\u001b[0m\u001b[0mx\u001b[0m\u001b[0;34m[\u001b[0m\u001b[0;36m0\u001b[0m\u001b[0;34m]\u001b[0m \u001b[0;32mfor\u001b[0m \u001b[0mx\u001b[0m \u001b[0;32min\u001b[0m \u001b[0mresults_k_efficient\u001b[0m\u001b[0;34m]\u001b[0m\u001b[0;34m\u001b[0m\u001b[0;34m\u001b[0m\u001b[0m\n\u001b[1;32m      5\u001b[0m \u001b[0my_val\u001b[0m \u001b[0;34m=\u001b[0m \u001b[0;34m[\u001b[0m\u001b[0mx\u001b[0m\u001b[0;34m[\u001b[0m\u001b[0;36m1\u001b[0m\u001b[0;34m]\u001b[0m \u001b[0;32mfor\u001b[0m \u001b[0mx\u001b[0m \u001b[0;32min\u001b[0m \u001b[0mresults_k_efficient\u001b[0m\u001b[0;34m]\u001b[0m\u001b[0;34m\u001b[0m\u001b[0;34m\u001b[0m\u001b[0m\n",
      "\u001b[0;31mNameError\u001b[0m: name 'results_k_efficient' is not defined"
     ]
    }
   ],
   "source": [
    "import matplotlib.pyplot as plt\n",
    "results_k_efficient = sorted(results_k_efficient, key=lambda results: results[0])\n",
    "print(results_k_efficient)\n",
    "x_val = [x[0] for x in results_k_efficient]\n",
    "y_val = [x[1] for x in results_k_efficient]\n",
    "\n",
    "plt.plot(x_val,y_val,'--')\n",
    "plt.plot(x_val,y_val,'og')\n",
    "plt.ylabel(\"Execution time (milliseconds)\")\n",
    "plt.xlabel(\"Number of vertices\")\n",
    "plt.show()"
   ]
  },
  {
   "cell_type": "markdown",
   "metadata": {},
   "source": [
    "# Kruskal Naive"
   ]
  },
  {
   "cell_type": "code",
   "execution_count": 5,
   "metadata": {},
   "outputs": [],
   "source": [
    "class Kruskal_Naive:\n",
    "    def __init__(self, graph):\n",
    "        self.graph = graph\n",
    "        self.MST = {} # adjacency list\n",
    "        self.MST_edges = [] # edges\n",
    "        \n",
    "    def dfs_cycle(self, visited, G, v, parent):   \n",
    "        visited.add(v)\n",
    "        for neighbour in G[v]:\n",
    "            if neighbour != parent and neighbour in visited:\n",
    "                return True\n",
    "            elif neighbour != parent:            \n",
    "                return self.dfs_cycle(visited, G, neighbour, v)\n",
    "        return False\n",
    "    \n",
    "    def check_cycle(self, edge):\n",
    "        u, v, w = edge\n",
    "        if (u in self.MST and v in self.MST[u]) or (v in self.MST and u in self.MST[v]):\n",
    "            return True\n",
    "        visited = set()\n",
    "        # create a graph to check the edge addition\n",
    "        MST_with_e = {}\n",
    "        # add target edge\n",
    "        MST_with_e[u] = [v]\n",
    "        MST_with_e[v] = [u]\n",
    "        # populate with MST edges\n",
    "        for i in range(len(self.MST_edges)):\n",
    "            a, b, w = self.MST_edges[i]\n",
    "            if a not in MST_with_e:\n",
    "                MST_with_e[a] = []\n",
    "            if b not in MST_with_e:\n",
    "                MST_with_e[b] = []\n",
    "            MST_with_e[a].append(b)\n",
    "            MST_with_e[b].append(a)\n",
    "        \n",
    "        return self.dfs_cycle(visited, MST_with_e, u, '-1')\n",
    "    \n",
    "    def execute(self):\n",
    "        # sorting based on the weight of the edges    \n",
    "        E = sorted(self.graph.E, key = lambda m: m[2])   \n",
    "        for e in E:\n",
    "#             print(\"e: \",e)\n",
    "#             print(\"MST: \", self.MST)\n",
    "            if not self.check_cycle(e):\n",
    "                self.MST_edges.append(e)\n",
    "                if e[0] not in self.MST:\n",
    "                    self.MST[e[0]] = []\n",
    "                self.MST[e[0]].append(e[1])\n",
    "            print(\"MST\", self.MST)\n",
    "#                     print()\n",
    "#                     print(\"--------------------------------------------------------------------------------------\")\n",
    "        return self.MST_edges"
   ]
  },
  {
   "cell_type": "code",
   "execution_count": 8,
   "metadata": {},
   "outputs": [],
   "source": [
    "def get_time_kruskal(vertices, edges, num_V_E):\n",
    "    print(vertices)\n",
    "    print(edges)\n",
    "    graph = Graph(vertices, edges, num_V_E[0], num_V_E[1])\n",
    "    algo = Kruskal_Naive(graph)\n",
    "    gc.disable()\n",
    "    start_time = perf_counter_ns()\n",
    "    full_edges  = algo.execute()\n",
    "    end_time = perf_counter_ns()\n",
    "    gc.enable()\n",
    "    print(\"Running Time was: \", end_time-start_time)\n",
    "    print(full_edges)\n",
    "    print(\"Total weight: {}\".format(sum([e[2] for e in full_edges])))\n",
    "    return (end_time-start_time)"
   ]
  },
  {
   "cell_type": "code",
   "execution_count": 9,
   "metadata": {},
   "outputs": [
    {
     "data": {
      "application/vnd.jupyter.widget-view+json": {
       "model_id": "1e396f51870744da8083c6fcca460ac0",
       "version_major": 2,
       "version_minor": 0
      },
      "text/plain": [
       "HBox(children=(IntProgress(value=0, max=3), HTML(value='')))"
      ]
     },
     "metadata": {},
     "output_type": "display_data"
    },
    {
     "name": "stdout",
     "output_type": "stream",
     "text": [
      "|V| =  10  |E| =  9\n",
      "['9', '2', '10', '6', '4', '5', '7', '8', '1', '3']\n",
      "[('1', '2', 4993), ('2', '3', 1392), ('3', '4', 8856), ('4', '5', -433), ('5', '6', 6590), ('6', '7', -7462), ('7', '8', 6658), ('8', '9', -976), ('9', '10', 9698)]\n",
      "MST {'6': ['7']}\n",
      "MST {'6': ['7'], '8': ['9']}\n",
      "MST {'6': ['7'], '8': ['9'], '4': ['5']}\n",
      "MST {'6': ['7'], '8': ['9'], '4': ['5'], '2': ['3']}\n",
      "MST {'6': ['7'], '8': ['9'], '4': ['5'], '2': ['3'], '1': ['2']}\n",
      "MST {'6': ['7'], '8': ['9'], '4': ['5'], '2': ['3'], '1': ['2'], '5': ['6']}\n",
      "MST {'6': ['7'], '8': ['9'], '4': ['5'], '2': ['3'], '1': ['2'], '5': ['6'], '7': ['8']}\n",
      "MST {'6': ['7'], '8': ['9'], '4': ['5'], '2': ['3'], '1': ['2'], '5': ['6'], '7': ['8'], '3': ['4']}\n",
      "MST {'6': ['7'], '8': ['9'], '4': ['5'], '2': ['3'], '1': ['2'], '5': ['6'], '7': ['8'], '3': ['4'], '9': ['10']}\n",
      "Running Time was:  550331\n",
      "[('6', '7', -7462), ('8', '9', -976), ('4', '5', -433), ('2', '3', 1392), ('1', '2', 4993), ('5', '6', 6590), ('7', '8', 6658), ('3', '4', 8856), ('9', '10', 9698)]\n",
      "Total weight: 29316\n",
      "|V| =  10  |E| =  11\n",
      "['9', '2', '10', '6', '4', '5', '7', '8', '1', '3']\n",
      "[('1', '2', 4188), ('2', '3', -4502), ('3', '4', 6938), ('4', '5', 3256), ('5', '6', 7605), ('6', '7', 8856), ('7', '8', -7786), ('8', '9', 9244), ('8', '4', 5906), ('9', '10', 7091), ('9', '6', -5756)]\n",
      "MST {'7': ['8']}\n",
      "MST {'7': ['8'], '9': ['6']}\n",
      "MST {'7': ['8'], '9': ['6'], '2': ['3']}\n",
      "MST {'7': ['8'], '9': ['6'], '2': ['3'], '4': ['5']}\n",
      "MST {'7': ['8'], '9': ['6'], '2': ['3'], '4': ['5'], '1': ['2']}\n",
      "MST {'7': ['8'], '9': ['6'], '2': ['3'], '4': ['5'], '1': ['2'], '8': ['4']}\n",
      "MST {'7': ['8'], '9': ['6'], '2': ['3'], '4': ['5'], '1': ['2'], '8': ['4'], '3': ['4']}\n",
      "MST {'7': ['8'], '9': ['6', '10'], '2': ['3'], '4': ['5'], '1': ['2'], '8': ['4'], '3': ['4']}\n",
      "MST {'7': ['8'], '9': ['6', '10'], '2': ['3'], '4': ['5'], '1': ['2'], '8': ['4'], '3': ['4'], '5': ['6']}\n",
      "MST {'7': ['8'], '9': ['6', '10'], '2': ['3'], '4': ['5'], '1': ['2'], '8': ['4'], '3': ['4'], '5': ['6']}\n",
      "MST {'7': ['8'], '9': ['6', '10'], '2': ['3'], '4': ['5'], '1': ['2'], '8': ['4'], '3': ['4'], '5': ['6']}\n",
      "Running Time was:  495356\n",
      "[('7', '8', -7786), ('9', '6', -5756), ('2', '3', -4502), ('4', '5', 3256), ('1', '2', 4188), ('8', '4', 5906), ('3', '4', 6938), ('9', '10', 7091), ('5', '6', 7605)]\n",
      "Total weight: 16940\n",
      "|V| =  20  |E| =  24\n",
      "['20', '3', '4', '5', '7', '17', '1', '9', '13', '10', '11', '18', '12', '2', '16', '6', '15', '8', '14', '19']\n",
      "[('1', '2', 2102), ('2', '3', 5737), ('3', '4', 5493), ('4', '5', 1115), ('4', '6', 8127), ('5', '6', 5305), ('5', '15', -1372), ('6', '7', 8271), ('7', '8', 2703), ('8', '9', 4917), ('9', '10', 9529), ('10', '11', -2771), ('11', '12', 6223), ('12', '13', 1795), ('13', '14', -9188), ('14', '15', 5201), ('15', '16', -984), ('15', '6', -9983), ('16', '17', 1810), ('16', '13', 406), ('17', '18', -4030), ('18', '19', 6230), ('19', '20', 6656), ('19', '19', 118)]\n",
      "MST {'15': ['6']}\n",
      "MST {'15': ['6'], '13': ['14']}\n",
      "MST {'15': ['6'], '13': ['14'], '17': ['18']}\n",
      "MST {'15': ['6'], '13': ['14'], '17': ['18'], '10': ['11']}\n",
      "MST {'15': ['6'], '13': ['14'], '17': ['18'], '10': ['11'], '5': ['15']}\n",
      "MST {'15': ['6', '16'], '13': ['14'], '17': ['18'], '10': ['11'], '5': ['15']}\n",
      "MST {'15': ['6', '16'], '13': ['14'], '17': ['18'], '10': ['11'], '5': ['15']}\n",
      "MST {'15': ['6', '16'], '13': ['14'], '17': ['18'], '10': ['11'], '5': ['15'], '16': ['13']}\n",
      "MST {'15': ['6', '16'], '13': ['14'], '17': ['18'], '10': ['11'], '5': ['15'], '16': ['13'], '4': ['5']}\n",
      "MST {'15': ['6', '16'], '13': ['14'], '17': ['18'], '10': ['11'], '5': ['15'], '16': ['13'], '4': ['5'], '12': ['13']}\n",
      "MST {'15': ['6', '16'], '13': ['14'], '17': ['18'], '10': ['11'], '5': ['15'], '16': ['13', '17'], '4': ['5'], '12': ['13']}\n",
      "MST {'15': ['6', '16'], '13': ['14'], '17': ['18'], '10': ['11'], '5': ['15'], '16': ['13', '17'], '4': ['5'], '12': ['13'], '1': ['2']}\n",
      "MST {'15': ['6', '16'], '13': ['14'], '17': ['18'], '10': ['11'], '5': ['15'], '16': ['13', '17'], '4': ['5'], '12': ['13'], '1': ['2'], '7': ['8']}\n",
      "MST {'15': ['6', '16'], '13': ['14'], '17': ['18'], '10': ['11'], '5': ['15'], '16': ['13', '17'], '4': ['5'], '12': ['13'], '1': ['2'], '7': ['8'], '8': ['9']}\n",
      "MST {'15': ['6', '16'], '13': ['14'], '17': ['18'], '10': ['11'], '5': ['15'], '16': ['13', '17'], '4': ['5'], '12': ['13'], '1': ['2'], '7': ['8'], '8': ['9'], '14': ['15']}\n",
      "MST {'15': ['6', '16'], '13': ['14'], '17': ['18'], '10': ['11'], '5': ['15'], '16': ['13', '17'], '4': ['5'], '12': ['13'], '1': ['2'], '7': ['8'], '8': ['9'], '14': ['15']}\n",
      "MST {'15': ['6', '16'], '13': ['14'], '17': ['18'], '10': ['11'], '5': ['15'], '16': ['13', '17'], '4': ['5'], '12': ['13'], '1': ['2'], '7': ['8'], '8': ['9'], '14': ['15'], '3': ['4']}\n",
      "MST {'15': ['6', '16'], '13': ['14'], '17': ['18'], '10': ['11'], '5': ['15'], '16': ['13', '17'], '4': ['5'], '12': ['13'], '1': ['2'], '7': ['8'], '8': ['9'], '14': ['15'], '3': ['4'], '2': ['3']}\n",
      "MST {'15': ['6', '16'], '13': ['14'], '17': ['18'], '10': ['11'], '5': ['15'], '16': ['13', '17'], '4': ['5'], '12': ['13'], '1': ['2'], '7': ['8'], '8': ['9'], '14': ['15'], '3': ['4'], '2': ['3'], '11': ['12']}\n",
      "MST {'15': ['6', '16'], '13': ['14'], '17': ['18'], '10': ['11'], '5': ['15'], '16': ['13', '17'], '4': ['5'], '12': ['13'], '1': ['2'], '7': ['8'], '8': ['9'], '14': ['15'], '3': ['4'], '2': ['3'], '11': ['12'], '18': ['19']}\n",
      "MST {'15': ['6', '16'], '13': ['14'], '17': ['18'], '10': ['11'], '5': ['15'], '16': ['13', '17'], '4': ['5'], '12': ['13'], '1': ['2'], '7': ['8'], '8': ['9'], '14': ['15'], '3': ['4'], '2': ['3'], '11': ['12'], '18': ['19'], '19': ['20']}\n",
      "MST {'15': ['6', '16'], '13': ['14'], '17': ['18'], '10': ['11'], '5': ['15'], '16': ['13', '17'], '4': ['5'], '12': ['13'], '1': ['2'], '7': ['8'], '8': ['9'], '14': ['15'], '3': ['4'], '2': ['3'], '11': ['12'], '18': ['19'], '19': ['20']}\n",
      "MST {'15': ['6', '16'], '13': ['14'], '17': ['18'], '10': ['11'], '5': ['15'], '16': ['13', '17'], '4': ['5'], '12': ['13'], '1': ['2'], '7': ['8'], '8': ['9'], '14': ['15'], '3': ['4'], '2': ['3'], '11': ['12'], '18': ['19'], '19': ['20'], '6': ['7']}\n",
      "MST {'15': ['6', '16'], '13': ['14'], '17': ['18'], '10': ['11'], '5': ['15'], '16': ['13', '17'], '4': ['5'], '12': ['13'], '1': ['2'], '7': ['8'], '8': ['9'], '14': ['15'], '3': ['4'], '2': ['3'], '11': ['12'], '18': ['19'], '19': ['20'], '6': ['7']}\n",
      "Running Time was:  5772295\n",
      "[('15', '6', -9983), ('13', '14', -9188), ('17', '18', -4030), ('10', '11', -2771), ('5', '15', -1372), ('15', '16', -984), ('16', '13', 406), ('4', '5', 1115), ('12', '13', 1795), ('16', '17', 1810), ('1', '2', 2102), ('7', '8', 2703), ('8', '9', 4917), ('14', '15', 5201), ('3', '4', 5493), ('2', '3', 5737), ('11', '12', 6223), ('18', '19', 6230), ('19', '20', 6656), ('6', '7', 8271)]\n",
      "Total weight: 30331\n",
      "\n"
     ]
    }
   ],
   "source": [
    "results_k_naive = []\n",
    "for i in tqdm_notebook(range(len(graphs_kruskal[:10]))):\n",
    "    print(\"|V| = \", graphs_kruskal[i][0][0], \" |E| = \", graphs_kruskal[i][0][1])\n",
    "    results_k_naive.append((graphs_kruskal[i][0][0], get_time_kruskal(graphs_kruskal[i][1], graphs_kruskal[i][2], graphs_kruskal[i][0])))"
   ]
  },
  {
   "cell_type": "raw",
   "metadata": {},
   "source": [
    "import matplotlib.pyplot as plt\n",
    "results_k_naive = sorted(results_k_naive, key=lambda results: results[0])\n",
    "print(results_k_naive)\n",
    "x_val = [x[0] for x in results_k_naive]\n",
    "y_val = [x[1] for x in results_k_naive]\n",
    "\n",
    "plt.plot(x_val,y_val,'--')\n",
    "plt.plot(x_val,y_val,'og')\n",
    "plt.ylabel(\"Execution time (milliseconds)\")\n",
    "plt.xlabel(\"Number of vertices\")\n",
    "plt.show()"
   ]
  },
  {
   "cell_type": "code",
   "execution_count": 13,
   "metadata": {},
   "outputs": [],
   "source": [
    "plt.show()"
   ]
  },
  {
   "cell_type": "code",
   "execution_count": null,
   "metadata": {},
   "outputs": [],
   "source": []
  }
 ],
 "metadata": {
  "kernelspec": {
   "display_name": "Python 3 (ipykernel)",
   "language": "python",
   "name": "python3"
  },
  "language_info": {
   "codemirror_mode": {
    "name": "ipython",
    "version": 3
   },
   "file_extension": ".py",
   "mimetype": "text/x-python",
   "name": "python",
   "nbconvert_exporter": "python",
   "pygments_lexer": "ipython3",
   "version": "3.9.7"
  }
 },
 "nbformat": 4,
 "nbformat_minor": 2
}

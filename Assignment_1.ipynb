{
 "cells": [
  {
   "cell_type": "markdown",
   "metadata": {},
   "source": [
    "# Initialize global variables"
   ]
  },
  {
   "cell_type": "code",
   "execution_count": 3,
   "metadata": {},
   "outputs": [],
   "source": [
    "import random\n",
    "import os\n",
    "import glob\n",
    "from tqdm.notebook import tqdm_notebook # for a progress bar\n",
    "from time import perf_counter_ns\n",
    "import gc\n",
    "# go to directory with test files\n",
    "os.chdir('prim')"
   ]
  },
  {
   "cell_type": "code",
   "execution_count": 3,
   "metadata": {},
   "outputs": [],
   "source": [
    "def parse_input_file_prim(file_address):\n",
    "    vertices = set()\n",
    "    edges = [] \n",
    "    with open(glob.glob(file_address)[0]) as f:\n",
    "        lines = f.readlines()\n",
    "    num_V_E = [int(x) for x in lines[0].split()]\n",
    "    lines = lines[1:]\n",
    "    for line in lines:\n",
    "        x = line.split()\n",
    "        vertices.add(x[0])\n",
    "        vertices.add(x[1])\n",
    "        edges.append((int(x[2]), x[0], x[1])) #heapq ranks tuples based on the first value!\n",
    "    vertices = list(vertices)\n",
    "    return vertices, edges, num_V_E"
   ]
  },
  {
   "cell_type": "code",
   "execution_count": 4,
   "metadata": {},
   "outputs": [
    {
     "data": {
      "application/vnd.jupyter.widget-view+json": {
       "model_id": "0e8c83fe8852456fa3f3d2286c81b6ed",
       "version_major": 2,
       "version_minor": 0
      },
      "text/plain": [
       "  0%|          | 0/68 [00:00<?, ?it/s]"
      ]
     },
     "metadata": {},
     "output_type": "display_data"
    }
   ],
   "source": [
    "graphs_prim = []\n",
    "for file in tqdm_notebook(os.listdir()):\n",
    "    vertices, edges, num_V_E = parse_input_file_prim(file) \n",
    "    graphs_prim.append((num_V_E, vertices, edges))"
   ]
  },
  {
   "cell_type": "markdown",
   "metadata": {},
   "source": [
    "# Prim "
   ]
  },
  {
   "cell_type": "code",
   "execution_count": 5,
   "metadata": {},
   "outputs": [],
   "source": [
    "import heapq\n",
    "def Prim(vertices, edges):\n",
    "    S = set() #keep track of touched vertices\n",
    "    V = set(vertices)\n",
    "    S.add(vertices[0])\n",
    "    MST = [] #our MST, a list of (w, u, v)\n",
    "    not_S = set(vertices[1:]) #untouched vertices\n",
    "    while not S == V:\n",
    "        light_edge = find_lightest_edge(S, not_S, edges)\n",
    "        MST.append(light_edge) #populate our MST on each iteration\n",
    "        S.add(light_edge[1]) #add only the Vertices\n",
    "        S.add(light_edge[2]) \n",
    "        not_S = populate_set(vertices, S)\n",
    "    return MST\n",
    "\n",
    "def populate_set(vertices, Set1):\n",
    "    # make set2 and set1 mutually disjoint\n",
    "    Set2 = set()\n",
    "    for v in vertices:\n",
    "        if not v in Set1:\n",
    "            Set2.add(v)\n",
    "    return Set2\n",
    "    \n",
    "def find_lightest_edge(Set1, Set2, SetGlobal):\n",
    "    heap = []\n",
    "    for (w, u, v) in SetGlobal:\n",
    "        if (u in Set1 and v in Set2) or (v in Set1 and u in Set2):\n",
    "            heapq.heappush(heap,(w, u, v))\n",
    "    return heap[0]\n",
    "\n",
    "def MSTweight(MST):\n",
    "    sum = 0\n",
    "    for (w ,u ,v) in MST:\n",
    "        sum = sum + w\n",
    "    return sum"
   ]
  },
  {
   "cell_type": "code",
   "execution_count": 6,
   "metadata": {},
   "outputs": [],
   "source": [
    "def get_time_prim(vertices, edges):\n",
    "    gc.disable() #disable garbage collector\n",
    "    start_time = perf_counter_ns() \n",
    "    theMST = Prim(vertices, edges)\n",
    "    end_time = perf_counter_ns()\n",
    "    gc.enable()\n",
    "    print(\"Running Time was: \", end_time-start_time)\n",
    "    print(\"The Weight of MST is: \", MSTweight(theMST))\n",
    "    return (end_time-start_time)"
   ]
  },
  {
   "cell_type": "code",
   "execution_count": 7,
   "metadata": {},
   "outputs": [
    {
     "data": {
      "application/vnd.jupyter.widget-view+json": {
       "model_id": "50d6ac4ba6724fdd987e2366f10828c1",
       "version_major": 2,
       "version_minor": 0
      },
      "text/plain": [
       "  0%|          | 0/68 [00:00<?, ?it/s]"
      ]
     },
     "metadata": {},
     "output_type": "display_data"
    },
    {
     "name": "stdout",
     "output_type": "stream",
     "text": [
      "|V| =  40  |E| =  52\n",
      "Running Time was:  571900\n",
      "The Weight of MST is:  -97121\n",
      "|V| =  40  |E| =  51\n",
      "Running Time was:  346500\n",
      "The Weight of MST is:  -64386\n",
      "|V| =  40  |E| =  55\n",
      "Running Time was:  346400\n",
      "The Weight of MST is:  -41633\n",
      "|V| =  80  |E| =  103\n",
      "Running Time was:  1239300\n",
      "The Weight of MST is:  -240676\n",
      "|V| =  80  |E| =  110\n",
      "Running Time was:  1487600\n",
      "The Weight of MST is:  -139945\n",
      "|V| =  80  |E| =  107\n",
      "Running Time was:  1385500\n",
      "The Weight of MST is:  -194537\n",
      "|V| =  80  |E| =  109\n",
      "Running Time was:  1315100\n",
      "The Weight of MST is:  -185494\n",
      "|V| =  100  |E| =  134\n",
      "Running Time was:  2483500\n",
      "The Weight of MST is:  -194931\n",
      "|V| =  100  |E| =  129\n",
      "Running Time was:  1952000\n",
      "The Weight of MST is:  -184735\n",
      "|V| =  100  |E| =  131\n",
      "Running Time was:  1990500\n",
      "The Weight of MST is:  -217244\n",
      "|V| =  10  |E| =  10\n",
      "Running Time was:  24000\n",
      "The Weight of MST is:  -7430\n",
      "|V| =  100  |E| =  125\n",
      "Running Time was:  1939200\n",
      "The Weight of MST is:  -183953\n",
      "|V| =  200  |E| =  260\n",
      "Running Time was:  8082000\n",
      "The Weight of MST is:  -352299\n",
      "|V| =  200  |E| =  271\n",
      "Running Time was:  7891200\n",
      "The Weight of MST is:  -628213\n",
      "|V| =  200  |E| =  257\n",
      "Running Time was:  7603400\n",
      "The Weight of MST is:  -246552\n",
      "|V| =  200  |E| =  262\n",
      "Running Time was:  7953400\n",
      "The Weight of MST is:  -513349\n",
      "|V| =  400  |E| =  546\n",
      "Running Time was:  34503800\n",
      "The Weight of MST is:  -1120098\n",
      "|V| =  400  |E| =  530\n",
      "Running Time was:  33490400\n",
      "The Weight of MST is:  -869853\n",
      "|V| =  400  |E| =  530\n",
      "Running Time was:  32684800\n",
      "The Weight of MST is:  -894732\n",
      "|V| =  400  |E| =  540\n",
      "Running Time was:  34072400\n",
      "The Weight of MST is:  -1120351\n",
      "|V| =  800  |E| =  1066\n",
      "Running Time was:  136868000\n",
      "The Weight of MST is:  -1461632\n",
      "|V| =  10  |E| =  13\n",
      "Running Time was:  33500\n",
      "The Weight of MST is:  -12829\n",
      "|V| =  800  |E| =  1062\n",
      "Running Time was:  135395600\n",
      "The Weight of MST is:  -1837558\n",
      "|V| =  800  |E| =  1040\n",
      "Running Time was:  130161100\n",
      "The Weight of MST is:  -1390831\n",
      "|V| =  800  |E| =  1061\n",
      "Running Time was:  133434400\n",
      "The Weight of MST is:  -1739674\n",
      "|V| =  1000  |E| =  1333\n",
      "Running Time was:  209607900\n",
      "The Weight of MST is:  -2357954\n",
      "|V| =  1000  |E| =  1346\n",
      "Running Time was:  213754400\n",
      "The Weight of MST is:  -2481259\n",
      "|V| =  1000  |E| =  1316\n",
      "Running Time was:  204260800\n",
      "The Weight of MST is:  -2266377\n",
      "|V| =  1000  |E| =  1352\n",
      "Running Time was:  218018100\n",
      "The Weight of MST is:  -2443122\n",
      "|V| =  2000  |E| =  2677\n",
      "Running Time was:  891738600\n",
      "The Weight of MST is:  -4394252\n",
      "|V| =  2000  |E| =  2678\n",
      "Running Time was:  898465300\n",
      "The Weight of MST is:  -4537355\n",
      "|V| =  2000  |E| =  2680\n",
      "Running Time was:  889159400\n",
      "The Weight of MST is:  -4890391\n",
      "|V| =  10  |E| =  13\n",
      "Running Time was:  29400\n",
      "The Weight of MST is:  -12572\n",
      "|V| =  2000  |E| =  2690\n",
      "Running Time was:  910125800\n",
      "The Weight of MST is:  -5102660\n",
      "|V| =  4000  |E| =  5329\n",
      "Running Time was:  3527424100\n",
      "The Weight of MST is:  -9576868\n",
      "|V| =  4000  |E| =  5340\n",
      "Running Time was:  3595979500\n",
      "The Weight of MST is:  -9640142\n",
      "|V| =  4000  |E| =  5396\n",
      "Running Time was:  3625231700\n",
      "The Weight of MST is:  -8921074\n",
      "|V| =  4000  |E| =  5368\n",
      "Running Time was:  3661937500\n",
      "The Weight of MST is:  -9497610\n",
      "|V| =  8000  |E| =  10684\n",
      "Running Time was:  14946859200\n",
      "The Weight of MST is:  -19213840\n",
      "|V| =  8000  |E| =  10698\n",
      "Running Time was:  14723164800\n",
      "The Weight of MST is:  -18790520\n",
      "|V| =  8000  |E| =  10628\n",
      "Running Time was:  14599143700\n",
      "The Weight of MST is:  -17529375\n",
      "|V| =  8000  |E| =  10656\n",
      "Running Time was:  15127928900\n",
      "The Weight of MST is:  -18097759\n",
      "|V| =  10000  |E| =  13259\n",
      "Running Time was:  23383172800\n",
      "The Weight of MST is:  -22401836\n",
      "|V| =  10  |E| =  11\n",
      "Running Time was:  27900\n",
      "The Weight of MST is:  -45855\n",
      "|V| =  10000  |E| =  13383\n",
      "Running Time was:  22737335600\n",
      "The Weight of MST is:  -23376525\n",
      "|V| =  10000  |E| =  13349\n",
      "Running Time was:  22808731300\n",
      "The Weight of MST is:  -23194188\n",
      "|V| =  10000  |E| =  13314\n",
      "Running Time was:  23072231600\n",
      "The Weight of MST is:  -22983003\n",
      "|V| =  20000  |E| =  26656\n",
      "Running Time was:  106005614600\n",
      "The Weight of MST is:  -45709719\n",
      "|V| =  20000  |E| =  26619\n",
      "Running Time was:  105631635500\n",
      "The Weight of MST is:  -47053370\n",
      "|V| =  20000  |E| =  26685\n",
      "Running Time was:  101904117700\n",
      "The Weight of MST is:  -46946232\n",
      "|V| =  20000  |E| =  26553\n",
      "Running Time was:  103504139900\n",
      "The Weight of MST is:  -45507963\n",
      "|V| =  40000  |E| =  53376\n",
      "Running Time was:  557280065300\n",
      "The Weight of MST is:  -90950740\n",
      "|V| =  40000  |E| =  53455\n",
      "Running Time was:  551891321500\n",
      "The Weight of MST is:  -93152052\n",
      "|V| =  40000  |E| =  53295\n",
      "Running Time was:  551483565100\n",
      "The Weight of MST is:  -95392335\n",
      "|V| =  20  |E| =  25\n",
      "Running Time was:  91200\n",
      "The Weight of MST is:  -10519\n",
      "|V| =  40000  |E| =  53240\n",
      "Running Time was:  544082208200\n",
      "The Weight of MST is:  -93801125\n",
      "|V| =  80000  |E| =  106790\n",
      "Running Time was:  2478429175000\n",
      "The Weight of MST is:  -184569678\n",
      "|V| =  80000  |E| =  106603\n",
      "Running Time was:  2492984700900\n",
      "The Weight of MST is:  -181889635\n",
      "|V| =  80000  |E| =  106618\n",
      "Running Time was:  2620204579200\n",
      "The Weight of MST is:  -185565323\n",
      "|V| =  80000  |E| =  106685\n",
      "Running Time was:  2610450370400\n",
      "The Weight of MST is:  -180481302\n",
      "|V| =  100000  |E| =  133127\n",
      "Running Time was:  4227941673900\n",
      "The Weight of MST is:  -227543865\n",
      "|V| =  100000  |E| =  133417\n",
      "Running Time was:  4257019386700\n",
      "The Weight of MST is:  -228259330\n",
      "|V| =  100000  |E| =  133588\n",
      "Running Time was:  3967225259000\n",
      "The Weight of MST is:  -227369108\n",
      "|V| =  100000  |E| =  133243\n",
      "Running Time was:  3960368585300\n",
      "The Weight of MST is:  -229263767\n",
      "|V| =  20  |E| =  27\n",
      "Running Time was:  5147100\n",
      "The Weight of MST is:  -15557\n",
      "|V| =  20  |E| =  27\n",
      "Running Time was:  152800\n",
      "The Weight of MST is:  -53738\n",
      "|V| =  20  |E| =  23\n",
      "Running Time was:  92200\n",
      "The Weight of MST is:  36532\n",
      "|V| =  40  |E| =  56\n",
      "Running Time was:  550600\n",
      "The Weight of MST is:  -49942\n"
     ]
    }
   ],
   "source": [
    "results = []\n",
    "# make a progress bar, print results\n",
    "for i in tqdm_notebook(range(len(graphs_prim))):\n",
    "    print(\"|V| = \", graphs_prim[i][0][0], \" |E| = \", graphs_prim[i][0][1])\n",
    "    results.append((graphs_prim[i][0][0], get_time_prim(graphs_prim[i][1], graphs_prim[i][2])))"
   ]
  },
  {
   "cell_type": "code",
   "execution_count": 8,
   "metadata": {},
   "outputs": [
    {
     "name": "stdout",
     "output_type": "stream",
     "text": [
      "[(10, 24000), (10, 33500), (10, 29400), (10, 27900), (20, 91200), (20, 5147100), (20, 152800), (20, 92200), (40, 571900), (40, 346500), (40, 346400), (40, 550600), (80, 1239300), (80, 1487600), (80, 1385500), (80, 1315100), (100, 2483500), (100, 1952000), (100, 1990500), (100, 1939200), (200, 8082000), (200, 7891200), (200, 7603400), (200, 7953400), (400, 34503800), (400, 33490400), (400, 32684800), (400, 34072400), (800, 136868000), (800, 135395600), (800, 130161100), (800, 133434400), (1000, 209607900), (1000, 213754400), (1000, 204260800), (1000, 218018100), (2000, 891738600), (2000, 898465300), (2000, 889159400), (2000, 910125800), (4000, 3527424100), (4000, 3595979500), (4000, 3625231700), (4000, 3661937500), (8000, 14946859200), (8000, 14723164800), (8000, 14599143700), (8000, 15127928900), (10000, 23383172800), (10000, 22737335600), (10000, 22808731300), (10000, 23072231600), (20000, 106005614600), (20000, 105631635500), (20000, 101904117700), (20000, 103504139900), (40000, 557280065300), (40000, 551891321500), (40000, 551483565100), (40000, 544082208200), (80000, 2478429175000), (80000, 2492984700900), (80000, 2620204579200), (80000, 2610450370400), (100000, 4227941673900), (100000, 4257019386700), (100000, 3967225259000), (100000, 3960368585300)]\n"
     ]
    },
    {
     "data": {
      "image/png": "[encoded data removed]",
      "text/plain": [
       "<Figure size 432x288 with 1 Axes>"
      ]
     },
     "metadata": {
      "needs_background": "light"
     },
     "output_type": "display_data"
    }
   ],
   "source": [
    "import matplotlib.pyplot as plt\n",
    "results = sorted(results,key=lambda results: results[0])\n",
    "x_val = [x[0] for x in results]\n",
    "y_val = [x[1] for x in results]\n",
    "\n",
    "# build the plot\n",
    "plt.plot(x_val,y_val,'--')\n",
    "plt.plot(x_val,y_val,'og')\n",
    "plt.ylabel(\"Execution time (milliseconds)\")\n",
    "plt.xlabel(\"Number of vertices\")\n",
    "plt.show()"
   ]
  },
  {
   "cell_type": "code",
   "execution_count": 9,
   "metadata": {},
   "outputs": [],
   "source": [
    "plt.show()"
   ]
  },
  {
   "cell_type": "markdown",
   "metadata": {},
   "source": [
    "# Parse input"
   ]
  },
  {
   "cell_type": "code",
   "execution_count": 4,
   "metadata": {},
   "outputs": [],
   "source": [
    "def parse_input_file_kruskal(file_address):\n",
    "    # store vertices and edges in separate sets\n",
    "    vertices = set()\n",
    "    edges = [] \n",
    "    # read file\n",
    "    with open(glob.glob(file_address)[0]) as f:\n",
    "        lines = f.readlines()\n",
    "    num_V_E = [int(x) for x in lines[0].split()]\n",
    "    lines = lines[1:]\n",
    "    # populate sets\n",
    "    for line in lines:\n",
    "        x = line.split()\n",
    "        vertices.add(x[0])\n",
    "        vertices.add(x[1])\n",
    "        edges.append((x[0], x[1], int(x[2])))\n",
    "    vertices = list(vertices)\n",
    "    return vertices, edges, num_V_E"
   ]
  },
  {
   "cell_type": "code",
   "execution_count": 5,
   "metadata": {
    "scrolled": true
   },
   "outputs": [
    {
     "data": {
      "application/vnd.jupyter.widget-view+json": {
       "model_id": "94ed6681a5be4b188af620ee6958cfeb",
       "version_major": 2,
       "version_minor": 0
      },
      "text/plain": [
       "  0%|          | 0/68 [00:00<?, ?it/s]"
      ]
     },
     "metadata": {},
     "output_type": "display_data"
    }
   ],
   "source": [
    "graphs_kruskal = []\n",
    "for file in tqdm_notebook(os.listdir()):\n",
    "    vertices, edges, num_V_E = parse_input_file_kruskal(file) \n",
    "    graphs_kruskal.append((num_V_E, vertices, edges))"
   ]
  },
  {
   "cell_type": "code",
   "execution_count": 6,
   "metadata": {},
   "outputs": [],
   "source": [
    "# Graph object\n",
    "class Graph:\n",
    "    def __init__(self, V, E, num_V, num_E):\n",
    "        self.V = V\n",
    "        self.E = E\n",
    "        self.num_V = num_V\n",
    "        self.num_E = num_E"
   ]
  },
  {
   "cell_type": "markdown",
   "metadata": {},
   "source": [
    "# Kruskal Efficient"
   ]
  },
  {
   "cell_type": "code",
   "execution_count": 13,
   "metadata": {},
   "outputs": [],
   "source": [
    "class Kruskal_Efficient:\n",
    "    def __init__(self, graph):\n",
    "        self.graph = graph\n",
    "        self.sets = {}\n",
    "        self.MST = [] # Minimum Spanning Tree\n",
    "        \n",
    "    def make_sets(self):\n",
    "        # initialize sets\n",
    "        for v in self.graph.V:\n",
    "            self.sets[v] = [v]\n",
    "    \n",
    "    def check_cycle(self, u, v):\n",
    "        # check cycle by comparing sets\n",
    "        cycle = False\n",
    "        for sett in list(self.sets.values()):\n",
    "            if u in sett:\n",
    "                if v in sett:\n",
    "                    cycle = True\n",
    "                else:\n",
    "                    sett.append(v)\n",
    "                    if (v in self.sets.keys()) and (len(self.sets[v]) > 1):\n",
    "                        res = self.sets[v]\n",
    "                        sett.extend(res[1:])\n",
    "                        self.sets.pop(v)\n",
    "        return cycle\n",
    "            \n",
    "\n",
    "    def execute(self):        \n",
    "        # sorting based on the weight of the edges    \n",
    "        E = sorted(self.graph.E, key = lambda m: m[2])        \n",
    "        self.make_sets()\n",
    "        # for each edge, check if it doesn't violate the invariant\n",
    "        for e in E:\n",
    "            u, v, w = e           \n",
    "            if not self.check_cycle(u, v):\n",
    "                if (len(self.MST) < int(self.graph.num_E)):\n",
    "                    self.MST.append(e)\n",
    "        return self.MST"
   ]
  },
  {
   "cell_type": "code",
   "execution_count": 20,
   "metadata": {},
   "outputs": [],
   "source": [
    "def get_time_kruskal(vertices, edges, num_V_E):\n",
    "    graph = Graph(vertices, edges, num_V_E[0], num_V_E[1]) # initialize graph\n",
    "    algo = Kruskal_Efficient(graph) # initialize algorithm object\n",
    "    gc.disable() # disable garbage collector\n",
    "    start_time = perf_counter_ns()\n",
    "    result = algo.execute()\n",
    "    end_time = perf_counter_ns()\n",
    "    gc.enable()\n",
    "    print(\"Running Time was: \", end_time-start_time)\n",
    "    return (end_time-start_time)"
   ]
  },
  {
   "cell_type": "code",
   "execution_count": 21,
   "metadata": {},
   "outputs": [
    {
     "data": {
      "application/vnd.jupyter.widget-view+json": {
       "model_id": "97bd71b0ece94d63a0c37658baee43ba",
       "version_major": 2,
       "version_minor": 0
      },
      "text/plain": [
       "  0%|          | 0/68 [00:00<?, ?it/s]"
      ]
     },
     "metadata": {},
     "output_type": "display_data"
    },
    {
     "name": "stdout",
     "output_type": "stream",
     "text": [
      "|V| =  40  |E| =  52\n",
      "Running Time was:  314300\n",
      "The Weight of MST is:  -97121\n",
      "|V| =  40  |E| =  51\n",
      "Running Time was:  307300\n",
      "The Weight of MST is:  -64386\n",
      "|V| =  40  |E| =  55\n",
      "Running Time was:  242900\n",
      "The Weight of MST is:  -41633\n",
      "|V| =  80  |E| =  103\n",
      "Running Time was:  795000\n",
      "The Weight of MST is:  -240676\n",
      "|V| =  80  |E| =  110\n",
      "Running Time was:  828000\n",
      "The Weight of MST is:  -139945\n",
      "|V| =  80  |E| =  107\n",
      "Running Time was:  1121600\n",
      "The Weight of MST is:  -194537\n",
      "|V| =  80  |E| =  109\n",
      "Running Time was:  783600\n",
      "The Weight of MST is:  -185494\n",
      "|V| =  100  |E| =  134\n",
      "Running Time was:  1367100\n",
      "The Weight of MST is:  -194931\n",
      "|V| =  100  |E| =  129\n",
      "Running Time was:  1389600\n",
      "The Weight of MST is:  -184735\n",
      "|V| =  100  |E| =  131\n",
      "Running Time was:  1160900\n",
      "The Weight of MST is:  -217244\n",
      "|V| =  10  |E| =  10\n",
      "Running Time was:  30100\n",
      "The Weight of MST is:  -7430\n",
      "|V| =  100  |E| =  125\n",
      "Running Time was:  1073700\n",
      "The Weight of MST is:  -183953\n",
      "|V| =  200  |E| =  260\n",
      "Running Time was:  4117500\n",
      "The Weight of MST is:  -352299\n",
      "|V| =  200  |E| =  271\n",
      "Running Time was:  4033000\n",
      "The Weight of MST is:  -628213\n",
      "|V| =  200  |E| =  257\n",
      "Running Time was:  4155600\n",
      "The Weight of MST is:  -246552\n",
      "|V| =  200  |E| =  262\n",
      "Running Time was:  4197900\n",
      "The Weight of MST is:  -513349\n",
      "|V| =  400  |E| =  546\n",
      "Running Time was:  16837600\n",
      "The Weight of MST is:  -1120098\n",
      "|V| =  400  |E| =  530\n",
      "Running Time was:  16215100\n",
      "The Weight of MST is:  -869853\n",
      "|V| =  400  |E| =  530\n",
      "Running Time was:  15222400\n",
      "The Weight of MST is:  -894732\n",
      "|V| =  400  |E| =  540\n",
      "Running Time was:  15251300\n",
      "The Weight of MST is:  -1120351\n",
      "|V| =  800  |E| =  1066\n",
      "Running Time was:  62482600\n",
      "The Weight of MST is:  -1461632\n",
      "|V| =  10  |E| =  13\n",
      "Running Time was:  37800\n",
      "The Weight of MST is:  -12829\n",
      "|V| =  800  |E| =  1062\n",
      "Running Time was:  64100100\n",
      "The Weight of MST is:  -1837558\n",
      "|V| =  800  |E| =  1040\n",
      "Running Time was:  61568300\n",
      "The Weight of MST is:  -1390831\n",
      "|V| =  800  |E| =  1061\n",
      "Running Time was:  63601000\n",
      "The Weight of MST is:  -1739674\n",
      "|V| =  1000  |E| =  1333\n",
      "Running Time was:  95166600\n",
      "The Weight of MST is:  -2357954\n",
      "|V| =  1000  |E| =  1346\n",
      "Running Time was:  97393600\n",
      "The Weight of MST is:  -2481259\n",
      "|V| =  1000  |E| =  1316\n",
      "Running Time was:  98970100\n",
      "The Weight of MST is:  -2266377\n",
      "|V| =  1000  |E| =  1352\n",
      "Running Time was:  96134100\n",
      "The Weight of MST is:  -2443122\n",
      "|V| =  2000  |E| =  2677\n",
      "Running Time was:  405935200\n",
      "The Weight of MST is:  -4394252\n",
      "|V| =  2000  |E| =  2678\n",
      "Running Time was:  406663000\n",
      "The Weight of MST is:  -4537355\n",
      "|V| =  2000  |E| =  2680\n",
      "Running Time was:  406176000\n",
      "The Weight of MST is:  -4890391\n",
      "|V| =  10  |E| =  13\n",
      "Running Time was:  38200\n",
      "The Weight of MST is:  -12572\n",
      "|V| =  2000  |E| =  2690\n",
      "Running Time was:  418425400\n",
      "The Weight of MST is:  -5102660\n",
      "|V| =  4000  |E| =  5329\n",
      "Running Time was:  1644818700\n",
      "The Weight of MST is:  -9576868\n",
      "|V| =  4000  |E| =  5340\n",
      "Running Time was:  1645803200\n",
      "The Weight of MST is:  -9640142\n",
      "|V| =  4000  |E| =  5396\n",
      "Running Time was:  1651764700\n",
      "The Weight of MST is:  -8921074\n",
      "|V| =  4000  |E| =  5368\n",
      "Running Time was:  1663303200\n",
      "The Weight of MST is:  -9497610\n",
      "|V| =  8000  |E| =  10684\n",
      "Running Time was:  6653808500\n",
      "The Weight of MST is:  -19213840\n",
      "|V| =  8000  |E| =  10698\n",
      "Running Time was:  6638481500\n",
      "The Weight of MST is:  -18790520\n",
      "|V| =  8000  |E| =  10628\n",
      "Running Time was:  6804117300\n",
      "The Weight of MST is:  -17529375\n",
      "|V| =  8000  |E| =  10656\n",
      "Running Time was:  6644977200\n",
      "The Weight of MST is:  -18097759\n",
      "|V| =  10000  |E| =  13259\n",
      "Running Time was:  10374184800\n",
      "The Weight of MST is:  -22401836\n",
      "|V| =  10  |E| =  11\n",
      "Running Time was:  77200\n",
      "The Weight of MST is:  -45855\n",
      "|V| =  10000  |E| =  13383\n",
      "Running Time was:  10260758700\n",
      "The Weight of MST is:  -23376525\n",
      "|V| =  10000  |E| =  13349\n",
      "Running Time was:  10362527700\n",
      "The Weight of MST is:  -23194188\n",
      "|V| =  10000  |E| =  13314\n",
      "Running Time was:  10361383400\n",
      "The Weight of MST is:  -22983003\n",
      "|V| =  20000  |E| =  26656\n",
      "Running Time was:  44795341600\n",
      "The Weight of MST is:  -45709719\n",
      "|V| =  20000  |E| =  26619\n",
      "Running Time was:  45190369400\n",
      "The Weight of MST is:  -47053370\n",
      "|V| =  20000  |E| =  26685\n",
      "Running Time was:  45116802000\n",
      "The Weight of MST is:  -46946232\n",
      "|V| =  20000  |E| =  26553\n",
      "Running Time was:  45606853700\n",
      "The Weight of MST is:  -45507963\n",
      "|V| =  40000  |E| =  53376\n",
      "Running Time was:  266453271100\n",
      "The Weight of MST is:  -90950740\n",
      "|V| =  40000  |E| =  53455\n",
      "Running Time was:  292673057200\n",
      "The Weight of MST is:  -93152052\n",
      "|V| =  40000  |E| =  53295\n",
      "Running Time was:  357639664900\n",
      "The Weight of MST is:  -95392335\n",
      "|V| =  20  |E| =  25\n",
      "Running Time was:  86600\n",
      "The Weight of MST is:  -10519\n",
      "|V| =  40000  |E| =  53240\n",
      "Running Time was:  326709056300\n",
      "The Weight of MST is:  -93801125\n",
      "|V| =  80000  |E| =  106790\n",
      "Running Time was:  1811962037900\n",
      "The Weight of MST is:  -184569678\n",
      "|V| =  80000  |E| =  106603\n",
      "Running Time was:  1745814066400\n",
      "The Weight of MST is:  -181889635\n",
      "|V| =  80000  |E| =  106618\n",
      "Running Time was:  1745204057500\n",
      "The Weight of MST is:  -185565323\n",
      "|V| =  80000  |E| =  106685\n",
      "Running Time was:  1751260676000\n",
      "The Weight of MST is:  -180481302\n",
      "|V| =  100000  |E| =  133127\n",
      "Running Time was:  2898594067500\n",
      "The Weight of MST is:  -227543865\n",
      "|V| =  100000  |E| =  133417\n",
      "Running Time was:  2946948211400\n",
      "The Weight of MST is:  -228259330\n",
      "|V| =  100000  |E| =  133588\n",
      "Running Time was:  2732021579800\n",
      "The Weight of MST is:  -227369108\n",
      "|V| =  100000  |E| =  133243\n",
      "Running Time was:  2738280031800\n",
      "The Weight of MST is:  -229263767\n",
      "|V| =  20  |E| =  27\n",
      "Running Time was:  115900\n",
      "The Weight of MST is:  -15557\n",
      "|V| =  20  |E| =  27\n",
      "Running Time was:  92600\n",
      "The Weight of MST is:  -53738\n",
      "|V| =  20  |E| =  23\n",
      "Running Time was:  94000\n",
      "The Weight of MST is:  36532\n",
      "|V| =  40  |E| =  56\n",
      "Running Time was:  352300\n",
      "The Weight of MST is:  -49942\n"
     ]
    }
   ],
   "source": [
    "results_k_efficient = []\n",
    "# with a progress bar, execute the algorithm\n",
    "for i in tqdm_notebook(range(len(graphs_kruskal))):\n",
    "    print(\"|V| = \", graphs_kruskal[i][0][0], \" |E| = \", graphs_kruskal[i][0][1])\n",
    "    results_k_efficient.append((graphs_kruskal[i][0][0], get_time_kruskal(graphs_kruskal[i][1], graphs_kruskal[i][2], graphs_kruskal[i][0])))"
   ]
  },
  {
   "cell_type": "code",
   "execution_count": 22,
   "metadata": {},
   "outputs": [
    {
     "name": "stdout",
     "output_type": "stream",
     "text": [
      "[(10, 30100), (10, 37800), (10, 38200), (10, 77200), (20, 86600), (20, 115900), (20, 92600), (20, 94000), (40, 314300), (40, 307300), (40, 242900), (40, 352300), (80, 795000), (80, 828000), (80, 1121600), (80, 783600), (100, 1367100), (100, 1389600), (100, 1160900), (100, 1073700), (200, 4117500), (200, 4033000), (200, 4155600), (200, 4197900), (400, 16837600), (400, 16215100), (400, 15222400), (400, 15251300), (800, 62482600), (800, 64100100), (800, 61568300), (800, 63601000), (1000, 95166600), (1000, 97393600), (1000, 98970100), (1000, 96134100), (2000, 405935200), (2000, 406663000), (2000, 406176000), (2000, 418425400), (4000, 1644818700), (4000, 1645803200), (4000, 1651764700), (4000, 1663303200), (8000, 6653808500), (8000, 6638481500), (8000, 6804117300), (8000, 6644977200), (10000, 10374184800), (10000, 10260758700), (10000, 10362527700), (10000, 10361383400), (20000, 44795341600), (20000, 45190369400), (20000, 45116802000), (20000, 45606853700), (40000, 266453271100), (40000, 292673057200), (40000, 357639664900), (40000, 326709056300), (80000, 1811962037900), (80000, 1745814066400), (80000, 1745204057500), (80000, 1751260676000), (100000, 2898594067500), (100000, 2946948211400), (100000, 2732021579800), (100000, 2738280031800)]\n"
     ]
    },
    {
     "data": {
      "image/png": "[encoded data removed]",
      "text/plain": [
       "<Figure size 432x288 with 1 Axes>"
      ]
     },
     "metadata": {
      "needs_background": "light"
     },
     "output_type": "display_data"
    }
   ],
   "source": [
    "import matplotlib.pyplot as plt\n",
    "results_k_efficient = sorted(results_k_efficient, key=lambda results: results[0])\n",
    "x_val = [x[0] for x in results_k_efficient]\n",
    "y_val = [x[1] for x in results_k_efficient]\n",
    "\n",
    "# build the plot\n",
    "plt.plot(x_val,y_val,'--')\n",
    "plt.plot(x_val,y_val,'og')\n",
    "plt.ylabel(\"Execution time (milliseconds)\")\n",
    "plt.xlabel(\"Number of vertices\")\n",
    "plt.show()"
   ]
  },
  {
   "cell_type": "markdown",
   "metadata": {},
   "source": [
    "# Kruskal Naive"
   ]
  },
  {
   "cell_type": "code",
   "execution_count": 7,
   "metadata": {},
   "outputs": [],
   "source": [
    "class Kruskal_Naive:\n",
    "    def __init__(self, graph):\n",
    "        self.graph = graph\n",
    "        self.MST = {} # adjacency list\n",
    "        self.MST_edges = [] # edges\n",
    "        \n",
    "    def dfs_cycle(self, visited, G, v, parent):   \n",
    "        # using DFS traversal find a cycle\n",
    "        visited.add(v)\n",
    "        for neighbour in G[v]:\n",
    "            if neighbour != parent and neighbour in visited:\n",
    "                return True\n",
    "            elif neighbour != parent:            \n",
    "                return self.dfs_cycle(visited, G, neighbour, v)\n",
    "        return False\n",
    "    \n",
    "    def check_cycle(self, edge):\n",
    "        u, v, w = edge\n",
    "        if (u in self.MST and v in self.MST[u]) or (v in self.MST and u in self.MST[v]):\n",
    "            return True\n",
    "        visited = set()\n",
    "        # create a graph to check the edge addition\n",
    "        MST_with_e = {}\n",
    "        # add target edge\n",
    "        MST_with_e[u] = [v]\n",
    "        MST_with_e[v] = [u]\n",
    "        # populate with MST edges\n",
    "        for i in range(len(self.MST_edges)):\n",
    "            a, b, w = self.MST_edges[i]\n",
    "            if a not in MST_with_e:\n",
    "                MST_with_e[a] = []\n",
    "            if b not in MST_with_e:\n",
    "                MST_with_e[b] = []\n",
    "            MST_with_e[a].append(b)\n",
    "            MST_with_e[b].append(a)\n",
    "        \n",
    "        return self.dfs_cycle(visited, MST_with_e, u, '-1')\n",
    "    \n",
    "    def execute(self):\n",
    "        # sorting based on the weight of the edges    \n",
    "        E = sorted(self.graph.E, key = lambda m: m[2])   \n",
    "        # for each edge, check if it doesn't violate the invariant\n",
    "        for e in E:\n",
    "            if not self.check_cycle(e):\n",
    "                self.MST_edges.append(e)\n",
    "                if e[0] not in self.MST:\n",
    "                    self.MST[e[0]] = []\n",
    "                self.MST[e[0]].append(e[1])\n",
    "        return self.MST_edges"
   ]
  },
  {
   "cell_type": "code",
   "execution_count": 8,
   "metadata": {},
   "outputs": [],
   "source": [
    "def get_time_kruskal(vertices, edges, num_V_E):\n",
    "    graph = Graph(vertices, edges, num_V_E[0], num_V_E[1]) # initialize graph\n",
    "    algo = Kruskal_Naive(graph) # initialize algorithm object\n",
    "    gc.disable() # disable garbage collector\n",
    "    start_time = perf_counter_ns()\n",
    "    full_edges  = algo.execute()\n",
    "    end_time = perf_counter_ns()\n",
    "    gc.enable()\n",
    "    #print(\"Running Time was: \", end_time-start_time)\n",
    "    #print(full_edges)\n",
    "    #print(\"Total weight: {}\".format(sum([e[2] for e in full_edges])))\n",
    "    return (end_time-start_time)"
   ]
  },
  {
   "cell_type": "code",
   "execution_count": null,
   "metadata": {},
   "outputs": [
    {
     "data": {
      "application/vnd.jupyter.widget-view+json": {
       "model_id": "943ed4cf2f5041f6b375e20bd7246a7f",
       "version_major": 2,
       "version_minor": 0
      },
      "text/plain": [
       "  0%|          | 0/68 [00:00<?, ?it/s]"
      ]
     },
     "metadata": {},
     "output_type": "display_data"
    }
   ],
   "source": [
    "results_k_naive = []\n",
    "# with a progress bar, execute the algorithm\n",
    "for i in tqdm_notebook(range(len(graphs_kruskal[:10]))):\n",
    "    #print(\"|V| = \", graphs_kruskal[i][0][0], \" |E| = \", graphs_kruskal[i][0][1])\n",
    "    results_k_naive.append((graphs_kruskal[i][0][0], get_time_kruskal(graphs_kruskal[i][1], graphs_kruskal[i][2], graphs_kruskal[i][0])))"
   ]
  },
  {
   "cell_type": "code",
   "execution_count": 12,
   "metadata": {},
   "outputs": [
    {
     "name": "stdout",
     "output_type": "stream",
     "text": [
      "[(10, 39600), (10, 58100), (10, 54300), (10, 52200), (20, 156300), (20, 246100), (20, 262400), (20, 121900), (40, 736800), (40, 599800), (40, 617200), (40, 779500), (80, 1991600), (80, 2168800), (80, 2121700), (80, 2227900), (100, 3273700), (100, 3532100), (100, 3308600), (100, 2970400), (200, 13669900), (200, 14320900), (200, 12150400), (200, 12823800), (400, 54698400), (400, 53536400), (400, 52089100), (400, 54135600), (800, 212056700), (800, 209625000), (800, 200457600), (800, 206821200), (1000, 330721800), (1000, 335730900), (1000, 320822300), (1000, 339559900), (2000, 1381036200), (2000, 1363782100), (2000, 1370117900), (2000, 1394933200), (4000, 5512970500), (4000, 5663087000), (4000, 5678547200), (4000, 5668277400), (8000, 22492685100), (8000, 22320784500), (8000, 22107688300), (8000, 22111098900), (10000, 34454909000), (10000, 35131162400), (10000, 34936482400), (10000, 34909513500), (20000, 157748629400), (20000, 152819958100), (20000, 154456007100), (20000, 150680240600), (40000, 811219172300), (40000, 813168460200), (40000, 808199625900), (40000, 811370353300), (80000, 3876060683400), (80000, 3853999515700), (80000, 3849305720900), (80000, 3855568792700), (100000, 6298949974600), (100000, 6616056375300), (100000, 6655262461100), (100000, 6682662210800)]\n"
     ]
    },
    {
     "data": {
      "image/png": "[encoded data removed]",
      "text/plain": [
       "<Figure size 432x288 with 1 Axes>"
      ]
     },
     "metadata": {
      "needs_background": "light"
     },
     "output_type": "display_data"
    }
   ],
   "source": [
    "import matplotlib.pyplot as plt\n",
    "results_k_naive = sorted(results_k_naive, key=lambda results: results[0])\n",
    "print(results_k_naive)\n",
    "x_val = [x[0] for x in results_k_naive]\n",
    "y_val = [x[1] for x in results_k_naive]\n",
    "\n",
    "# buil\n",
    "plt.plot(x_val,y_val,'--')\n",
    "plt.plot(x_val,y_val,'og')\n",
    "plt.ylabel(\"Execution time (milliseconds)\")\n",
    "plt.xlabel(\"Number of vertices\")\n",
    "plt.show()"
   ]
  },
  {
   "cell_type": "code",
   "execution_count": 13,
   "metadata": {},
   "outputs": [],
   "source": [
    "plt.show()"
   ]
  },
  {
   "cell_type": "code",
   "execution_count": null,
   "metadata": {},
   "outputs": [],
   "source": []
  }
 ],
 "metadata": {
  "kernelspec": {
   "display_name": "Python 3",
   "language": "python",
   "name": "python3"
  },
  "language_info": {
   "codemirror_mode": {
    "name": "ipython",
    "version": 3
   },
   "file_extension": ".py",
   "mimetype": "text/x-python",
   "name": "python",
   "nbconvert_exporter": "python",
   "pygments_lexer": "ipython3",
   "version": "3.7.4"
  }
 },
 "nbformat": 4,
 "nbformat_minor": 2
}

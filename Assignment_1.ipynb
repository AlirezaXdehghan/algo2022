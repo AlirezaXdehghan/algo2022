{
 "cells": [
  {
   "cell_type": "markdown",
   "metadata": {},
   "source": [
    "# Initialize global variables"
   ]
  },
  {
   "cell_type": "code",
   "execution_count": 3,
   "metadata": {},
   "outputs": [
    {
     "ename": "FileNotFoundError",
     "evalue": "[WinError 2] The system cannot find the file specified: 'prim'",
     "output_type": "error",
     "traceback": [
      "\u001b[1;31m---------------------------------------------------------------------------\u001b[0m",
      "\u001b[1;31mFileNotFoundError\u001b[0m                         Traceback (most recent call last)",
      "\u001b[1;32m~\\AppData\\Local\\Temp/ipykernel_9276/169655475.py\u001b[0m in \u001b[0;36m<module>\u001b[1;34m\u001b[0m\n\u001b[0;32m      6\u001b[0m \u001b[1;32mimport\u001b[0m \u001b[0mgc\u001b[0m\u001b[1;33m\u001b[0m\u001b[1;33m\u001b[0m\u001b[0m\n\u001b[0;32m      7\u001b[0m \u001b[1;31m# go to directory with test files\u001b[0m\u001b[1;33m\u001b[0m\u001b[1;33m\u001b[0m\u001b[0m\n\u001b[1;32m----> 8\u001b[1;33m \u001b[0mos\u001b[0m\u001b[1;33m.\u001b[0m\u001b[0mchdir\u001b[0m\u001b[1;33m(\u001b[0m\u001b[1;34m'prim'\u001b[0m\u001b[1;33m)\u001b[0m\u001b[1;33m\u001b[0m\u001b[1;33m\u001b[0m\u001b[0m\n\u001b[0m",
      "\u001b[1;31mFileNotFoundError\u001b[0m: [WinError 2] The system cannot find the file specified: 'prim'"
     ]
    }
   ],
   "source": [
    "import random\n",
    "import os\n",
    "import glob\n",
    "from tqdm.notebook import tqdm_notebook # for a progress bar\n",
    "from time import perf_counter_ns\n",
    "import gc\n",
    "# go to directory with test files\n",
    "os.chdir('prim')"
   ]
  },
  {
   "cell_type": "code",
   "execution_count": 4,
   "metadata": {},
   "outputs": [],
   "source": [
    "def parse_input_file_prim(file_address):\n",
    "    vertices = set()\n",
    "    edges = [] \n",
    "    with open(glob.glob(file_address)[0]) as f:\n",
    "        lines = f.readlines()\n",
    "    num_V_E = [int(x) for x in lines[0].split()]\n",
    "    lines = lines[1:]\n",
    "    for line in lines:\n",
    "        x = line.split()\n",
    "        vertices.add(x[0])\n",
    "        vertices.add(x[1])\n",
    "        edges.append((int(x[2]), x[0], x[1])) #heapq ranks tuples based on the first value so we add it with respect to it!\n",
    "    return vertices, edges, num_V_E"
   ]
  },
  {
   "cell_type": "code",
   "execution_count": 5,
   "metadata": {},
   "outputs": [
    {
     "data": {
      "application/vnd.jupyter.widget-view+json": {
       "model_id": "fae389f2a0be42498f05f92f48342733",
       "version_major": 2,
       "version_minor": 0
      },
      "text/plain": [
       "  0%|          | 0/4 [00:00<?, ?it/s]"
      ]
     },
     "metadata": {},
     "output_type": "display_data"
    },
    {
     "ename": "PermissionError",
     "evalue": "[Errno 13] Permission denied: '.git'",
     "output_type": "error",
     "traceback": [
      "\u001b[1;31m---------------------------------------------------------------------------\u001b[0m",
      "\u001b[1;31mPermissionError\u001b[0m                           Traceback (most recent call last)",
      "\u001b[1;32m~\\AppData\\Local\\Temp/ipykernel_9276/3281210626.py\u001b[0m in \u001b[0;36m<module>\u001b[1;34m\u001b[0m\n\u001b[0;32m      2\u001b[0m \u001b[0madjacency_dict\u001b[0m \u001b[1;33m=\u001b[0m \u001b[1;33m{\u001b[0m\u001b[1;33m}\u001b[0m\u001b[1;33m\u001b[0m\u001b[1;33m\u001b[0m\u001b[0m\n\u001b[0;32m      3\u001b[0m \u001b[1;32mfor\u001b[0m \u001b[0mfile\u001b[0m \u001b[1;32min\u001b[0m \u001b[0mtqdm_notebook\u001b[0m\u001b[1;33m(\u001b[0m\u001b[0mos\u001b[0m\u001b[1;33m.\u001b[0m\u001b[0mlistdir\u001b[0m\u001b[1;33m(\u001b[0m\u001b[1;33m)\u001b[0m\u001b[1;33m)\u001b[0m\u001b[1;33m:\u001b[0m\u001b[1;33m\u001b[0m\u001b[1;33m\u001b[0m\u001b[0m\n\u001b[1;32m----> 4\u001b[1;33m     \u001b[0mvertices\u001b[0m\u001b[1;33m,\u001b[0m \u001b[0medges\u001b[0m\u001b[1;33m,\u001b[0m \u001b[0mnum_V_E\u001b[0m \u001b[1;33m=\u001b[0m \u001b[0mparse_input_file_prim\u001b[0m\u001b[1;33m(\u001b[0m\u001b[0mfile\u001b[0m\u001b[1;33m)\u001b[0m \u001b[1;31m#iterating through files and turning them into sets/lists\u001b[0m\u001b[1;33m\u001b[0m\u001b[1;33m\u001b[0m\u001b[0m\n\u001b[0m\u001b[0;32m      5\u001b[0m     \u001b[1;32mfor\u001b[0m \u001b[0mvertex\u001b[0m \u001b[1;32min\u001b[0m \u001b[0mvertices\u001b[0m\u001b[1;33m:\u001b[0m \u001b[1;31m#creating adjacency list for each vertex\u001b[0m\u001b[1;33m\u001b[0m\u001b[1;33m\u001b[0m\u001b[0m\n\u001b[0;32m      6\u001b[0m         \u001b[0madjacent_edges\u001b[0m \u001b[1;33m=\u001b[0m \u001b[1;33m[\u001b[0m\u001b[1;33m]\u001b[0m\u001b[1;33m\u001b[0m\u001b[1;33m\u001b[0m\u001b[0m\n",
      "\u001b[1;32m~\\AppData\\Local\\Temp/ipykernel_9276/2823431837.py\u001b[0m in \u001b[0;36mparse_input_file_prim\u001b[1;34m(file_address)\u001b[0m\n\u001b[0;32m      2\u001b[0m     \u001b[0mvertices\u001b[0m \u001b[1;33m=\u001b[0m \u001b[0mset\u001b[0m\u001b[1;33m(\u001b[0m\u001b[1;33m)\u001b[0m\u001b[1;33m\u001b[0m\u001b[1;33m\u001b[0m\u001b[0m\n\u001b[0;32m      3\u001b[0m     \u001b[0medges\u001b[0m \u001b[1;33m=\u001b[0m \u001b[1;33m[\u001b[0m\u001b[1;33m]\u001b[0m\u001b[1;33m\u001b[0m\u001b[1;33m\u001b[0m\u001b[0m\n\u001b[1;32m----> 4\u001b[1;33m     \u001b[1;32mwith\u001b[0m \u001b[0mopen\u001b[0m\u001b[1;33m(\u001b[0m\u001b[0mglob\u001b[0m\u001b[1;33m.\u001b[0m\u001b[0mglob\u001b[0m\u001b[1;33m(\u001b[0m\u001b[0mfile_address\u001b[0m\u001b[1;33m)\u001b[0m\u001b[1;33m[\u001b[0m\u001b[1;36m0\u001b[0m\u001b[1;33m]\u001b[0m\u001b[1;33m)\u001b[0m \u001b[1;32mas\u001b[0m \u001b[0mf\u001b[0m\u001b[1;33m:\u001b[0m\u001b[1;33m\u001b[0m\u001b[1;33m\u001b[0m\u001b[0m\n\u001b[0m\u001b[0;32m      5\u001b[0m         \u001b[0mlines\u001b[0m \u001b[1;33m=\u001b[0m \u001b[0mf\u001b[0m\u001b[1;33m.\u001b[0m\u001b[0mreadlines\u001b[0m\u001b[1;33m(\u001b[0m\u001b[1;33m)\u001b[0m\u001b[1;33m\u001b[0m\u001b[1;33m\u001b[0m\u001b[0m\n\u001b[0;32m      6\u001b[0m     \u001b[0mnum_V_E\u001b[0m \u001b[1;33m=\u001b[0m \u001b[1;33m[\u001b[0m\u001b[0mint\u001b[0m\u001b[1;33m(\u001b[0m\u001b[0mx\u001b[0m\u001b[1;33m)\u001b[0m \u001b[1;32mfor\u001b[0m \u001b[0mx\u001b[0m \u001b[1;32min\u001b[0m \u001b[0mlines\u001b[0m\u001b[1;33m[\u001b[0m\u001b[1;36m0\u001b[0m\u001b[1;33m]\u001b[0m\u001b[1;33m.\u001b[0m\u001b[0msplit\u001b[0m\u001b[1;33m(\u001b[0m\u001b[1;33m)\u001b[0m\u001b[1;33m]\u001b[0m\u001b[1;33m\u001b[0m\u001b[1;33m\u001b[0m\u001b[0m\n",
      "\u001b[1;31mPermissionError\u001b[0m: [Errno 13] Permission denied: '.git'"
     ]
    }
   ],
   "source": [
    "graphs_prim = []\n",
    "adjacency_dict = {}\n",
    "for file in tqdm_notebook(os.listdir()):\n",
    "    vertices, edges, num_V_E = parse_input_file_prim(file) #iterating through files and turning them into sets/lists\n",
    "    for vertex in vertices: #creating adjacency list for each vertex\n",
    "        adjacent_edges = [] \n",
    "        print(vertex)\n",
    "        for (w,u,v) in edges:\n",
    "            if (u == vertex or v == vertex):\n",
    "                adjacent_edges.append((w,u,v))\n",
    "        adjacency_dict[vertex] = adjacent_edges\n",
    "    graphs_prim.append((num_V_E, vertices, edges, adjacency_dict))"
   ]
  },
  {
   "cell_type": "markdown",
   "metadata": {},
   "source": [
    "# Prim "
   ]
  },
  {
   "cell_type": "code",
   "execution_count": 5,
   "metadata": {},
   "outputs": [],
   "source": [
    "import heapq\n",
    "def Prim(vertices, edges, adjacency_dict):\n",
    "    heap = [] #this is our heap!\n",
    "    S = set() #keep track of touched vertices\n",
    "    tempV = next(iter(vertices)) #taking one of the vertices as our starting point\n",
    "    heap = populate_heap(S, vertices, heap, tempV, adjacency_dict) #populating our heap with adjacent vertices\n",
    "    S.add(tempV)\n",
    "    MST = [] #our MST, a list of (w, u, v)\n",
    "    not_S = populate_set(vertices,S) #untouched vertices\n",
    "    while not_S: #loop until there's no untouched vertices\n",
    "        light_edge = find_lightest_edge(S, heap)\n",
    "        MST.append(light_edge) #populate our MST on each iteration\n",
    "        heap = populate_heap(S, vertices, heap, light_edge[1], adjacency_dict) #only one would get added!\n",
    "        heap = populate_heap(S, vertices, heap, light_edge[2], adjacency_dict) \n",
    "        S.add(light_edge[1]) #add only the Vertices\n",
    "        S.add(light_edge[2]) \n",
    "        not_S = populate_set(vertices, S) #count untouched vertices\n",
    "    return MST\n",
    "\n",
    "def populate_set(vertices, Set1):\n",
    "    return vertices.difference(Set1) #untouched vertices = all - touched\n",
    "    \n",
    "def find_lightest_edge(Set1, Heap):\n",
    "    lightest = heapq.heappop(Heap) #pop the first element in heap which is the lightest edge available (might be a duplicate)!\n",
    "    while ((lightest[2] in Set1) and (lightest[1] in Set1)): #if elements in heap were previously explored (duplicate), pop again!\n",
    "        lightest = heapq.heappop(Heap)\n",
    "    return lightest\n",
    "\n",
    "def populate_heap(Set1, SetGlobal, Heap, newV, adjacency_dict):\n",
    "    if newV in Set1: #don't add a vertex if it was already touched\n",
    "        return Heap\n",
    "    for (w, u, v) in adjacency_dict[newV]:\n",
    "        if ((u in SetGlobal) and (v in SetGlobal)): #do not add unnecessary edges eg. those which connect a previously connected vertices to the MST\n",
    "                heapq.heappush(Heap,(w, u, v)) #add the edges corresponding to the new vertex\n",
    "    return Heap\n",
    "\n",
    "def MSTweight(MST):\n",
    "    sum = 0\n",
    "    for (w ,u ,v) in MST: #calculate the weight of mst!\n",
    "        sum = sum + w\n",
    "    return sum"
   ]
  },
  {
   "cell_type": "code",
   "execution_count": 6,
   "metadata": {},
   "outputs": [],
   "source": [
    "def get_time_prim(vertices, edges, adjacency_dict): #simply get the runtime for each instance\n",
    "    gc.disable()\n",
    "    start_time = perf_counter_ns()\n",
    "    theMST = Prim(vertices, edges, adjacency_dict)\n",
    "    end_time = perf_counter_ns()\n",
    "    gc.enable()\n",
    "    print(\"Running Time was: \", end_time-start_time)\n",
    "    print(\"The Weight of MST is: \", MSTweight(theMST))\n",
    "    return (end_time-start_time)"
   ]
  },
  {
   "cell_type": "code",
   "execution_count": 7,
   "metadata": {},
   "outputs": [
    {
     "data": {
      "application/vnd.jupyter.widget-view+json": {
       "model_id": "50d6ac4ba6724fdd987e2366f10828c1",
       "version_major": 2,
       "version_minor": 0
      },
      "text/plain": [
       "  0%|          | 0/68 [00:00<?, ?it/s]"
      ]
     },
     "metadata": {},
     "output_type": "display_data"
    },
    {
     "name": "stdout",
     "output_type": "stream",
     "text": [
      "|V| =  10  |E| =  9\n",
      "Running Time was:  4355300\n",
      "The Weight of MST is:  11861\n",
      "|V| =  10  |E| =  11\n",
      "Running Time was:  128100\n",
      "The Weight of MST is:  11861\n",
      "|V| =  10  |E| =  13\n",
      "Running Time was:  107400\n",
      "The Weight of MST is:  11861\n",
      "|V| =  10  |E| =  10\n",
      "Running Time was:  99400\n",
      "The Weight of MST is:  11861\n",
      "|V| =  20  |E| =  24\n",
      "Running Time was:  3421300\n",
      "The Weight of MST is:  49300\n",
      "|V| =  20  |E| =  24\n",
      "Running Time was:  238200\n",
      "The Weight of MST is:  49300\n",
      "|V| =  20  |E| =  28\n",
      "Running Time was:  282500\n",
      "The Weight of MST is:  49300\n",
      "|V| =  20  |E| =  26\n",
      "Running Time was:  287100\n",
      "The Weight of MST is:  49300\n",
      "|V| =  40  |E| =  56\n",
      "Running Time was:  7247600\n",
      "The Weight of MST is:  65579\n",
      "|V| =  40  |E| =  50\n",
      "Running Time was:  654500\n",
      "The Weight of MST is:  65579\n",
      "|V| =  40  |E| =  50\n",
      "Running Time was:  325800\n",
      "The Weight of MST is:  65579\n",
      "|V| =  40  |E| =  52\n",
      "Running Time was:  494100\n",
      "The Weight of MST is:  65579\n",
      "|V| =  80  |E| =  108\n",
      "Running Time was:  9702400\n",
      "The Weight of MST is:  55363\n",
      "|V| =  80  |E| =  99\n",
      "Running Time was:  1700400\n",
      "The Weight of MST is:  55363\n",
      "|V| =  80  |E| =  104\n",
      "Running Time was:  1733100\n",
      "The Weight of MST is:  55363\n",
      "|V| =  80  |E| =  114\n",
      "Running Time was:  1696300\n",
      "The Weight of MST is:  55363\n",
      "|V| =  100  |E| =  136\n",
      "Running Time was:  5735700\n",
      "The Weight of MST is:  27272\n",
      "|V| =  100  |E| =  129\n",
      "Running Time was:  2028500\n",
      "The Weight of MST is:  27272\n",
      "|V| =  100  |E| =  137\n",
      "Running Time was:  2030500\n",
      "The Weight of MST is:  27272\n",
      "|V| =  100  |E| =  132\n",
      "Running Time was:  1152300\n",
      "The Weight of MST is:  27272\n",
      "|V| =  200  |E| =  267\n",
      "Running Time was:  13903200\n",
      "The Weight of MST is:  -47895\n",
      "|V| =  200  |E| =  269\n",
      "Running Time was:  5166600\n",
      "The Weight of MST is:  -47895\n",
      "|V| =  200  |E| =  269\n",
      "Running Time was:  4637500\n",
      "The Weight of MST is:  -47895\n",
      "|V| =  200  |E| =  267\n",
      "Running Time was:  3602800\n",
      "The Weight of MST is:  -47895\n",
      "|V| =  400  |E| =  540\n",
      "Running Time was:  31708700\n",
      "The Weight of MST is:  -38348\n",
      "|V| =  400  |E| =  518\n",
      "Running Time was:  15091700\n",
      "The Weight of MST is:  -38348\n",
      "|V| =  400  |E| =  538\n",
      "Running Time was:  17149700\n",
      "The Weight of MST is:  -38348\n",
      "|V| =  400  |E| =  526\n",
      "Running Time was:  15300800\n",
      "The Weight of MST is:  -38348\n",
      "|V| =  800  |E| =  1063\n",
      "Running Time was:  56447400\n",
      "The Weight of MST is:  -51725\n",
      "|V| =  800  |E| =  1058\n",
      "Running Time was:  46558800\n",
      "The Weight of MST is:  -51725\n",
      "|V| =  800  |E| =  1076\n",
      "Running Time was:  35771100\n",
      "The Weight of MST is:  -51725\n",
      "|V| =  800  |E| =  1049\n",
      "Running Time was:  35466200\n",
      "The Weight of MST is:  -51725\n",
      "|V| =  1000  |E| =  1300\n",
      "Running Time was:  66592100\n",
      "The Weight of MST is:  -26512\n",
      "|V| =  1000  |E| =  1313\n",
      "Running Time was:  53684800\n",
      "The Weight of MST is:  -26512\n",
      "|V| =  1000  |E| =  1328\n",
      "Running Time was:  53848500\n",
      "The Weight of MST is:  -26512\n",
      "|V| =  1000  |E| =  1344\n",
      "Running Time was:  62211300\n",
      "The Weight of MST is:  -26512\n",
      "|V| =  2000  |E| =  2699\n",
      "Running Time was:  326068800\n",
      "The Weight of MST is:  -197538\n",
      "|V| =  2000  |E| =  2654\n",
      "Running Time was:  406340500\n",
      "The Weight of MST is:  -197538\n",
      "|V| =  2000  |E| =  2652\n",
      "Running Time was:  364582400\n",
      "The Weight of MST is:  -197538\n",
      "|V| =  2000  |E| =  2677\n",
      "Running Time was:  319829000\n",
      "The Weight of MST is:  -197538\n",
      "|V| =  4000  |E| =  5360\n",
      "Running Time was:  1202567900\n",
      "The Weight of MST is:  -475882\n",
      "|V| =  4000  |E| =  5315\n",
      "Running Time was:  1305049400\n",
      "The Weight of MST is:  -475882\n",
      "|V| =  4000  |E| =  5340\n",
      "Running Time was:  1190213300\n",
      "The Weight of MST is:  -475882\n",
      "|V| =  4000  |E| =  5368\n",
      "Running Time was:  1407215900\n",
      "The Weight of MST is:  -475882\n",
      "|V| =  8000  |E| =  10705\n",
      "Running Time was:  6204968500\n",
      "The Weight of MST is:  -2228220\n",
      "|V| =  8000  |E| =  10670\n",
      "Running Time was:  5794934800\n",
      "The Weight of MST is:  -2228220\n",
      "|V| =  8000  |E| =  10662\n",
      "Running Time was:  5814232600\n",
      "The Weight of MST is:  -2228220\n",
      "|V| =  8000  |E| =  10757\n",
      "Running Time was:  6311198700\n",
      "The Weight of MST is:  -2228220\n",
      "|V| =  10000  |E| =  13301\n",
      "Running Time was:  11173796700\n",
      "The Weight of MST is:  -3518180\n",
      "|V| =  10000  |E| =  13340\n",
      "Running Time was:  9897901000\n",
      "The Weight of MST is:  -3518180\n",
      "|V| =  10000  |E| =  13287\n",
      "Running Time was:  10710801000\n",
      "The Weight of MST is:  -3518180\n",
      "|V| =  10000  |E| =  13311\n",
      "Running Time was:  9994435300\n",
      "The Weight of MST is:  -3518180\n",
      "|V| =  20000  |E| =  26667\n",
      "Running Time was:  60371450600\n",
      "The Weight of MST is:  -11878642\n",
      "|V| =  20000  |E| =  26826\n",
      "Running Time was:  55051547700\n",
      "The Weight of MST is:  -11878642\n",
      "|V| =  20000  |E| =  26673\n",
      "Running Time was:  54955554100\n",
      "The Weight of MST is:  -11878642\n",
      "|V| =  20000  |E| =  26670\n",
      "Running Time was:  57129661100\n",
      "The Weight of MST is:  -11878642\n",
      "|V| =  40000  |E| =  53415\n",
      "Running Time was:  226272122200\n",
      "The Weight of MST is:  -44510523\n",
      "|V| =  40000  |E| =  53446\n",
      "Running Time was:  226766523100\n",
      "The Weight of MST is:  -44510523\n",
      "|V| =  40000  |E| =  53242\n",
      "Running Time was:  225438016300\n",
      "The Weight of MST is:  -44510523\n",
      "|V| =  40000  |E| =  53319\n",
      "Running Time was:  216775374500\n",
      "The Weight of MST is:  -44510523\n",
      "|V| =  80000  |E| =  106914\n",
      "Running Time was:  888661425100\n",
      "The Weight of MST is:  -155888785\n",
      "|V| =  80000  |E| =  106633\n",
      "Running Time was:  891350400300\n",
      "The Weight of MST is:  -155888785\n",
      "|V| =  80000  |E| =  106586\n",
      "Running Time was:  974431796400\n",
      "The Weight of MST is:  -155888785\n",
      "|V| =  80000  |E| =  106554\n",
      "Running Time was:  1143032363900\n",
      "The Weight of MST is:  -155888785\n",
      "|V| =  100000  |E| =  133395\n",
      "Running Time was:  1602818212400\n",
      "The Weight of MST is:  -231011693\n",
      "|V| =  100000  |E| =  133214\n",
      "Running Time was:  1579950916500\n",
      "The Weight of MST is:  -231011693\n",
      "|V| =  100000  |E| =  133524\n",
      "Running Time was:  1420967900800\n",
      "The Weight of MST is:  -231011693\n",
      "|V| =  100000  |E| =  133463\n",
      "Running Time was:  1091998307900\n",
      "The Weight of MST is:  -231011693\n"
     ]
    }
   ],
   "source": [
    "results = []\n",
    "for i in tqdm_notebook(range(len(graphs_prim))):\n",
    "    print(\"|V| = \", graphs_prim[i][0][0], \" |E| = \", graphs_prim[i][0][1])\n",
    "    results.append((graphs_prim[i][0][0], get_time_prim(graphs_prim[i][1], graphs_prim[i][2],graphs_prim[i][3])))"
   ]
  },
  {
   "cell_type": "markdown",
   "metadata": {},
   "source": [
    "## Repeated runs for the first 50 graphs:"
   ]
  },
  {
   "cell_type": "code",
   "execution_count": null,
   "metadata": {},
   "outputs": [
    {
     "name": "stdout",
     "output_type": "stream",
     "text": [
      "[(10, 71069.0),\n",
      " (10, 71375.2),\n",
      " (10, 67832.5),\n",
      " (10, 64246.7),\n",
      " (20, 135570.1),\n",
      " (20, 130998.6),\n",
      " (20, 134058.4),\n",
      " (20, 145682.5),\n",
      " (40, 358995.9),\n",
      " (40, 289853.3),\n",
      " (40, 303308.9),\n",
      " (40, 308634.2),\n",
      " (80, 880327.9),\n",
      " (80, 755946.3),\n",
      " (80, 787073.2),\n",
      " (80, 898842.2),\n",
      " (100, 1017502.6),\n",
      " (100, 1068068.8),\n",
      " (100, 1507290.3),\n",
      " (100, 1563611.6),\n",
      " (200, 3363439.1),\n",
      " (200, 2890630.4),\n",
      " (200, 2938192.4),\n",
      " (200, 3273961.1),\n",
      " (400, 11249540.6),\n",
      " (400, 13162709.1),\n",
      " (400, 12245901.7),\n",
      " (400, 11342770.5),\n",
      " (800, 48768349.9),\n",
      " (800, 44717674.6),\n",
      " (800, 39874623.0),\n",
      " (800, 38530785.2),\n",
      " (1000, 56514951.9),\n",
      " (1000, 56700692.8),\n",
      " (1000, 57111127.9),\n",
      " (1000, 59169263.2),\n",
      " (2000, 316595100.6),\n",
      " (2000, 321332957.4),\n",
      " (2000, 325701429.3),\n",
      " (2000, 314826829.1),\n",
      " (4000, 1121763378.1),\n",
      " (4000, 1239835894.9),\n",
      " (4000, 1357914440.8),\n",
      " (4000, 1464875453.5),\n",
      " (8000, 6337423683.6),\n",
      " (8000, 6904424771.5),\n",
      " (8000, 5654995495.6),\n",
      " (8000, 6313924172.4),\n",
      " (10000, 8839126519.4),\n",
      " (10000, 9047188623.1)]"
     ]
    }
   ],
   "source": [
    "repeated_results = []\n",
    "for i in tqdm_notebook(range(0,50)):\n",
    "    temp_results = []\n",
    "    for j in range(0,1000):\n",
    "        print(\"|V| = \", graphs_prim[i][0][0], \" |E| = \", graphs_prim[i][0][1])\n",
    "        temp_results.append(get_time_prim(graphs_prim[i][1], graphs_prim[i][2],graphs_prim[i][3]))\n",
    "    repeated_results.append((graphs_prim[i][0][0], sum(temp_results)/len(temp_results)))\n",
    "repeated_results"
   ]
  },
  {
   "cell_type": "markdown",
   "metadata": {},
   "source": [
    "### Plotting the results:"
   ]
  },
  {
   "cell_type": "code",
   "execution_count": 8,
   "metadata": {},
   "outputs": [
    {
     "name": "stdout",
     "output_type": "stream",
     "text": [
      "[(10, 4355300), (10, 128100), (10, 107400), (10, 99400), (20, 3421300), (20, 238200), (20, 282500), (20, 287100), (40, 7247600), (40, 654500), (40, 325800), (40, 494100), (80, 9702400), (80, 1700400), (80, 1733100), (80, 1696300), (100, 5735700), (100, 2028500), (100, 2030500), (100, 1152300), (200, 13903200), (200, 5166600), (200, 4637500), (200, 3602800), (400, 31708700), (400, 15091700), (400, 17149700), (400, 15300800), (800, 56447400), (800, 46558800), (800, 35771100), (800, 35466200), (1000, 66592100), (1000, 53684800), (1000, 53848500), (1000, 62211300), (2000, 326068800), (2000, 406340500), (2000, 364582400), (2000, 319829000), (4000, 1202567900), (4000, 1305049400), (4000, 1190213300), (4000, 1407215900), (8000, 6204968500), (8000, 5794934800), (8000, 5814232600), (8000, 6311198700), (10000, 11173796700), (10000, 9897901000), (10000, 10710801000), (10000, 9994435300), (20000, 60371450600), (20000, 55051547700), (20000, 54955554100), (20000, 57129661100), (40000, 226272122200), (40000, 226766523100), (40000, 225438016300), (40000, 216775374500), (80000, 888661425100), (80000, 891350400300), (80000, 974431796400), (80000, 1143032363900), (100000, 1602818212400), (100000, 1579950916500), (100000, 1420967900800), (100000, 1091998307900)]\n"
     ]
    },
    {
     "data": {
      "image/png": "[encoded data removed]",
      "text/plain": [
       "<Figure size 432x288 with 1 Axes>"
      ]
     },
     "metadata": {
      "needs_background": "light"
     },
     "output_type": "display_data"
    }
   ],
   "source": [
    "import matplotlib.pyplot as plt\n",
    "results = sorted(results,key=lambda results: results[0])\n",
    "x_val = [x[0] for x in results]\n",
    "y_val = [x[1] for x in results]\n",
    "\n",
    "# build the plot\n",
    "plt.plot(x_val,y_val,'--')\n",
    "plt.plot(x_val,y_val,'og')\n",
    "plt.ylabel(\"Execution time (milliseconds)\")\n",
    "plt.xlabel(\"Number of vertices\")\n",
    "plt.show()"
   ]
  },
  {
   "cell_type": "markdown",
   "metadata": {},
   "source": [
    "### Plotting the repeated results:"
   ]
  },
  {
   "cell_type": "code",
   "execution_count": null,
   "metadata": {},
   "outputs": [
    {
     "name": "stdout",
     "output_type": "stream",
     "text": [
      "[(10, 71069.0), (10, 71375.2), (10, 67832.5), (10, 64246.7), (20, 135570.1), (20, 130998.6), (20, 134058.4), (20, 145682.5), (40, 358995.9), (40, 289853.3), (40, 303308.9), (40, 308634.2), (80, 880327.9), (80, 755946.3), (80, 787073.2), (80, 898842.2), (100, 1017502.6), (100, 1068068.8), (100, 1507290.3), (100, 1563611.6), (200, 3363439.1), (200, 2890630.4), (200, 2938192.4), (200, 3273961.1), (400, 11249540.6), (400, 13162709.1), (400, 12245901.7), (400, 11342770.5), (800, 48768349.9), (800, 44717674.6), (800, 39874623.0), (800, 38530785.2), (1000, 56514951.9), (1000, 56700692.8), (1000, 57111127.9), (1000, 59169263.2), (2000, 316595100.6), (2000, 321332957.4), (2000, 325701429.3), (2000, 314826829.1), (4000, 1121763378.1), (4000, 1239835894.9), (4000, 1357914440.8), (4000, 1464875453.5), (8000, 6337423683.6), (8000, 6904424771.5), (8000, 5654995495.6), (8000, 6313924172.4), (10000, 8839126519.4), (10000, 9047188623.1)]\n"
     ]
    },
    {
     "data": {
      "image/png": "[encoded data removed]",
      "text/plain": [
       "<Figure size 432x288 with 1 Axes>"
      ]
     },
     "metadata": {
      "needs_background": "light"
     },
     "output_type": "display_data"
    }
   ],
   "source": [
    "import matplotlib.pyplot as plt \n",
    "repeated_results = sorted(repeated_results,key=lambda repeated_results: repeated_results[0]) #plot the result here\n",
    "print(repeated_results)\n",
    "x_val = [x[0] for x in repeated_results]\n",
    "y_val = [x[1] for x in repeated_results]\n",
    "plt.locator_params('x',nbins = 20)\n",
    "plt.plot(x_val,y_val,'--')\n",
    "plt.plot(x_val,y_val,'og')\n",
    "plt.ylabel(\"Average Execution time (ns)\")\n",
    "plt.xlabel(\"Number of vertices\")\n",
    "plt.show()"
   ]
  },
  {
   "cell_type": "markdown",
   "metadata": {},
   "source": [
    "# Parse input"
   ]
  },
  {
   "cell_type": "code",
   "execution_count": 1,
   "metadata": {},
   "outputs": [],
   "source": [
    "def parse_input_file_kruskal(file_address):\n",
    "    # store vertices and edges in separate sets\n",
    "    vertices = set()\n",
    "    edges = [] \n",
    "    # read file\n",
    "    with open(glob.glob(file_address)[0]) as f:\n",
    "        lines = f.readlines()\n",
    "    num_V_E = [int(x) for x in lines[0].split()]\n",
    "    lines = lines[1:]\n",
    "    # populate sets\n",
    "    for line in lines:\n",
    "        x = line.split()\n",
    "        vertices.add(x[0])\n",
    "        vertices.add(x[1])\n",
    "        edges.append((x[0], x[1], int(x[2])))\n",
    "    vertices = list(vertices)\n",
    "    return vertices, edges, num_V_E"
   ]
  },
  {
   "cell_type": "code",
   "execution_count": 2,
   "metadata": {
    "scrolled": true
   },
   "outputs": [
    {
     "ename": "NameError",
     "evalue": "name 'tqdm_notebook' is not defined",
     "output_type": "error",
     "traceback": [
      "\u001b[1;31m---------------------------------------------------------------------------\u001b[0m",
      "\u001b[1;31mNameError\u001b[0m                                 Traceback (most recent call last)",
      "\u001b[1;32m~\\AppData\\Local\\Temp/ipykernel_9276/4135249331.py\u001b[0m in \u001b[0;36m<module>\u001b[1;34m\u001b[0m\n\u001b[0;32m      1\u001b[0m \u001b[0mgraphs_kruskal\u001b[0m \u001b[1;33m=\u001b[0m \u001b[1;33m[\u001b[0m\u001b[1;33m]\u001b[0m\u001b[1;33m\u001b[0m\u001b[1;33m\u001b[0m\u001b[0m\n\u001b[1;32m----> 2\u001b[1;33m \u001b[1;32mfor\u001b[0m \u001b[0mfile\u001b[0m \u001b[1;32min\u001b[0m \u001b[0mtqdm_notebook\u001b[0m\u001b[1;33m(\u001b[0m\u001b[0mos\u001b[0m\u001b[1;33m.\u001b[0m\u001b[0mlistdir\u001b[0m\u001b[1;33m(\u001b[0m\u001b[1;33m)\u001b[0m\u001b[1;33m)\u001b[0m\u001b[1;33m:\u001b[0m\u001b[1;33m\u001b[0m\u001b[1;33m\u001b[0m\u001b[0m\n\u001b[0m\u001b[0;32m      3\u001b[0m     \u001b[0mvertices\u001b[0m\u001b[1;33m,\u001b[0m \u001b[0medges\u001b[0m\u001b[1;33m,\u001b[0m \u001b[0mnum_V_E\u001b[0m \u001b[1;33m=\u001b[0m \u001b[0mparse_input_file_kruskal\u001b[0m\u001b[1;33m(\u001b[0m\u001b[0mfile\u001b[0m\u001b[1;33m)\u001b[0m\u001b[1;33m\u001b[0m\u001b[1;33m\u001b[0m\u001b[0m\n\u001b[0;32m      4\u001b[0m     \u001b[0mgraphs_kruskal\u001b[0m\u001b[1;33m.\u001b[0m\u001b[0mappend\u001b[0m\u001b[1;33m(\u001b[0m\u001b[1;33m(\u001b[0m\u001b[0mnum_V_E\u001b[0m\u001b[1;33m,\u001b[0m \u001b[0mvertices\u001b[0m\u001b[1;33m,\u001b[0m \u001b[0medges\u001b[0m\u001b[1;33m)\u001b[0m\u001b[1;33m)\u001b[0m\u001b[1;33m\u001b[0m\u001b[1;33m\u001b[0m\u001b[0m\n",
      "\u001b[1;31mNameError\u001b[0m: name 'tqdm_notebook' is not defined"
     ]
    }
   ],
   "source": [
    "graphs_kruskal = []\n",
    "for file in tqdm_notebook(os.listdir()):\n",
    "    vertices, edges, num_V_E = parse_input_file_kruskal(file) \n",
    "    graphs_kruskal.append((num_V_E, vertices, edges))"
   ]
  },
  {
   "cell_type": "code",
   "execution_count": 6,
   "metadata": {},
   "outputs": [],
   "source": [
    "# Graph object\n",
    "class Graph:\n",
    "    def __init__(self, V, E, num_V, num_E):\n",
    "        self.V = V\n",
    "        self.E = E\n",
    "        self.num_V = num_V\n",
    "        self.num_E = num_E"
   ]
  },
  {
   "cell_type": "markdown",
   "metadata": {},
   "source": [
    "# Kruskal Efficient"
   ]
  },
  {
   "cell_type": "code",
   "execution_count": 9,
   "metadata": {},
   "outputs": [],
   "source": [
    "class Kruskal_Efficient:\n",
    "    \n",
    "    def __init__(self, graph):\n",
    "        self.graph = graph\n",
    "        self.sets = {} # set of vertices\n",
    "        self.MST = [] # Minimum Spanning Tree\n",
    "    \n",
    "    \n",
    "    # make a set of vertices\n",
    "    def make_sets(self):\n",
    "        for v in self.graph.V:\n",
    "            self.sets[v] = [v]\n",
    "        \n",
    "    \n",
    "    # union the subsets which the vertices are not in the same sets\n",
    "    def union(self, u_prnt, v_prnt):\n",
    "        # get the size of two elements and append the vertices to the bigger one\n",
    "        if (len(self.sets.get(u_prnt)) >= len(self.sets.get(v_prnt))):\n",
    "            self.sets[u_prnt].extend(self.sets[v_prnt])\n",
    "            self.sets.pop(v_prnt)\n",
    "        # append the list of vertices of parent u to v\n",
    "        else:\n",
    "            self.sets[v_prnt].extend(self.sets[u_prnt])\n",
    "            self.sets.pop(u_prnt)\n",
    "    \n",
    "    \n",
    "    \n",
    "    # find the parent of u and v vertices and return the parents\n",
    "    def find_parent(self, u, v, items):\n",
    "        u_key = v_key = 0\n",
    "        for item in list(items):\n",
    "            # item[0] is the key in dictionary\n",
    "            # item[1] is the values in the dictionary\n",
    "            key, value = item[0], item[1]\n",
    "            # check the vertices in the value list and return the key as the parent of the vertex\n",
    "            if u in value:\n",
    "                u_key = item[0]\n",
    "            if v in value:\n",
    "                v_key = item[0]\n",
    "            if u_key and v_key:\n",
    "                break\n",
    "        return (u_key, v_key)\n",
    "    \n",
    "    \n",
    "    \n",
    "    # make the MST tree\n",
    "    def execute(self):      \n",
    "        # sorting the edges based on the wight of the edges    \n",
    "        E = sorted(self.graph.E, key = lambda m: m[2])\n",
    "        self.make_sets() # make a set of vertices\n",
    "        # make a list of sets of key and value pairs to iterate through them\n",
    "        items = self.sets.items()\n",
    "        for e in E:\n",
    "            # check if number of edges in MST are less than  nodes are \n",
    "            if((len(self.MST)+1) <  int(self.graph.num_E)):\n",
    "                u, v, w = e\n",
    "                u_parent, v_parent = self.find_parent(u, v, items)\n",
    "                # if the vertices(u,v) are not in the same sets\n",
    "                if (u_parent != v_parent):\n",
    "                    self.union(u_parent, v_parent)\n",
    "                    # add the edge to the MST[]\n",
    "                    self.MST.append(e)\n",
    "            # if the MST is completed, stop looping through the edges\n",
    "            else:\n",
    "                break\n",
    "\n",
    "        return self.MST\n",
    "\n",
    "    \n",
    "    # calculate the final weight of the MST\n",
    "    def MSTweight_EK(self):\n",
    "        sum = 0\n",
    "        for (u ,v, w) in self.MST:\n",
    "            sum = sum + w\n",
    "        return sum"
   ]
  },
  {
   "cell_type": "code",
   "execution_count": 10,
   "metadata": {},
   "outputs": [],
   "source": [
    "def get_time_kruskal(vertices, edges, num_V_E):\n",
    "    graph = Graph(vertices, edges, num_V_E[0], num_V_E[1]) # initialize graph\n",
    "    algo = Kruskal_Efficient(graph) # initialize algorithm object\n",
    "    gc.disable() # disable garbage collector\n",
    "    start_time = perf_counter_ns()\n",
    "    result = algo.execute()\n",
    "    end_time = perf_counter_ns()\n",
    "    gc.enable()\n",
    "    print(\"Running Time was: \", end_time-start_time)\n",
    "    return (end_time-start_time)"
   ]
  },
  {
   "cell_type": "code",
   "execution_count": 11,
   "metadata": {},
   "outputs": [
    {
     "data": {
      "application/vnd.jupyter.widget-view+json": {
       "model_id": "1d31a635c7fc43c4804f0ba57d8f74f3",
       "version_major": 2,
       "version_minor": 0
      },
      "text/plain": [
       "0it [00:00, ?it/s]"
      ]
     },
     "metadata": {},
     "output_type": "display_data"
    }
   ],
   "source": [
    "results_k_efficient = []\n",
    "# with a progress bar, execute the algorithm\n",
    "for i in tqdm_notebook(range(len(graphs_kruskal))):\n",
    "    print(\"|V| = \", graphs_kruskal[i][0][0], \" |E| = \", graphs_kruskal[i][0][1])\n",
    "    results_k_efficient.append((graphs_kruskal[i][0][0], get_time_kruskal(graphs_kruskal[i][1], graphs_kruskal[i][2], graphs_kruskal[i][0])))"
   ]
  },
  {
   "cell_type": "markdown",
   "metadata": {},
   "source": [
    "## Repeated runs for the first 50 graphs:"
   ]
  },
  {
   "cell_type": "code",
   "execution_count": 1,
   "metadata": {},
   "outputs": [
    {
     "ename": "NameError",
     "evalue": "name 'tqdm_notebook' is not defined",
     "output_type": "error",
     "traceback": [
      "\u001b[1;31m---------------------------------------------------------------------------\u001b[0m",
      "\u001b[1;31mNameError\u001b[0m                                 Traceback (most recent call last)",
      "\u001b[1;32m~\\AppData\\Local\\Temp/ipykernel_17552/4162975676.py\u001b[0m in \u001b[0;36m<module>\u001b[1;34m\u001b[0m\n\u001b[0;32m      1\u001b[0m \u001b[0mrepeated_results\u001b[0m \u001b[1;33m=\u001b[0m \u001b[1;33m[\u001b[0m\u001b[1;33m]\u001b[0m\u001b[1;33m\u001b[0m\u001b[1;33m\u001b[0m\u001b[0m\n\u001b[1;32m----> 2\u001b[1;33m \u001b[1;32mfor\u001b[0m \u001b[0mi\u001b[0m \u001b[1;32min\u001b[0m \u001b[0mtqdm_notebook\u001b[0m\u001b[1;33m(\u001b[0m\u001b[0mrange\u001b[0m\u001b[1;33m(\u001b[0m\u001b[1;36m0\u001b[0m\u001b[1;33m,\u001b[0m\u001b[1;36m50\u001b[0m\u001b[1;33m)\u001b[0m\u001b[1;33m)\u001b[0m\u001b[1;33m:\u001b[0m\u001b[1;33m\u001b[0m\u001b[1;33m\u001b[0m\u001b[0m\n\u001b[0m\u001b[0;32m      3\u001b[0m     \u001b[0mtemp_results\u001b[0m \u001b[1;33m=\u001b[0m \u001b[1;33m[\u001b[0m\u001b[1;33m]\u001b[0m\u001b[1;33m\u001b[0m\u001b[1;33m\u001b[0m\u001b[0m\n\u001b[0;32m      4\u001b[0m     \u001b[1;32mfor\u001b[0m \u001b[0mj\u001b[0m \u001b[1;32min\u001b[0m \u001b[0mrange\u001b[0m\u001b[1;33m(\u001b[0m\u001b[1;36m0\u001b[0m\u001b[1;33m,\u001b[0m\u001b[1;36m1000\u001b[0m\u001b[1;33m)\u001b[0m\u001b[1;33m:\u001b[0m\u001b[1;33m\u001b[0m\u001b[1;33m\u001b[0m\u001b[0m\n\u001b[0;32m      5\u001b[0m         \u001b[0mprint\u001b[0m\u001b[1;33m(\u001b[0m\u001b[1;34m\"|V| = \"\u001b[0m\u001b[1;33m,\u001b[0m \u001b[0mgraphs_kruskal\u001b[0m\u001b[1;33m[\u001b[0m\u001b[0mi\u001b[0m\u001b[1;33m]\u001b[0m\u001b[1;33m[\u001b[0m\u001b[1;36m0\u001b[0m\u001b[1;33m]\u001b[0m\u001b[1;33m[\u001b[0m\u001b[1;36m0\u001b[0m\u001b[1;33m]\u001b[0m\u001b[1;33m,\u001b[0m \u001b[1;34m\" |E| = \"\u001b[0m\u001b[1;33m,\u001b[0m \u001b[0mgraphs_kruskal\u001b[0m\u001b[1;33m[\u001b[0m\u001b[0mi\u001b[0m\u001b[1;33m]\u001b[0m\u001b[1;33m[\u001b[0m\u001b[1;36m0\u001b[0m\u001b[1;33m]\u001b[0m\u001b[1;33m[\u001b[0m\u001b[1;36m1\u001b[0m\u001b[1;33m]\u001b[0m\u001b[1;33m)\u001b[0m\u001b[1;33m\u001b[0m\u001b[1;33m\u001b[0m\u001b[0m\n",
      "\u001b[1;31mNameError\u001b[0m: name 'tqdm_notebook' is not defined"
     ]
    }
   ],
   "source": [
    "repeated_results = []\n",
    "for i in tqdm_notebook(range(0,50)):\n",
    "    temp_results = []\n",
    "    for j in range(0,1000):\n",
    "        print(\"|V| = \", graphs_kruskal[i][0][0], \" |E| = \", graphs_kruskal[i][0][1])\n",
    "        temp_results.append(get_time_kruskal(graphs_kruskal[i][1], graphs_kruskal[i][2],graphs_kruskal[i][3]))\n",
    "    repeated_results.append((graphs_kruskal[i][0][0], sum(temp_results)/len(temp_results)))\n",
    "repeated_results"
   ]
  },
  {
   "cell_type": "markdown",
   "metadata": {},
   "source": [
    "### Plotting the results:"
   ]
  },
  {
   "cell_type": "code",
   "execution_count": 22,
   "metadata": {},
   "outputs": [
    {
     "name": "stdout",
     "output_type": "stream",
     "text": [
      "[(10, 30100), (10, 37800), (10, 38200), (10, 77200), (20, 86600), (20, 115900), (20, 92600), (20, 94000), (40, 314300), (40, 307300), (40, 242900), (40, 352300), (80, 795000), (80, 828000), (80, 1121600), (80, 783600), (100, 1367100), (100, 1389600), (100, 1160900), (100, 1073700), (200, 4117500), (200, 4033000), (200, 4155600), (200, 4197900), (400, 16837600), (400, 16215100), (400, 15222400), (400, 15251300), (800, 62482600), (800, 64100100), (800, 61568300), (800, 63601000), (1000, 95166600), (1000, 97393600), (1000, 98970100), (1000, 96134100), (2000, 405935200), (2000, 406663000), (2000, 406176000), (2000, 418425400), (4000, 1644818700), (4000, 1645803200), (4000, 1651764700), (4000, 1663303200), (8000, 6653808500), (8000, 6638481500), (8000, 6804117300), (8000, 6644977200), (10000, 10374184800), (10000, 10260758700), (10000, 10362527700), (10000, 10361383400), (20000, 44795341600), (20000, 45190369400), (20000, 45116802000), (20000, 45606853700), (40000, 266453271100), (40000, 292673057200), (40000, 357639664900), (40000, 326709056300), (80000, 1811962037900), (80000, 1745814066400), (80000, 1745204057500), (80000, 1751260676000), (100000, 2898594067500), (100000, 2946948211400), (100000, 2732021579800), (100000, 2738280031800)]\n"
     ]
    },
    {
     "data": {
      "image/png": "[encoded data removed]",
      "text/plain": [
       "<Figure size 432x288 with 1 Axes>"
      ]
     },
     "metadata": {
      "needs_background": "light"
     },
     "output_type": "display_data"
    }
   ],
   "source": [
    "import matplotlib.pyplot as plt\n",
    "results_k_efficient = sorted(results_k_efficient, key=lambda results: results[0])\n",
    "x_val = [x[0] for x in results_k_efficient]\n",
    "y_val = [x[1] for x in results_k_efficient]\n",
    "\n",
    "# build the plot\n",
    "plt.plot(x_val,y_val,'--')\n",
    "plt.plot(x_val,y_val,'og')\n",
    "plt.ylabel(\"Execution time (milliseconds)\")\n",
    "plt.xlabel(\"Number of vertices\")\n",
    "plt.show()"
   ]
  },
  {
   "cell_type": "markdown",
   "metadata": {},
   "source": [
    "### Plotting the repeated results:"
   ]
  },
  {
   "cell_type": "code",
   "execution_count": 2,
   "metadata": {},
   "outputs": [
    {
     "name": "stdout",
     "output_type": "stream",
     "text": [
      "[]\n"
     ]
    },
    {
     "data": {
      "image/png": "[encoded data removed]",
      "text/plain": [
       "<Figure size 432x288 with 1 Axes>"
      ]
     },
     "metadata": {
      "needs_background": "light"
     },
     "output_type": "display_data"
    }
   ],
   "source": [
    "import matplotlib.pyplot as plt \n",
    "repeated_results = sorted(repeated_results,key=lambda repeated_results: repeated_results[0]) #plot the result here\n",
    "print(repeated_results)\n",
    "x_val = [x[0] for x in repeated_results]\n",
    "y_val = [x[1] for x in repeated_results]\n",
    "plt.locator_params('x',nbins = 20)\n",
    "plt.plot(x_val,y_val,'--')\n",
    "plt.plot(x_val,y_val,'og')\n",
    "plt.ylabel(\"Average Execution time (ns)\")\n",
    "plt.xlabel(\"Number of vertices\")\n",
    "plt.show()"
   ]
  },
  {
   "cell_type": "markdown",
   "metadata": {},
   "source": [
    "# Kruskal Naive"
   ]
  },
  {
   "cell_type": "code",
   "execution_count": 7,
   "metadata": {},
   "outputs": [],
   "source": [
    "class Kruskal_Naive:\n",
    "    def __init__(self, graph):\n",
    "        self.graph = graph\n",
    "        self.MST = {} # adjacency list\n",
    "        self.MST_edges = [] # edges\n",
    "        \n",
    "    def dfs_cycle(self, visited, G, v, parent):   \n",
    "        # using DFS traversal find a cycle\n",
    "        visited.add(v)\n",
    "        for neighbour in G[v]:\n",
    "            if neighbour != parent and neighbour in visited:\n",
    "                return True\n",
    "            elif neighbour != parent:            \n",
    "                return self.dfs_cycle(visited, G, neighbour, v)\n",
    "        return False\n",
    "    \n",
    "    def check_cycle(self, edge):\n",
    "        u, v, w = edge\n",
    "        if (u in self.MST and v in self.MST[u]) or (v in self.MST and u in self.MST[v]):\n",
    "            return True\n",
    "        visited = set()\n",
    "        # create a graph to check the edge addition\n",
    "        MST_with_e = {}\n",
    "        # add target edge\n",
    "        MST_with_e[u] = [v]\n",
    "        MST_with_e[v] = [u]\n",
    "        # populate with MST edges\n",
    "        for i in range(len(self.MST_edges)):\n",
    "            a, b, w = self.MST_edges[i]\n",
    "            if a not in MST_with_e:\n",
    "                MST_with_e[a] = []\n",
    "            if b not in MST_with_e:\n",
    "                MST_with_e[b] = []\n",
    "            MST_with_e[a].append(b)\n",
    "            MST_with_e[b].append(a)\n",
    "        \n",
    "        return self.dfs_cycle(visited, MST_with_e, u, '-1')\n",
    "    \n",
    "    def execute(self):\n",
    "        # sorting based on the weight of the edges    \n",
    "        E = sorted(self.graph.E, key = lambda m: m[2])   \n",
    "        # for each edge, check if it doesn't violate the invariant\n",
    "        for e in E:\n",
    "            if not self.check_cycle(e):\n",
    "                self.MST_edges.append(e)\n",
    "                if e[0] not in self.MST:\n",
    "                    self.MST[e[0]] = []\n",
    "                self.MST[e[0]].append(e[1])\n",
    "        return self.MST_edges"
   ]
  },
  {
   "cell_type": "code",
   "execution_count": 8,
   "metadata": {},
   "outputs": [],
   "source": [
    "def get_time_kruskal(vertices, edges, num_V_E):\n",
    "    graph = Graph(vertices, edges, num_V_E[0], num_V_E[1]) # initialize graph\n",
    "    algo = Kruskal_Naive(graph) # initialize algorithm object\n",
    "    gc.disable() # disable garbage collector\n",
    "    start_time = perf_counter_ns()\n",
    "    full_edges  = algo.execute()\n",
    "    end_time = perf_counter_ns()\n",
    "    gc.enable()\n",
    "    #print(\"Running Time was: \", end_time-start_time)\n",
    "    #print(full_edges)\n",
    "    #print(\"Total weight: {}\".format(sum([e[2] for e in full_edges])))\n",
    "    return (end_time-start_time)"
   ]
  },
  {
   "cell_type": "code",
   "execution_count": null,
   "metadata": {},
   "outputs": [
    {
     "data": {
      "application/vnd.jupyter.widget-view+json": {
       "model_id": "943ed4cf2f5041f6b375e20bd7246a7f",
       "version_major": 2,
       "version_minor": 0
      },
      "text/plain": [
       "  0%|          | 0/68 [00:00<?, ?it/s]"
      ]
     },
     "metadata": {},
     "output_type": "display_data"
    }
   ],
   "source": [
    "results_k_naive = []\n",
    "# with a progress bar, execute the algorithm\n",
    "for i in tqdm_notebook(range(len(graphs_kruskal[:10]))):\n",
    "    #print(\"|V| = \", graphs_kruskal[i][0][0], \" |E| = \", graphs_kruskal[i][0][1])\n",
    "    results_k_naive.append((graphs_kruskal[i][0][0], get_time_kruskal(graphs_kruskal[i][1], graphs_kruskal[i][2], graphs_kruskal[i][0])))"
   ]
  },
  {
   "cell_type": "code",
   "execution_count": 12,
   "metadata": {},
   "outputs": [
    {
     "name": "stdout",
     "output_type": "stream",
     "text": [
      "[(10, 39600), (10, 58100), (10, 54300), (10, 52200), (20, 156300), (20, 246100), (20, 262400), (20, 121900), (40, 736800), (40, 599800), (40, 617200), (40, 779500), (80, 1991600), (80, 2168800), (80, 2121700), (80, 2227900), (100, 3273700), (100, 3532100), (100, 3308600), (100, 2970400), (200, 13669900), (200, 14320900), (200, 12150400), (200, 12823800), (400, 54698400), (400, 53536400), (400, 52089100), (400, 54135600), (800, 212056700), (800, 209625000), (800, 200457600), (800, 206821200), (1000, 330721800), (1000, 335730900), (1000, 320822300), (1000, 339559900), (2000, 1381036200), (2000, 1363782100), (2000, 1370117900), (2000, 1394933200), (4000, 5512970500), (4000, 5663087000), (4000, 5678547200), (4000, 5668277400), (8000, 22492685100), (8000, 22320784500), (8000, 22107688300), (8000, 22111098900), (10000, 34454909000), (10000, 35131162400), (10000, 34936482400), (10000, 34909513500), (20000, 157748629400), (20000, 152819958100), (20000, 154456007100), (20000, 150680240600), (40000, 811219172300), (40000, 813168460200), (40000, 808199625900), (40000, 811370353300), (80000, 3876060683400), (80000, 3853999515700), (80000, 3849305720900), (80000, 3855568792700), (100000, 6298949974600), (100000, 6616056375300), (100000, 6655262461100), (100000, 6682662210800)]\n"
     ]
    },
    {
     "data": {
      "image/png": "[encoded data removed]",
      "text/plain": [
       "<Figure size 432x288 with 1 Axes>"
      ]
     },
     "metadata": {
      "needs_background": "light"
     },
     "output_type": "display_data"
    }
   ],
   "source": [
    "import matplotlib.pyplot as plt\n",
    "results_k_naive = sorted(results_k_naive, key=lambda results: results[0])\n",
    "print(results_k_naive)\n",
    "x_val = [x[0] for x in results_k_naive]\n",
    "y_val = [x[1] for x in results_k_naive]\n",
    "\n",
    "# build a plot\n",
    "plt.plot(x_val,y_val,'--')\n",
    "plt.plot(x_val,y_val,'og')\n",
    "plt.ylabel(\"Execution time (milliseconds)\")\n",
    "plt.xlabel(\"Number of vertices\")\n",
    "plt.show()"
   ]
  },
  {
   "cell_type": "code",
   "execution_count": 13,
   "metadata": {},
   "outputs": [],
   "source": [
    "plt.show()"
   ]
  },
  {
   "cell_type": "code",
   "execution_count": null,
   "metadata": {},
   "outputs": [],
   "source": []
  }
 ],
 "metadata": {
  "kernelspec": {
   "display_name": "Python 3 (ipykernel)",
   "language": "python",
   "name": "python3"
  },
  "language_info": {
   "codemirror_mode": {
    "name": "ipython",
    "version": 3
   },
   "file_extension": ".py",
   "mimetype": "text/x-python",
   "name": "python",
   "nbconvert_exporter": "python",
   "pygments_lexer": "ipython3",
   "version": "3.9.7"
  }
 },
 "nbformat": 4,
 "nbformat_minor": 2
}

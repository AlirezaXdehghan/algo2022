{
 "cells": [
  {
   "cell_type": "code",
   "execution_count": 1,
   "metadata": {
    "pycharm": {
     "name": "#%%\n"
    }
   },
   "outputs": [],
   "source": [
    "import os\n",
    "import random\n",
    "from math import log,sqrt,ceil\n",
    "from time import perf_counter_ns\n",
    "import gc\n",
    "from random import choice\n",
    "import copy\n",
    "import numpy as np\n",
    "os.chdir('dataset')"
   ]
  },
  {
   "cell_type": "markdown",
   "metadata": {
    "pycharm": {
     "name": "#%% md\n"
    }
   },
   "source": [
    "# Parse Input"
   ]
  },
  {
   "cell_type": "code",
   "execution_count": 2,
   "metadata": {
    "pycharm": {
     "name": "#%%\n"
    }
   },
   "outputs": [],
   "source": [
    "def parse_input_file(file_address):\n",
    "    # store vertices and edges in separate sets\n",
    "    vertices = set()\n",
    "    edges = [] \n",
    "    # read file\n",
    "    with open(file_address) as f:\n",
    "        lines = f.readlines()\n",
    "    num_V_E = [int(x) for x in lines[0].split()]\n",
    "    lines = lines[1:]\n",
    "    # populate sets\n",
    "    for line in lines:\n",
    "        x = line.split()\n",
    "        vertices.add(x[0])\n",
    "        vertices.add(x[1])\n",
    "        edges.append((x[0], x[1], int(x[2])))\n",
    "    vertices = list(vertices)\n",
    "    return vertices, edges, num_V_E"
   ]
  },
  {
   "cell_type": "code",
   "execution_count": 3,
   "metadata": {
    "pycharm": {
     "name": "#%%\n"
    }
   },
   "outputs": [],
   "source": [
    "graphs = []\n",
    "for file in os.listdir():\n",
    "    vertices, edges, num_V_E = parse_input_file(file) \n",
    "    graphs.append((num_V_E, vertices, edges))"
   ]
  },
  {
   "cell_type": "code",
   "execution_count": 6,
   "metadata": {
    "pycharm": {
     "name": "#%%\n"
    }
   },
   "outputs": [],
   "source": [
    "#graphs #a list of graphs as tuples, the tuples contain: \n",
    "#[0]: a list containing number of vertices and edges\n",
    "#[1]: a list of vertices' names\n",
    "#[2]: a list of edges as tuples (u,v,w)"
   ]
  },
  {
   "cell_type": "markdown",
   "metadata": {
    "pycharm": {
     "name": "#%% md\n"
    }
   },
   "source": [
    "# Stoer and Wagner's deterministic algorithm "
   ]
  },
  {
   "cell_type": "code",
   "execution_count": 9,
   "metadata": {
    "pycharm": {
     "name": "#%%\n"
    }
   },
   "outputs": [],
   "source": [
    "\n",
    "def findCut(V,E):\n",
    "        rV, rW, nV = findMax(V,E) #gets the vertex and all the edges, gives back the weight of the cut, and two last nodes to merge\n",
    "        if nV != None:\n",
    "            E,_,_ = updateDict(rV,nV,E) #merges two last nodes and updates edge dictionary\n",
    "        if len(E) <= 2:\n",
    "            remainingVertex = list(E.keys())                      # another patch because code doesn't account for last cut!\n",
    "            rW = E[remainingVertex[0]][0][1]\n",
    "        return rW, E\n",
    "\n",
    "def findMax(V,E):\n",
    "    Ecop = {}\n",
    "    Ecop = copy.deepcopy(E)\n",
    "    seen = []\n",
    "    V2 = None\n",
    "    while(len(Ecop) > 2):                                    # here we want to merge nodes until we reach the 2 last nodes\n",
    "        highestWeight = Ecop[V][0]                           # so we can get the cut.\n",
    "        Ecop, V, V2 = updateDict(V,highestWeight[0],Ecop)    # at each iteration we get the node adjacent to starting node with\n",
    "    remainingVertex = list(Ecop.keys())                      # highest weight and merge it and continue\n",
    "    remainingWeight = Ecop[remainingVertex[0]][0][1]         # at the end we return the remaining 2 vertices and their\n",
    "    V1 = remainingVertex[0]                                  # edge's weight\n",
    "    return V1, remainingWeight, V2\n",
    "\n",
    "def updateDict(oldTouched,newTouched, EdgeDict, doSort = True):\n",
    "    list1 = EdgeDict[oldTouched]\n",
    "    list2 = EdgeDict[newTouched]\n",
    "    newName = oldTouched+'&'+newTouched                                          # here given two vertices, we merge them and \n",
    "    EdgeDict.pop(oldTouched)                                                     # keep track of their adjacent nodes and their\n",
    "    EdgeDict.pop(newTouched)                                                     # weights, at the end the dictionary will get\n",
    "    EdgeDict[newName] = []                                                       # updated with refrences to old nodes removed\n",
    "    for i in range(len(list1)):                                                  \n",
    "        for j in range(len(list2)):                                              \n",
    "            if list1[i] == [] or list2[j] == []:\n",
    "                continue\n",
    "            if list1[i][0] == oldTouched or list1[i][0] == newTouched:           # these are to skip added nodes\n",
    "                list1[i] = []                                                    # and mitigate the risk of duplicates\n",
    "                continue\n",
    "            if list2[j][0] == oldTouched or list2[j][0] == newTouched:\n",
    "                list2[j] = []\n",
    "                continue\n",
    "            if list1[i][0] == list2[j][0]:                                       # if there are two paths to new merged node\n",
    "                EdgeDict[newName].append((list1[i][0],list1[i][1]+list2[j][1]))  # simply sum the weights\n",
    "                list1[i] = []\n",
    "                list2[j] = []\n",
    "    \n",
    "    for i in range(len(list1)):\n",
    "        if list1[i] == []:\n",
    "            continue\n",
    "        EdgeDict[newName].append((list1[i][0],list1[i][1]))                      # if it's not duplicate and there are one path\n",
    "        list1[i] = []                                                            # simply add them\n",
    "    for j in range(len(list2)):\n",
    "        if list2[j] == []:\n",
    "            continue\n",
    "        EdgeDict[newName].append((list2[j][0],list2[j][1]))\n",
    "        list2[j] = []\n",
    "    \n",
    "    EdgeDict = deleteSelfRef(EdgeDict)\n",
    "    \n",
    "    if doSort == True:\n",
    "        EdgeDict[newName] = sorted(EdgeDict[newName],reverse=True, key=lambda e:e[1])    \n",
    "        \n",
    "    for u,w in EdgeDict[newName]:\n",
    "        if u == oldTouched:\n",
    "            u = newName\n",
    "        if u == newTouched:\n",
    "            u = newName\n",
    "        \n",
    "        listOld = EdgeDict[u]\n",
    "        for i in range(len(listOld)):\n",
    "            if listOld[i][0] == oldTouched or listOld[i][0] == newTouched:        # now we iterate through adjacent nodes of new\n",
    "                listOld[i] = (newName,w)                                          # merged node, and we update the refrences and\n",
    "        listOld = list(dict.fromkeys(listOld))                                    # the weights from other keys of dictionary\n",
    "        if doSort == True:\n",
    "            EdgeDict[u] = sorted(listOld,reverse=True, key=lambda e:e[1])\n",
    "        else:\n",
    "            EdgeDict[u] = listOld\n",
    "    EdgeDict = deleteSelfRef(EdgeDict)\n",
    "    return EdgeDict, newName, newTouched\n",
    "\n",
    "def deleteSelfRef(EdgeDict):\n",
    "    for selfName in list(EdgeDict.keys()):         # this is to fix an issue that the updateDict() didn't account for\n",
    "        listSelf = EdgeDict[selfName]              # when updating the list of adjacency for each node, there might be a\n",
    "        for i in range(len(listSelf)):             # refrence to the same node in its adjacency list, this will remove the\n",
    "            if listSelf[i][0] == selfName:         # self reference\n",
    "                listSelf.pop(i)\n",
    "                break\n",
    "    return EdgeDict\n",
    "\n",
    "def createDict(verticesTuple, doSort = True): #this creates a dictionary with \"v\" as key and (u,w) as values, also sorts it! for faster access.\n",
    "    vert = {}\n",
    "    for (u,v,w) in verticesTuple:\n",
    "        if u not in vert:\n",
    "            vert[u] = []\n",
    "        if v not in vert:\n",
    "            vert[v] = []\n",
    "        vert[u].append((v,int(w)))\n",
    "        vert[v].append((u,int(w)))\n",
    "    if doSort == True:\n",
    "        for v in vert:\n",
    "            vert[v] = sorted(vert[v],reverse=True, key=lambda e:e[1])\n",
    "    return vert"
   ]
  },
  {
   "cell_type": "code",
   "execution_count": 10,
   "metadata": {
    "pycharm": {
     "name": "#%%\n"
    }
   },
   "outputs": [
    {
     "name": "stdout",
     "output_type": "stream",
     "text": [
      "for 10 vertices and 14 Edges, time was: 3691100 weight was: 3056\n",
      "for 10 vertices and 10 Edges, time was: 4842200 weight was: 223\n",
      "for 10 vertices and 12 Edges, time was: 2748700 weight was: 2302\n",
      "for 10 vertices and 11 Edges, time was: 3575600 weight was: 4974\n",
      "for 20 vertices and 24 Edges, time was: 13543200 weight was: 1526\n",
      "for 20 vertices and 24 Edges, time was: 26196800 weight was: 1684\n",
      "for 20 vertices and 27 Edges, time was: 11571400 weight was: 522\n",
      "for 20 vertices and 25 Edges, time was: 10214500 weight was: 2866\n",
      "for 40 vertices and 52 Edges, time was: 65613000 weight was: 2137\n",
      "for 40 vertices and 54 Edges, time was: 72419100 weight was: 1446\n",
      "for 40 vertices and 51 Edges, time was: 67382900 weight was: 648\n",
      "for 40 vertices and 50 Edges, time was: 59459600 weight was: 2486\n",
      "for 60 vertices and 82 Edges, time was: 170692100 weight was: 1282\n",
      "for 60 vertices and 72 Edges, time was: 194752500 weight was: 299\n",
      "for 60 vertices and 83 Edges, time was: 188418300 weight was: 2113\n",
      "for 60 vertices and 79 Edges, time was: 235288700 weight was: 159\n",
      "for 80 vertices and 101 Edges, time was: 463995400 weight was: 969\n",
      "for 80 vertices and 105 Edges, time was: 554712500 weight was: 1756\n",
      "for 80 vertices and 108 Edges, time was: 493326700 weight was: 714\n",
      "for 80 vertices and 108 Edges, time was: 483128300 weight was: 2610\n",
      "for 100 vertices and 128 Edges, time was: 788899600 weight was: 341\n",
      "for 100 vertices and 120 Edges, time was: 760025100 weight was: 890\n",
      "for 100 vertices and 125 Edges, time was: 718330300 weight was: 772\n",
      "for 100 vertices and 133 Edges, time was: 816594200 weight was: 1561\n",
      "for 150 vertices and 197 Edges, time was: 2631810300 weight was: 951\n",
      "for 150 vertices and 206 Edges, time was: 3103985600 weight was: 424\n",
      "for 150 vertices and 195 Edges, time was: 2553427600 weight was: 1153\n",
      "for 150 vertices and 198 Edges, time was: 2419107300 weight was: 707\n",
      "for 200 vertices and 276 Edges, time was: 5539283900 weight was: 484\n",
      "for 200 vertices and 260 Edges, time was: 6270550200 weight was: 850\n",
      "for 200 vertices and 269 Edges, time was: 5735175500 weight was: 1382\n",
      "for 200 vertices and 274 Edges, time was: 5775533900 weight was: 1102\n",
      "for 250 vertices and 317 Edges, time was: 9523277100 weight was: 346\n",
      "for 250 vertices and 322 Edges, time was: 10088957400 weight was: 381\n",
      "for 250 vertices and 338 Edges, time was: 10744412400 weight was: 129\n",
      "for 250 vertices and 326 Edges, time was: 10345982900 weight was: 670\n",
      "for 300 vertices and 403 Edges, time was: 17975358700 weight was: 1137\n",
      "for 300 vertices and 393 Edges, time was: 17674649000 weight was: 869\n",
      "for 300 vertices and 408 Edges, time was: 19501649600 weight was: 868\n",
      "for 300 vertices and 411 Edges, time was: 19774388000 weight was: 1148\n",
      "for 350 vertices and 468 Edges, time was: 27658285100 weight was: 676\n",
      "for 350 vertices and 475 Edges, time was: 31539705800 weight was: 290\n",
      "for 350 vertices and 462 Edges, time was: 29722822700 weight was: 818\n",
      "for 350 vertices and 474 Edges, time was: 36242773200 weight was: 175\n",
      "for 400 vertices and 543 Edges, time was: 57938597400 weight was: 508\n",
      "for 400 vertices and 527 Edges, time was: 52792274800 weight was: 904\n",
      "for 400 vertices and 526 Edges, time was: 78696905900 weight was: 362\n",
      "for 400 vertices and 525 Edges, time was: 70613335200 weight was: 509\n",
      "for 450 vertices and 595 Edges, time was: 57801033100 weight was: 400\n",
      "for 450 vertices and 602 Edges, time was: 92035241300 weight was: 364\n",
      "for 450 vertices and 593 Edges, time was: 89519959800 weight was: 336\n",
      "for 450 vertices and 594 Edges, time was: 90082947900 weight was: 639\n",
      "for 500 vertices and 670 Edges, time was: 171696091600 weight was: 43\n",
      "for 500 vertices and 671 Edges, time was: 86578330300 weight was: 805\n",
      "for 500 vertices and 670 Edges, time was: 90920829600 weight was: 363\n",
      "for 500 vertices and 666 Edges, time was: 110455061200 weight was: 584\n"
     ]
    }
   ],
   "source": [
    "#start with arbitary vertex\n",
    "time_weight_Deterministic = []\n",
    "for graph1 in graphs:\n",
    "    leftVertices = graph1[0][0]\n",
    "    NumVert = leftVertices\n",
    "    NumEdge = graph1[0][1]\n",
    "    vertices = graph1[1]\n",
    "    edges = createDict(graph1[2])\n",
    "    startV = vertices[0]\n",
    "    cuts=[]\n",
    "    gc.disable()\n",
    "    start_time = perf_counter_ns()\n",
    "    while leftVertices > 2:\n",
    "        cutWeight, edges = findCut(startV,edges)\n",
    "        cuts.append(cutWeight)\n",
    "        leftVertices -= 1\n",
    "    end_time = perf_counter_ns()\n",
    "    time = end_time - start_time\n",
    "    print(\"for\",NumVert,\"vertices and\",NumEdge,\"Edges,\",\"time was:\",time,\"weight was:\",min(cuts))\n",
    "    time_weight_Deterministic.append((time,NumVert,NumEdge,min(cuts)))\n",
    "    gc.enable()\n",
    "#while there is more than one vertex\n",
    "##find a cut (find a node it's edge to V is maximized, then create a supernode, find a vertex\n",
    "##that has the highest weight to the super node, go on until we reach the last two! make these a super node!)\n",
    "##make the graph smaller!(continue what we did last time and store the last weight each time, minimum of them is the min cut)"
   ]
  },
  {
   "cell_type": "code",
   "execution_count": 11,
   "metadata": {
    "pycharm": {
     "name": "#%%\n"
    }
   },
   "outputs": [
    {
     "name": "stdout",
     "output_type": "stream",
     "text": [
      "C estimate: 9.14308624016308e-05\n"
     ]
    },
    {
     "data": {
      "image/png": "[encoded data removed]",
      "text/plain": [
       "<Figure size 432x288 with 1 Axes>"
      ]
     },
     "metadata": {
      "needs_background": "light"
     },
     "output_type": "display_data"
    },
    {
     "data": {
      "image/png": "[encoded data removed]",
      "text/plain": [
       "<Figure size 432x288 with 1 Axes>"
      ]
     },
     "metadata": {
      "needs_background": "light"
     },
     "output_type": "display_data"
    }
   ],
   "source": [
    "x_val = []\n",
    "y_val = []\n",
    "yAC_val = []\n",
    "c_estimate = []\n",
    "for (T,V,E,_) in time_weight_Deterministic:\n",
    "    x_val.append(V)\n",
    "    y_val.append(T/10**9)\n",
    "    c_estimate.append((T/10**9) /( V * E + V**2 * log(V)))\n",
    "    \n",
    "c = sum(c_estimate)/(len(c_estimate)-40)\n",
    "print(\"C estimate:\",c)\n",
    "\n",
    "for (T,V,E,_) in time_weight_Deterministic:\n",
    "    yAC_val.append(c * (V * E + V**2 * log(V)))\n",
    "\n",
    "import matplotlib.pyplot as plt\n",
    "plt.plot(x_val,y_val,'--')\n",
    "plt.plot(x_val,y_val,'og')\n",
    "plt.ylabel(\"Execution time (seconds)\")\n",
    "plt.xlabel(\"Number of vertices\")\n",
    "plt.title('Run time of the Algorithm on given Dataset')\n",
    "plt.show()\n",
    "plt.plot(x_val,yAC_val,'--')\n",
    "plt.plot(x_val,yAC_val,'og')\n",
    "plt.xlabel(\"Number of vertices\")\n",
    "plt.ylabel(\"Execution time (seconds)\")\n",
    "plt.title(\"asymptotic complexity\")\n",
    "plt.show()"
   ]
  },
  {
   "cell_type": "markdown",
   "metadata": {
    "pycharm": {
     "name": "#%% md\n"
    }
   },
   "source": [
    "O(|V||E|+|V|^2*log |V|) stoer wagner"
   ]
  },
  {
   "cell_type": "markdown",
   "metadata": {
    "pycharm": {
     "name": "#%% md\n"
    }
   },
   "source": [
    "# Karger and Stein's randomized algorithm"
   ]
  },
  {
   "cell_type": "code",
   "execution_count": 4,
   "metadata": {
    "pycharm": {
     "name": "#%%\n"
    }
   },
   "outputs": [],
   "source": [
    "def length(D):\n",
    "    len = 0\n",
    "    for i in D:\n",
    "        if i!=0:\n",
    "            len += 1\n",
    "    return len\n",
    "\n",
    "def rec_contract(D,W):\n",
    "    n = length(D)\n",
    "    if n <= 6:\n",
    "        return contract(D,W,2) \n",
    "    t = ceil((n/sqrt(2))+1)\n",
    "    w = []\n",
    "    for i in range(0,1): #technically creating two random instances and using the one with minimum weight\n",
    "        Di,Wi = contract(D,W,t)\n",
    "        w.append(rec_contract(Di,Wi))\n",
    "    return min(w)\n",
    "\n",
    "def contract(D, W, k):\n",
    "    n = length(D)\n",
    "    for i in range(n-k):\n",
    "        (u,v) = Edge_Select(D,W)\n",
    "        contract_edge(D,W,u,v)\n",
    "    return D,W\n",
    "\n",
    "def contract_edge(D,W,u,v):\n",
    "    D[u] = D[u] + D[v] - 2*W[u,v]\n",
    "    D[v] = 0\n",
    "    W[u,v] = 0\n",
    "    W[v,u] = 0\n",
    "    for w in range(len(W)):\n",
    "        if w == u or w == v:\n",
    "            continue\n",
    "        W[u,w] = W[u,w] + W[v,w]\n",
    "        W[w,u] = W[w,u] + W[w,v]\n",
    "        W[v,w] = 0\n",
    "        W[w,v] = 0\n",
    "    return D,W"
   ]
  },
  {
   "cell_type": "code",
   "execution_count": 5,
   "metadata": {
    "pycharm": {
     "name": "#%%\n"
    }
   },
   "outputs": [],
   "source": [
    "def createWeiAdjMat(edgeList,Vertices):\n",
    "    wlist = np.zeros((Vertices+1,Vertices+1),dtype=int)\n",
    "    for (u,v,w) in edgeList:\n",
    "        wlist [int(u),int(v)] = w\n",
    "        wlist [int(v),int(u)] = w\n",
    "    return wlist\n",
    "\n",
    "def createWeiDeg(WeightList,Vlist):\n",
    "    D = np.zeros((len(Vlist)+1))\n",
    "    for u in Vlist:\n",
    "        sumofweight = 0\n",
    "        for v in Vlist:\n",
    "            sumofweight += WeightList[int(u),int(v)]\n",
    "        D[int(u)] = sumofweight\n",
    "    return D\n",
    "\n",
    "def createCumulative(Elist):\n",
    "    cumweight = np.zeros(len(Elist))\n",
    "    for i in range(len(cumweight)):\n",
    "        cumweight[i] = summitup(Elist,i)\n",
    "    return cumweight\n",
    "\n",
    "def summitup(Elist, k):\n",
    "    agg = 0\n",
    "    for i in range(k+1):\n",
    "        agg += Elist[i]\n",
    "    return agg\n",
    "\n",
    "def Random_Select(C):\n",
    "    r = random.randint(0,C[(len(C)-1)])\n",
    "    i = binarysearch(C,r)\n",
    "    return i\n",
    "\n",
    "def binarysearch(C,r):\n",
    "    low = 0\n",
    "    high = len(C) - 1\n",
    "    mid = 1\n",
    "    if r <= C[low]:\n",
    "        return low\n",
    "    elif r >=C[high]:\n",
    "        return high\n",
    "    while not (C[mid - 1] <= r and r < C[mid]):\n",
    "        mid = (high+low) // 2\n",
    "        if r >= C[mid]:\n",
    "            low = mid + 1\n",
    "        elif r < C[mid-1]:\n",
    "            high = mid - 1\n",
    "    return mid\n",
    "\n",
    "def Edge_Select(D,W):\n",
    "    C = createCumulative(D)\n",
    "    u = Random_Select(C)\n",
    "    w = createCumulative(W[u])\n",
    "    v = Random_Select(w)\n",
    "    return u, v\n",
    "\n",
    "def Execute(D,W):\n",
    "    d,w = rec_contract(D,W)\n",
    "    for i in d:\n",
    "        if i != 0:\n",
    "            return i"
   ]
  },
  {
   "cell_type": "code",
   "execution_count": 6,
   "metadata": {
    "pycharm": {
     "name": "#%%\n"
    }
   },
   "outputs": [
    {
     "name": "stdout",
     "output_type": "stream",
     "text": [
      "for 10 vertices and 14 Edges, time was: 17142000 weight was: 3056.0 also dicovery Time was: 9883700\n",
      "for 10 vertices and 10 Edges, time was: 16094000 weight was: 223.0 also dicovery Time was: 1902300\n",
      "for 10 vertices and 12 Edges, time was: 22736700 weight was: 2302.0 also dicovery Time was: 2825000\n",
      "for 10 vertices and 11 Edges, time was: 13853600 weight was: 5152.0 also dicovery Time was: 13852100\n",
      "for 20 vertices and 24 Edges, time was: 53702400 weight was: 1526.0 also dicovery Time was: 41334900\n",
      "for 20 vertices and 24 Edges, time was: 36853200 weight was: 1684.0 also dicovery Time was: 4221400\n",
      "for 20 vertices and 27 Edges, time was: 38997200 weight was: 522.0 also dicovery Time was: 4504500\n",
      "for 20 vertices and 25 Edges, time was: 38934000 weight was: 2866.0 also dicovery Time was: 4896900\n",
      "for 40 vertices and 52 Edges, time was: 386097000 weight was: 2137.0 also dicovery Time was: 104188600\n",
      "for 40 vertices and 54 Edges, time was: 549385500 weight was: 1446.0 also dicovery Time was: 53749900\n",
      "for 40 vertices and 51 Edges, time was: 497212000 weight was: 648.0 also dicovery Time was: 51863600\n",
      "for 40 vertices and 50 Edges, time was: 382953500 weight was: 2486.0 also dicovery Time was: 150799600\n",
      "for 60 vertices and 82 Edges, time was: 1770455100 weight was: 1282.0 also dicovery Time was: 306795900\n",
      "for 60 vertices and 72 Edges, time was: 1748225400 weight was: 299.0 also dicovery Time was: 67469900\n",
      "for 60 vertices and 83 Edges, time was: 1753080500 weight was: 2113.0 also dicovery Time was: 69787700\n",
      "for 60 vertices and 79 Edges, time was: 1737843200 weight was: 159.0 also dicovery Time was: 141790200\n",
      "for 80 vertices and 101 Edges, time was: 3832013200 weight was: 969.0 also dicovery Time was: 464234000\n",
      "for 80 vertices and 105 Edges, time was: 3811286300 weight was: 1756.0 also dicovery Time was: 311421400\n",
      "for 80 vertices and 108 Edges, time was: 3805701400 weight was: 714.0 also dicovery Time was: 312080700\n",
      "for 80 vertices and 108 Edges, time was: 3831126400 weight was: 2610.0 also dicovery Time was: 1525727800\n",
      "for 100 vertices and 128 Edges, time was: 7888289100 weight was: 341.0 also dicovery Time was: 334584300\n",
      "for 100 vertices and 120 Edges, time was: 7608261800 weight was: 890.0 also dicovery Time was: 1142370300\n",
      "for 100 vertices and 125 Edges, time was: 7405663000 weight was: 772.0 also dicovery Time was: 938425900\n",
      "for 100 vertices and 133 Edges, time was: 7442782700 weight was: 1561.0 also dicovery Time was: 3167249900\n",
      "for 150 vertices and 197 Edges, time was: 32802116400 weight was: 951.0 also dicovery Time was: 2742050800\n",
      "for 150 vertices and 206 Edges, time was: 32233415900 weight was: 424.0 also dicovery Time was: 885275800\n",
      "for 150 vertices and 195 Edges, time was: 32741282300 weight was: 1153.0 also dicovery Time was: 2777334600\n",
      "for 150 vertices and 198 Edges, time was: 33973110700 weight was: 707.0 also dicovery Time was: 884684200\n",
      "for 200 vertices and 276 Edges, time was: 74720134800 weight was: 484.0 also dicovery Time was: 4116461700\n",
      "for 200 vertices and 260 Edges, time was: 94873654500 weight was: 850.0 also dicovery Time was: 4125178700\n",
      "for 200 vertices and 269 Edges, time was: 101176603100 weight was: 1382.0 also dicovery Time was: 16329050300\n",
      "for 200 vertices and 274 Edges, time was: 95868851600 weight was: 1102.0 also dicovery Time was: 29307337400\n",
      "for 250 vertices and 317 Edges, time was: 187028472300 weight was: 346.0 also dicovery Time was: 26152365200\n",
      "for 250 vertices and 322 Edges, time was: 186277731800 weight was: 381.0 also dicovery Time was: 5216103200\n",
      "for 250 vertices and 338 Edges, time was: 168514809700 weight was: 129.0 also dicovery Time was: 5126215200\n",
      "for 250 vertices and 326 Edges, time was: 145821086500 weight was: 670.0 also dicovery Time was: 4046959800\n",
      "for 300 vertices and 403 Edges, time was: 247027282300 weight was: 1137.0 also dicovery Time was: 14328991700\n",
      "for 300 vertices and 393 Edges, time was: 304176994600 weight was: 869.0 also dicovery Time was: 13495311000\n",
      "for 300 vertices and 408 Edges, time was: 322848813000 weight was: 868.0 also dicovery Time was: 26801413900\n",
      "for 300 vertices and 411 Edges, time was: 311580545600 weight was: 1148.0 also dicovery Time was: 17039583600\n",
      "for 350 vertices and 468 Edges, time was: 413537972400 weight was: 676.0 also dicovery Time was: 137831482000\n",
      "for 350 vertices and 475 Edges, time was: 384612289700 weight was: 290.0 also dicovery Time was: 21088425100\n",
      "for 350 vertices and 462 Edges, time was: 381430800200 weight was: 818.0 also dicovery Time was: 10463592200\n",
      "for 350 vertices and 474 Edges, time was: 425597200800 weight was: 175.0 also dicovery Time was: 31755481900\n",
      "for 400 vertices and 543 Edges, time was: 679966803500 weight was: 508.0 also dicovery Time was: 20721488100\n",
      "for 400 vertices and 527 Edges, time was: 610369042500 weight was: 904.0 also dicovery Time was: 16154117400\n",
      "for 400 vertices and 526 Edges, time was: 663204773300 weight was: 362.0 also dicovery Time was: 19741161800\n",
      "for 400 vertices and 525 Edges, time was: 721388248000 weight was: 509.0 also dicovery Time was: 15989658800\n",
      "for 450 vertices and 595 Edges, time was: 1253264411700 weight was: 400.0 also dicovery Time was: 24488563500\n",
      "for 450 vertices and 602 Edges, time was: 1226823628700 weight was: 364.0 also dicovery Time was: 28774598600\n",
      "for 450 vertices and 593 Edges, time was: 1244229187700 weight was: 336.0 also dicovery Time was: 89171513200\n",
      "for 450 vertices and 594 Edges, time was: 1274515501200 weight was: 639.0 also dicovery Time was: 67045372800\n",
      "for 500 vertices and 670 Edges, time was: 1752099056300 weight was: 43.0 also dicovery Time was: 39653951000\n",
      "for 500 vertices and 671 Edges, time was: 1840879475700 weight was: 805.0 also dicovery Time was: 239051124900\n",
      "for 500 vertices and 670 Edges, time was: 1755819120400 weight was: 363.0 also dicovery Time was: 124645554700\n",
      "for 500 vertices and 666 Edges, time was: 1647781367000 weight was: 584.0 also dicovery Time was: 353037680300\n"
     ]
    }
   ],
   "source": [
    "time_weight_Randomized = []\n",
    "\n",
    "for graph1 in graphs:\n",
    "    vertices = graph1[1]\n",
    "    NumEdge = graph1[0][1]\n",
    "    edges = graph1[2]\n",
    "    NumVert = int(graph1[0][0])\n",
    "    WeightMatrix = createWeiAdjMat(edges,NumVert) #weight adjacency matrix\n",
    "    D = createWeiDeg(WeightMatrix,vertices)\n",
    "    cuts=[]\n",
    "    gc.disable()\n",
    "    start_time = perf_counter_ns()\n",
    "    currentcut = float('inf')\n",
    "    for i in range(0,ceil(log(NumVert))**2): #repeat it for (log(n))**2 times! because each iteration probability is 1 - e^-Cn and C is the coefficent in C * logn\n",
    "        Dc = copy.deepcopy(D)\n",
    "        WeightMatrixc = copy.deepcopy(WeightMatrix)\n",
    "        w = Execute(Dc,WeightMatrixc)\n",
    "        cuts.append(w)\n",
    "        if w < currentcut:\n",
    "            currentcut = w\n",
    "            end_current = perf_counter_ns()\n",
    "            dis_time = end_current - start_time\n",
    "    end_time = perf_counter_ns()\n",
    "    time = end_time - start_time\n",
    "    gc.enable()\n",
    "    print(\"for\",NumVert,\"vertices and\",NumEdge,\"Edges,\",\"time was:\",time,\"weight was:\",min(cuts),\"also dicovery Time was:\",dis_time)\n",
    "    time_weight_Randomized.append((time,dis_time,NumVert,NumEdge,min(cuts)))"
   ]
  },
  {
   "cell_type": "code",
   "execution_count": 14,
   "metadata": {
    "pycharm": {
     "name": "#%%\n"
    }
   },
   "outputs": [
    {
     "name": "stdout",
     "output_type": "stream",
     "text": [
      "C estimate: 3.0599730645182516e-05\n"
     ]
    },
    {
     "data": {
      "image/png": "[encoded data removed]",
      "text/plain": [
       "<Figure size 432x288 with 1 Axes>"
      ]
     },
     "metadata": {
      "needs_background": "light"
     },
     "output_type": "display_data"
    },
    {
     "data": {
      "image/png": "[encoded data removed]",
      "text/plain": [
       "<Figure size 432x288 with 1 Axes>"
      ]
     },
     "metadata": {
      "needs_background": "light"
     },
     "output_type": "display_data"
    }
   ],
   "source": [
    "x_val = []\n",
    "y_val = []\n",
    "dis_val = []\n",
    "yAC_val = []\n",
    "c_estimate = []\n",
    "for (T,Td,V,E,_) in time_weight_Randomized:\n",
    "    x_val.append(V)\n",
    "    y_val.append(T/10**9)\n",
    "    dis_val.append(Td/10**9)\n",
    "    c_estimate.append((T/10**9) /((V**2 * (log(V)**3))))\n",
    "    \n",
    "c = sum(c_estimate)/(len(c_estimate) - 30)\n",
    "print(\"C estimate:\",c)\n",
    "\n",
    "for (T,Td,V,E,_) in time_weight_Randomized:\n",
    "    yAC_val.append(c * (V**2 * (log(V)**3)))\n",
    "\n",
    "import matplotlib.pyplot as plt\n",
    "plt.plot(x_val,y_val,'--')\n",
    "plt.plot(x_val,y_val,'og')\n",
    "plt.plot(x_val,dis_val,'or')\n",
    "plt.plot(x_val,dis_val,'--')\n",
    "plt.ylabel(\"Execution time (seconds)\")\n",
    "plt.xlabel(\"Number of vertices\")\n",
    "plt.title('Run time of the Algorithm on given Dataset (red is the discovery time)')\n",
    "plt.show()\n",
    "plt.plot(x_val,yAC_val,'--')\n",
    "plt.plot(x_val,yAC_val,'og')\n",
    "plt.xlabel(\"Number of vertices\")\n",
    "plt.ylabel(\"Execution time (seconds)\")\n",
    "plt.title(\"asymptotic complexity\")\n",
    "plt.show()"
   ]
  }
 ],
 "metadata": {
  "kernelspec": {
   "display_name": "Python 3",
   "language": "python",
   "name": "python3"
  },
  "language_info": {
   "codemirror_mode": {
    "name": "ipython",
    "version": 3
   },
   "file_extension": ".py",
   "mimetype": "text/x-python",
   "name": "python",
   "nbconvert_exporter": "python",
   "pygments_lexer": "ipython3",
   "version": "3.7.0"
  }
 },
 "nbformat": 4,
 "nbformat_minor": 2
}

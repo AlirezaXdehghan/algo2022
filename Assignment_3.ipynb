{
 "cells": [
  {
   "cell_type": "code",
   "execution_count": 1,
   "metadata": {},
   "outputs": [],
   "source": [
    "import os\n",
    "from math import *\n",
    "from time import perf_counter_ns\n",
    "import gc\n",
    "from random import choice\n",
    "import copy\n",
    "os.chdir('dataset')"
   ]
  },
  {
   "cell_type": "markdown",
   "metadata": {},
   "source": [
    "# Parse Input"
   ]
  },
  {
   "cell_type": "code",
   "execution_count": 2,
   "metadata": {},
   "outputs": [],
   "source": [
    "def parse_input_file(file_address):\n",
    "    # store vertices and edges in separate sets\n",
    "    vertices = set()\n",
    "    edges = [] \n",
    "    # read file\n",
    "    with open(file_address) as f:\n",
    "        lines = f.readlines()\n",
    "    num_V_E = [int(x) for x in lines[0].split()]\n",
    "    lines = lines[1:]\n",
    "    # populate sets\n",
    "    for line in lines:\n",
    "        x = line.split()\n",
    "        vertices.add(x[0])\n",
    "        vertices.add(x[1])\n",
    "        edges.append((x[0], x[1], int(x[2])))\n",
    "    vertices = list(vertices)\n",
    "    return vertices, edges, num_V_E"
   ]
  },
  {
   "cell_type": "code",
   "execution_count": 3,
   "metadata": {},
   "outputs": [],
   "source": [
    "graphs = []\n",
    "for file in os.listdir():\n",
    "    vertices, edges, num_V_E = parse_input_file(file) \n",
    "    graphs.append((num_V_E, vertices, edges))"
   ]
  },
  {
   "cell_type": "code",
   "execution_count": 4,
   "metadata": {},
   "outputs": [],
   "source": [
    "#graphs #a list of graphs as tuples, the tuples contain: \n",
    "#[0]: a list containing number of vertices and edges\n",
    "#[1]: a list of vertices' names\n",
    "#[2]: a list of edges as tuples (u,v,w)"
   ]
  },
  {
   "cell_type": "markdown",
   "metadata": {},
   "source": [
    "# Stoer and Wagner's deterministic algorithm "
   ]
  },
  {
   "cell_type": "code",
   "execution_count": 5,
   "metadata": {},
   "outputs": [],
   "source": [
    "\n",
    "def findCut(V,E):\n",
    "        rV,rW, nV = findMax(V,E) #gets the vertex and all the edges, gives back the weight of the cut, and two last nodes to merge\n",
    "        if nV != None:\n",
    "            E,_,_ = updateDict(rV,nV,E) #merges two last nodes and updates edge dictionary\n",
    "        return rW, E\n",
    "\n",
    "def findMax(V,E):\n",
    "    Ecop = copy.deepcopy(E)\n",
    "    seen = []\n",
    "    V2 = None\n",
    "    while(len(Ecop) > 2):                                    # here we want to merge nodes until we reach the 2 last nodes\n",
    "        highestWeight = Ecop[V][0]                           # so we can get the cut.\n",
    "        Ecop, V, V2 = updateDict(V,highestWeight[0],Ecop)    # at each iteration we get the node adjacent to starting node with\n",
    "    remainingVertex = list(Ecop.keys())                      # highest weight and merge it and continue\n",
    "    remainingWeight = Ecop[remainingVertex[0]][0][1]         # at the end we return the remaining 2 vertices and their\n",
    "    V1 = remainingVertex[0]                                  # edge's weight\n",
    "    return V1, remainingWeight, V2\n",
    "\n",
    "def updateDict(oldTouched,newTouched, EdgeDict, doSort = True):\n",
    "    list1 = EdgeDict[oldTouched]\n",
    "    list2 = EdgeDict[newTouched]\n",
    "    newName = oldTouched+'&'+newTouched                                          # here given two vertices, we merge them and \n",
    "    EdgeDict.pop(oldTouched)                                                     # keep track of their adjacent nodes and their\n",
    "    EdgeDict.pop(newTouched)                                                     # weights, at the end the dictionary will get\n",
    "    EdgeDict[newName] = []                                                       # updated with refrences to old nodes removed\n",
    "    for i in range(len(list1)):                                                  \n",
    "        for j in range(len(list2)):                                              \n",
    "            if list1[i] == [] or list2[j] == []:\n",
    "                continue\n",
    "            if list1[i][0] == oldTouched or list1[i][0] == newTouched:           # these are to skip added nodes\n",
    "                list1[i] = []                                                    # and mitigate the risk of duplicates\n",
    "                continue\n",
    "            if list2[j][0] == oldTouched or list2[j][0] == newTouched:\n",
    "                list2[j] = []\n",
    "                continue\n",
    "            if list1[i][0] == list2[j][0]:                                       # if there are two paths to new merged node\n",
    "                EdgeDict[newName].append((list1[i][0],list1[i][1]+list2[j][1]))  # simply sum the weights\n",
    "                list1[i] = []\n",
    "                list2[j] = []\n",
    "    \n",
    "    for i in range(len(list1)):\n",
    "        if list1[i] == []:\n",
    "            continue\n",
    "        EdgeDict[newName].append((list1[i][0],list1[i][1]))                      # if it's not duplicate and there are one path\n",
    "        list1[i] = []                                                            # simply add them\n",
    "    for j in range(len(list2)):\n",
    "        if list2[j] == []:\n",
    "            continue\n",
    "        EdgeDict[newName].append((list2[j][0],list2[j][1]))\n",
    "        list2[j] = []\n",
    "        \n",
    "    for u,w in EdgeDict[newName]:\n",
    "        if u == oldTouched:\n",
    "            u = newName\n",
    "        if u == newTouched:\n",
    "            u = newName\n",
    "        listOld = EdgeDict[u]\n",
    "        for i in range(len(listOld)):\n",
    "            if listOld[i][0] == oldTouched or listOld[i][0] == newTouched:        # now we iterate through adjacent nodes of new\n",
    "                listOld[i] = (newName,w)                                          # merged node, and we update the refrences and\n",
    "        listOld = list(dict.fromkeys(listOld))                                    # the weights from other keys of dictionary\n",
    "        if doSort == True:\n",
    "            EdgeDict[u] = sorted(listOld,reverse=True, key=lambda e:e[1])\n",
    "        else:\n",
    "            EdgeDict[u] = listOld\n",
    "        EdgeDict = deleteSelfRef(EdgeDict)\n",
    "    return EdgeDict, newName, newTouched\n",
    "\n",
    "def deleteSelfRef(EdgeDict):\n",
    "    for selfName in list(EdgeDict.keys()):         # this is to fix an issue that the updateDict() didn't account for\n",
    "        listSelf = EdgeDict[selfName]              # when updating the list of adjacency for each node, there might be a\n",
    "        for i in range(len(listSelf)):             # refrence to the same node in its adjacency list, this will remove the\n",
    "            if listSelf[i][0] == selfName:         # self reference\n",
    "                listSelf.pop(i)\n",
    "                break\n",
    "    return EdgeDict\n",
    "\n",
    "def createDict(verticesTuple): #this creates a dictionary with \"v\" as key and (u,w) as values, also sorts it! for faster access.\n",
    "    vert = {}\n",
    "    for (u,v,w) in verticesTuple:\n",
    "        if u not in vert:\n",
    "            vert[u] = []\n",
    "        if v not in vert:\n",
    "            vert[v] = []\n",
    "        vert[u].append((v,int(w)))\n",
    "        vert[v].append((u,int(w)))\n",
    "    for v in vert:\n",
    "        vert[v] = sorted(vert[v],reverse=True, key=lambda e:e[1])\n",
    "    return vert"
   ]
  },
  {
   "cell_type": "code",
   "execution_count": 6,
   "metadata": {},
   "outputs": [
    {
     "name": "stdout",
     "output_type": "stream",
     "text": [
      "for 10 vertices and 14 Edges, time was: 3971500 weight was: 3056\n",
      "for 10 vertices and 10 Edges, time was: 1888600 weight was: 223\n",
      "for 10 vertices and 12 Edges, time was: 5005200 weight was: 2302\n",
      "for 10 vertices and 11 Edges, time was: 4819900 weight was: 5152\n",
      "for 20 vertices and 24 Edges, time was: 22427100 weight was: 1526\n",
      "for 20 vertices and 24 Edges, time was: 35305300 weight was: 4472\n",
      "for 20 vertices and 27 Edges, time was: 23548000 weight was: 522\n",
      "for 20 vertices and 25 Edges, time was: 30185700 weight was: 3210\n",
      "for 40 vertices and 52 Edges, time was: 132685300 weight was: 2266\n",
      "for 40 vertices and 54 Edges, time was: 118616400 weight was: 2605\n",
      "for 40 vertices and 51 Edges, time was: 86858300 weight was: 648\n",
      "for 40 vertices and 50 Edges, time was: 108923300 weight was: 2486\n",
      "for 60 vertices and 82 Edges, time was: 387811100 weight was: 1282\n",
      "for 60 vertices and 72 Edges, time was: 463725400 weight was: 299\n",
      "for 60 vertices and 83 Edges, time was: 383812500 weight was: 2113\n",
      "for 60 vertices and 79 Edges, time was: 543286100 weight was: 2587\n",
      "for 80 vertices and 101 Edges, time was: 1223313600 weight was: 1061\n",
      "for 80 vertices and 105 Edges, time was: 1142981100 weight was: 1756\n",
      "for 80 vertices and 108 Edges, time was: 1243595700 weight was: 714\n",
      "for 80 vertices and 108 Edges, time was: 1315594600 weight was: 2930\n",
      "for 100 vertices and 128 Edges, time was: 2604015100 weight was: 341\n",
      "for 100 vertices and 120 Edges, time was: 2171051800 weight was: 890\n",
      "for 100 vertices and 125 Edges, time was: 1641704800 weight was: 1335\n",
      "for 100 vertices and 133 Edges, time was: 1891194800 weight was: 3008\n",
      "for 150 vertices and 197 Edges, time was: 11089715000 weight was: 1226\n",
      "for 150 vertices and 206 Edges, time was: 19097729000 weight was: 424\n",
      "for 150 vertices and 195 Edges, time was: 16087450900 weight was: 1285\n",
      "for 150 vertices and 198 Edges, time was: 24245558500 weight was: 707\n",
      "for 200 vertices and 276 Edges, time was: 77444962000 weight was: 939\n",
      "for 200 vertices and 260 Edges, time was: 62822051000 weight was: 1251\n",
      "for 200 vertices and 269 Edges, time was: 56999605100 weight was: 1382\n",
      "for 200 vertices and 274 Edges, time was: 72276486400 weight was: 1321\n",
      "for 250 vertices and 317 Edges, time was: 137951449600 weight was: 346\n",
      "for 250 vertices and 322 Edges, time was: 154848444700 weight was: 1028\n",
      "for 250 vertices and 338 Edges, time was: 175636267300 weight was: 1495\n",
      "for 250 vertices and 326 Edges, time was: 149243433900 weight was: 2210\n",
      "for 300 vertices and 403 Edges, time was: 257026633700 weight was: 1137\n",
      "for 300 vertices and 393 Edges, time was: 215219374200 weight was: 2012\n",
      "for 300 vertices and 408 Edges, time was: 238680433000 weight was: 926\n",
      "for 300 vertices and 411 Edges, time was: 350306030900 weight was: 1929\n",
      "for 350 vertices and 468 Edges, time was: 530011955800 weight was: 1311\n",
      "for 350 vertices and 475 Edges, time was: 540479496500 weight was: 616\n",
      "for 350 vertices and 462 Edges, time was: 393647303200 weight was: 1765\n",
      "for 350 vertices and 474 Edges, time was: 383480663300 weight was: 175\n",
      "for 400 vertices and 543 Edges, time was: 764624587900 weight was: 508\n",
      "for 400 vertices and 527 Edges, time was: 758457967600 weight was: 2123\n",
      "for 400 vertices and 526 Edges, time was: 559952707700 weight was: 362\n",
      "for 400 vertices and 525 Edges, time was: 705684824400 weight was: 509\n",
      "for 450 vertices and 595 Edges, time was: 1174316337900 weight was: 968\n",
      "for 450 vertices and 602 Edges, time was: 1127012275500 weight was: 364\n",
      "for 450 vertices and 593 Edges, time was: 998714052900 weight was: 336\n",
      "for 450 vertices and 594 Edges, time was: 1198807507100 weight was: 1737\n",
      "for 500 vertices and 670 Edges, time was: 1787310839700 weight was: 43\n",
      "for 500 vertices and 671 Edges, time was: 1760890643700 weight was: 954\n",
      "for 500 vertices and 670 Edges, time was: 1499915635100 weight was: 1074\n",
      "for 500 vertices and 666 Edges, time was: 1551500202800 weight was: 761\n"
     ]
    }
   ],
   "source": [
    "#start with arbitary vertex\n",
    "time_weight_Deterministic = []\n",
    "for graph1 in graphs:\n",
    "    leftVertices = graph1[0][0]\n",
    "    NumVert = leftVertices\n",
    "    NumEdge = graph1[0][1]\n",
    "    vertices = graph1[1]\n",
    "    edges = createDict(graph1[2])\n",
    "    startV = vertices[1]\n",
    "    cuts=[]\n",
    "    gc.disable()\n",
    "    start_time = perf_counter_ns()\n",
    "    while leftVertices > 2:\n",
    "        cutWeight, edges = findCut(startV,edges)\n",
    "        cuts.append(cutWeight)\n",
    "        leftVertices -= 1\n",
    "    end_time = perf_counter_ns()\n",
    "    time = end_time - start_time\n",
    "    print(\"for\",NumVert,\"vertices and\",NumEdge,\"Edges,\",\"time was:\",time,\"weight was:\",min(cuts))\n",
    "    time_weight_Deterministic.append((time,NumVert,NumEdge,min(cuts)))\n",
    "    gc.enable()\n",
    "#while there is more than one vertex\n",
    "##find a cut (find a node it's edge to V is maximized, then create a supernode, find a vertex\n",
    "##that has the highest weight to the super node, go on until we reach the last two! make these a super node!)\n",
    "##make the graph smaller!(continue what we did last time and store the last weight each time, minimum of them is the min cut)"
   ]
  },
  {
   "cell_type": "code",
   "execution_count": 28,
   "metadata": {},
   "outputs": [
    {
     "name": "stdout",
     "output_type": "stream",
     "text": [
      "C estimate: 0.0010248464592483172\n"
     ]
    },
    {
     "data": {
      "image/png": "[encoded data removed]",
      "text/plain": [
       "<Figure size 432x288 with 1 Axes>"
      ]
     },
     "metadata": {
      "needs_background": "light"
     },
     "output_type": "display_data"
    },
    {
     "data": {
      "image/png": "[encoded data removed]",
      "text/plain": [
       "<Figure size 432x288 with 1 Axes>"
      ]
     },
     "metadata": {
      "needs_background": "light"
     },
     "output_type": "display_data"
    }
   ],
   "source": [
    "x_val = []\n",
    "y_val = []\n",
    "yAC_val = []\n",
    "c_estimate = []\n",
    "for (T,V,E,_) in time_weight_Deterministic:\n",
    "    x_val.append(V)\n",
    "    y_val.append(T/10**9)\n",
    "    c_estimate.append((T/10**9) /( V * E + V**2 * log(V)))\n",
    "    \n",
    "c = sum(c_estimate)/(len(c_estimate)-40)\n",
    "print(\"C estimate:\",c)\n",
    "\n",
    "for (T,V,E,_) in time_weight_Deterministic:\n",
    "    yAC_val.append(c * (V * E + V**2 * log(V)))\n",
    "\n",
    "import matplotlib.pyplot as plt\n",
    "plt.plot(x_val,y_val,'--')\n",
    "plt.plot(x_val,y_val,'og')\n",
    "plt.ylabel(\"Execution time (seconds)\")\n",
    "plt.xlabel(\"Number of vertices\")\n",
    "plt.title('Run time of the Algorithm on given Dataset')\n",
    "plt.show()\n",
    "plt.plot(x_val,yAC_val,'--')\n",
    "plt.plot(x_val,yAC_val,'og')\n",
    "plt.xlabel(\"Number of vertices\")\n",
    "plt.ylabel(\"Execution time (seconds)\")\n",
    "plt.title(\"asymptotic complexity\")\n",
    "plt.show()"
   ]
  },
  {
   "cell_type": "markdown",
   "metadata": {},
   "source": [
    "O(|V||E|+|V|^2*log |V|) stoer wagner"
   ]
  },
  {
   "cell_type": "markdown",
   "metadata": {},
   "source": [
    "# Karger and Stein's randomized algorithm"
   ]
  },
  {
   "cell_type": "code",
   "execution_count": 6,
   "metadata": {},
   "outputs": [],
   "source": [
    "def rec_contract(E,N):\n",
    "    if N <= 6:\n",
    "        return contract(E,2,N)[0] #only returns weight\n",
    "    t = ceil((N/sqrt(2))+1)\n",
    "    W = []\n",
    "    for i in range(0,1): #technically creating two random instances and using the one with minimum weight\n",
    "        _,Gi,N = contract(E,t,N)\n",
    "        W.append(rec_contract(Gi,N))\n",
    "    return min(W)"
   ]
  },
  {
   "cell_type": "code",
   "execution_count": 7,
   "metadata": {},
   "outputs": [],
   "source": [
    "def contract(E,T,N):\n",
    "    while N > T: # instead of a simple contraction that continues until |V| <= 2, a variable is used to reuse the code\n",
    "        randV = choice(list(E.keys()))\n",
    "        randE = choice(E[randV])\n",
    "        E,_,_ = updateDict(randV,randE[0],E,False)\n",
    "        N -=1\n",
    "    return E[list(Ecop.keys())[0]][0][1],E,N #a very ugly way to get the weight but it works!\n",
    "#contraction of an edge:\n",
    "#while len V > 2\n",
    "# pick edge from E randomly\n",
    "# contract E\n",
    "#return only cut left!"
   ]
  },
  {
   "cell_type": "code",
   "execution_count": 8,
   "metadata": {
    "scrolled": false
   },
   "outputs": [
    {
     "name": "stdout",
     "output_type": "stream",
     "text": [
      "for 10 vertices and 14 Edges, time was: 3011900 weight was: 8580 also dicovery Time was: 2054200\n",
      "for 10 vertices and 10 Edges, time was: 2190200 weight was: 6077 also dicovery Time was: 1108000\n",
      "for 10 vertices and 12 Edges, time was: 7674900 weight was: 2302 also dicovery Time was: 7673000\n",
      "for 10 vertices and 11 Edges, time was: 6537700 weight was: 5152 also dicovery Time was: 2300300\n",
      "for 20 vertices and 24 Edges, time was: 49439400 weight was: 6668 also dicovery Time was: 10619500\n",
      "for 20 vertices and 24 Edges, time was: 32815500 weight was: 7009 also dicovery Time was: 26316800\n",
      "for 20 vertices and 27 Edges, time was: 41051400 weight was: 936 also dicovery Time was: 29844300\n",
      "for 20 vertices and 25 Edges, time was: 60233700 weight was: 3250 also dicovery Time was: 60232100\n",
      "for 40 vertices and 52 Edges, time was: 67978600 weight was: 2266 also dicovery Time was: 24745300\n",
      "for 40 vertices and 54 Edges, time was: 99970800 weight was: 1446 also dicovery Time was: 85501500\n",
      "for 40 vertices and 51 Edges, time was: 56678900 weight was: 853 also dicovery Time was: 35310600\n",
      "for 40 vertices and 50 Edges, time was: 67024100 weight was: 8750 also dicovery Time was: 8226000\n",
      "for 60 vertices and 82 Edges, time was: 220912900 weight was: 5989 also dicovery Time was: 8618100\n",
      "for 60 vertices and 72 Edges, time was: 202449400 weight was: 3751 also dicovery Time was: 202448000\n",
      "for 60 vertices and 83 Edges, time was: 465969200 weight was: 8751 also dicovery Time was: 189428000\n",
      "for 60 vertices and 79 Edges, time was: 539076900 weight was: 3150 also dicovery Time was: 13719500\n",
      "for 80 vertices and 101 Edges, time was: 790012300 weight was: 2232 also dicovery Time was: 268209500\n",
      "for 80 vertices and 105 Edges, time was: 427492100 weight was: 8184 also dicovery Time was: 314338900\n",
      "for 80 vertices and 108 Edges, time was: 470317900 weight was: 7787 also dicovery Time was: 178766600\n",
      "for 80 vertices and 108 Edges, time was: 437160800 weight was: 8767 also dicovery Time was: 437159200\n",
      "for 100 vertices and 128 Edges, time was: 705308500 weight was: 341 also dicovery Time was: 466605500\n",
      "for 100 vertices and 120 Edges, time was: 613620900 weight was: 2117 also dicovery Time was: 489272400\n",
      "for 100 vertices and 125 Edges, time was: 571543100 weight was: 4727 also dicovery Time was: 210920100\n",
      "for 100 vertices and 133 Edges, time was: 812778000 weight was: 5169 also dicovery Time was: 330619500\n",
      "for 150 vertices and 197 Edges, time was: 2139415300 weight was: 5929 also dicovery Time was: 370178100\n",
      "for 150 vertices and 206 Edges, time was: 2107076800 weight was: 11278 also dicovery Time was: 1204900000\n",
      "for 150 vertices and 195 Edges, time was: 1738271500 weight was: 6452 also dicovery Time was: 220606200\n",
      "for 150 vertices and 198 Edges, time was: 2010063900 weight was: 6377 also dicovery Time was: 578859700\n",
      "for 200 vertices and 276 Edges, time was: 4326927600 weight was: 4125 also dicovery Time was: 2140849100\n",
      "for 200 vertices and 260 Edges, time was: 4890481900 weight was: 4594 also dicovery Time was: 3760567700\n",
      "for 200 vertices and 269 Edges, time was: 5024072700 weight was: 9589 also dicovery Time was: 3052685900\n",
      "for 200 vertices and 274 Edges, time was: 5068896000 weight was: 8561 also dicovery Time was: 1652972800\n",
      "for 250 vertices and 317 Edges, time was: 7544949900 weight was: 5435 also dicovery Time was: 646237600\n",
      "for 250 vertices and 322 Edges, time was: 8393332600 weight was: 3805 also dicovery Time was: 5771378500\n",
      "for 250 vertices and 338 Edges, time was: 8651790300 weight was: 9478 also dicovery Time was: 6687174100\n",
      "for 250 vertices and 326 Edges, time was: 8954211100 weight was: 5534 also dicovery Time was: 4605364300\n",
      "for 300 vertices and 403 Edges, time was: 11137443600 weight was: 2582 also dicovery Time was: 3282837000\n",
      "for 300 vertices and 393 Edges, time was: 10141517000 weight was: 6445 also dicovery Time was: 7017505400\n",
      "for 300 vertices and 408 Edges, time was: 23837320700 weight was: 3711 also dicovery Time was: 9610283700\n",
      "for 300 vertices and 411 Edges, time was: 17893198600 weight was: 4116 also dicovery Time was: 12911572300\n",
      "for 350 vertices and 468 Edges, time was: 14753473500 weight was: 2682 also dicovery Time was: 14247688600\n",
      "for 350 vertices and 475 Edges, time was: 18338255400 weight was: 6061 also dicovery Time was: 18338254100\n",
      "for 350 vertices and 462 Edges, time was: 16537945900 weight was: 4875 also dicovery Time was: 5460700700\n",
      "for 350 vertices and 474 Edges, time was: 18794363200 weight was: 2957 also dicovery Time was: 16401918200\n",
      "for 400 vertices and 543 Edges, time was: 31329223400 weight was: 10586 also dicovery Time was: 12962794300\n",
      "for 400 vertices and 527 Edges, time was: 29746681500 weight was: 9123 also dicovery Time was: 25645196300\n",
      "for 400 vertices and 526 Edges, time was: 24657488700 weight was: 7714 also dicovery Time was: 3555968900\n",
      "for 400 vertices and 525 Edges, time was: 18462557300 weight was: 1583 also dicovery Time was: 8311162100\n",
      "for 450 vertices and 595 Edges, time was: 25509050400 weight was: 7122 also dicovery Time was: 21070065100\n",
      "for 450 vertices and 602 Edges, time was: 28727252500 weight was: 3710 also dicovery Time was: 6812077500\n",
      "for 450 vertices and 593 Edges, time was: 32954222800 weight was: 3585 also dicovery Time was: 26799383900\n",
      "for 450 vertices and 594 Edges, time was: 31732885500 weight was: 6487 also dicovery Time was: 20638506900\n",
      "for 500 vertices and 670 Edges, time was: 35888023000 weight was: 1603 also dicovery Time was: 33764845100\n",
      "for 500 vertices and 671 Edges, time was: 39676353800 weight was: 9235 also dicovery Time was: 17519012300\n",
      "for 500 vertices and 670 Edges, time was: 38468285300 weight was: 363 also dicovery Time was: 5311321600\n",
      "for 500 vertices and 666 Edges, time was: 34001468600 weight was: 1352 also dicovery Time was: 4957178800\n"
     ]
    }
   ],
   "source": [
    "time_weight_Randomized = []\n",
    "end_current = 0\n",
    "for graph1 in graphs:\n",
    "    currentcut = float('inf')\n",
    "    edges = createDict(graph1[2])\n",
    "    cuts=[]\n",
    "    leftVertices = graph1[0][0]\n",
    "    NumVert = leftVertices\n",
    "    NumEdge = graph1[0][1]\n",
    "    gc.disable()\n",
    "    start_time = perf_counter_ns()\n",
    "    for i in range(0,ceil(log(leftVertices)**2)): #repeat it for (log(n))**2 times!\n",
    "        leftVertices = graph1[0][0]\n",
    "        Ecop = copy.deepcopy(edges)\n",
    "        w = rec_contract(Ecop,leftVertices)\n",
    "        cuts.append(w)\n",
    "        if w < currentcut:\n",
    "            currentcut = w\n",
    "            end_current = perf_counter_ns()\n",
    "            dis_time = end_current - start_time\n",
    "    end_time = perf_counter_ns()\n",
    "    time = end_time - start_time\n",
    "    gc.enable()\n",
    "    print(\"for\",NumVert,\"vertices and\",NumEdge,\"Edges,\",\"time was:\",time,\"weight was:\",min(cuts),\"also dicovery Time was:\",dis_time)\n",
    "    time_weight_Randomized.append((time,dis_time,NumVert,NumEdge,min(cuts)))"
   ]
  },
  {
   "cell_type": "code",
   "execution_count": 44,
   "metadata": {},
   "outputs": [
    {
     "name": "stdout",
     "output_type": "stream",
     "text": [
      "C estimate: 8.74783436626225e-07\n"
     ]
    },
    {
     "data": {
      "image/png": "[encoded data removed]",
      "text/plain": [
       "<Figure size 432x288 with 1 Axes>"
      ]
     },
     "metadata": {
      "needs_background": "light"
     },
     "output_type": "display_data"
    },
    {
     "data": {
      "image/png": "[encoded data removed]",
      "text/plain": [
       "<Figure size 432x288 with 1 Axes>"
      ]
     },
     "metadata": {
      "needs_background": "light"
     },
     "output_type": "display_data"
    }
   ],
   "source": [
    "x_val = []\n",
    "y_val = []\n",
    "dis_val = []\n",
    "yAC_val = []\n",
    "c_estimate = []\n",
    "for (T,Td,V,E,_) in time_weight_Randomized:\n",
    "    x_val.append(V)\n",
    "    y_val.append(T/10**9)\n",
    "    dis_val.append(Td/10**9)\n",
    "    c_estimate.append((T/10**9) /((V**2 * (log(V)**3))))\n",
    "    \n",
    "c = sum(c_estimate)/(len(c_estimate))\n",
    "print(\"C estimate:\",c)\n",
    "\n",
    "for (T,Td,V,E,_) in time_weight_Randomized:\n",
    "    yAC_val.append(c * (V**2 * (log(V)**3)))\n",
    "\n",
    "import matplotlib.pyplot as plt\n",
    "plt.plot(x_val,y_val,'--')\n",
    "plt.plot(x_val,y_val,'og')\n",
    "plt.plot(x_val,dis_val,'or')\n",
    "plt.plot(x_val,dis_val,'--')\n",
    "plt.ylabel(\"Execution time (seconds)\")\n",
    "plt.xlabel(\"Number of vertices\")\n",
    "plt.title('Run time of the Algorithm on given Dataset (red is the discovery time)')\n",
    "plt.show()\n",
    "plt.plot(x_val,yAC_val,'--')\n",
    "plt.plot(x_val,yAC_val,'og')\n",
    "plt.xlabel(\"Number of vertices\")\n",
    "plt.ylabel(\"Execution time (seconds)\")\n",
    "plt.title(\"asymptotic complexity\")\n",
    "plt.show()"
   ]
  },
  {
   "cell_type": "markdown",
   "metadata": {},
   "source": [
    "O(n^2 * log n)"
   ]
  },
  {
   "cell_type": "code",
   "execution_count": null,
   "metadata": {},
   "outputs": [],
   "source": []
  }
 ],
 "metadata": {
  "kernelspec": {
   "display_name": "Python 3",
   "language": "python",
   "name": "python3"
  },
  "language_info": {
   "codemirror_mode": {
    "name": "ipython",
    "version": 3
   },
   "file_extension": ".py",
   "mimetype": "text/x-python",
   "name": "python",
   "nbconvert_exporter": "python",
   "pygments_lexer": "ipython3",
   "version": "3.7.0"
  }
 },
 "nbformat": 4,
 "nbformat_minor": 2
}

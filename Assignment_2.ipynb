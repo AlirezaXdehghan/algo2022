{
 "cells": [
  {
   "cell_type": "code",
   "execution_count": 1,
   "id": "5899eb76",
   "metadata": {},
   "outputs": [],
   "source": [
    "import os\n",
    "from math import *\n",
    "from time import perf_counter_ns\n",
    "import gc\n",
    "from random import choice\n",
    "os.chdir('tsp_dataset')"
   ]
  },
  {
   "cell_type": "markdown",
   "id": "d65b7685",
   "metadata": {},
   "source": [
    "# Parse input "
   ]
  },
  {
   "cell_type": "code",
   "execution_count": 2,
   "id": "b6b6e2c6",
   "metadata": {},
   "outputs": [],
   "source": [
    "def parse(fileaddress):\n",
    "    CoOrdinates = {}\n",
    "    with open(fileaddress) as f:\n",
    "        lines = f.readlines()\n",
    "    lines[0] = ': '.join(lines[0].split(' : '))\n",
    "    Name = lines[0].split(\" \")[1].strip()\n",
    "    lines[4] = ': '.join(lines[4].split(' : '))\n",
    "    EWT = lines[4].split(\" \")[1].strip()\n",
    "    lines[3] = ': '.join(lines[3].split(' : '))\n",
    "    Dimension = lines[3].split(\" \")[1].strip()\n",
    "    flag = False\n",
    "    for line in lines:\n",
    "        line = ' '.join(line.split())\n",
    "        if line.strip().split(\" \")[0] == '1':\n",
    "            flag = True\n",
    "        elif flag == False:\n",
    "            continue\n",
    "        if line.strip().split(\" \")[0] == 'EOF':\n",
    "            break\n",
    "        n,x,y = line.strip().split(\" \")\n",
    "        CoOrdinates[n] = (x,y)\n",
    "    return Name, EWT, Dimension, CoOrdinates"
   ]
  },
  {
   "cell_type": "markdown",
   "id": "38ee9700",
   "metadata": {},
   "source": [
    "<p>we save the coordinates in a dictionary with the vertex ID as the key and a (x,y) tuple as the data</p>"
   ]
  },
  {
   "cell_type": "code",
   "execution_count": 3,
   "id": "db8be50a",
   "metadata": {},
   "outputs": [
    {
     "name": "stdout",
     "output_type": "stream",
     "text": [
      "Data set name: berlin52\n",
      "Type: EUC_2D\n",
      "Dimension: 52\n",
      "Coordinates: {'1': ('565.0', '575.0'), '2': ('25.0', '185.0'), '3': ('345.0', '750.0'), '4': ('945.0', '685.0'), '5': ('845.0', '655.0'), '6': ('880.0', '660.0'), '7': ('25.0', '230.0'), '8': ('525.0', '1000.0'), '9': ('580.0', '1175.0'), '10': ('650.0', '1130.0'), '11': ('1605.0', '620.0'), '12': ('1220.0', '580.0'), '13': ('1465.0', '200.0'), '14': ('1530.0', '5.0'), '15': ('845.0', '680.0'), '16': ('725.0', '370.0'), '17': ('145.0', '665.0'), '18': ('415.0', '635.0'), '19': ('510.0', '875.0'), '20': ('560.0', '365.0'), '21': ('300.0', '465.0'), '22': ('520.0', '585.0'), '23': ('480.0', '415.0'), '24': ('835.0', '625.0'), '25': ('975.0', '580.0'), '26': ('1215.0', '245.0'), '27': ('1320.0', '315.0'), '28': ('1250.0', '400.0'), '29': ('660.0', '180.0'), '30': ('410.0', '250.0'), '31': ('420.0', '555.0'), '32': ('575.0', '665.0'), '33': ('1150.0', '1160.0'), '34': ('700.0', '580.0'), '35': ('685.0', '595.0'), '36': ('685.0', '610.0'), '37': ('770.0', '610.0'), '38': ('795.0', '645.0'), '39': ('720.0', '635.0'), '40': ('760.0', '650.0'), '41': ('475.0', '960.0'), '42': ('95.0', '260.0'), '43': ('875.0', '920.0'), '44': ('700.0', '500.0'), '45': ('555.0', '815.0'), '46': ('830.0', '485.0'), '47': ('1170.0', '65.0'), '48': ('830.0', '610.0'), '49': ('605.0', '625.0'), '50': ('595.0', '360.0'), '51': ('1340.0', '725.0'), '52': ('1740.0', '245.0')}\n"
     ]
    }
   ],
   "source": [
    "NAME , EDGE_WEIGHT_TYPE , DIMENSION , Coordinates  = parse('berlin52.tsp')\n",
    "print(f\"Data set name: {NAME}\\nType: {EDGE_WEIGHT_TYPE}\\nDimension: {DIMENSION}\\nCoordinates: {Coordinates}\")"
   ]
  },
  {
   "cell_type": "code",
   "execution_count": 4,
   "id": "b84fe328",
   "metadata": {},
   "outputs": [],
   "source": [
    "def computeWeight(First, Second, Type):\n",
    "    x1 = float(First[0])\n",
    "    x2 = float(Second[0])\n",
    "    y1 = float(First[1])\n",
    "    y2 = float(Second[1])\n",
    "    if Type == \"EUC_2D\":\n",
    "        return sqrt((x1-x2)**2 + (y1-y2)**2)\n",
    "    if Type == \"GEO\":\n",
    "        Pi = 3.141592\n",
    "        R = 6378.388\n",
    "        lon1 = (x1/180)*Pi\n",
    "        lon2 = (x2/180)*Pi\n",
    "        lat1 = (y1/180)*Pi\n",
    "        lat2 = (y2/180)*Pi\n",
    "        dlon = lon2 - lon1\n",
    "        dlat = lat2 - lat1\n",
    "        a = sin(dlat / 2)**2 + cos(lat1) * cos(lat2) * sin(dlon / 2)**2\n",
    "        c = 2 * atan2(sqrt(a), sqrt(1 - a))\n",
    "        return R * c\n"
   ]
  },
  {
   "cell_type": "code",
   "execution_count": 5,
   "id": "36539d1d",
   "metadata": {},
   "outputs": [
    {
     "name": "stdout",
     "output_type": "stream",
     "text": [
      "('565.0', '575.0') ('25.0', '185.0')\n",
      "666.1080993352356\n"
     ]
    }
   ],
   "source": [
    "print(Coordinates['1'],Coordinates['2'])\n",
    "print(computeWeight(Coordinates['1'],Coordinates['2'],EDGE_WEIGHT_TYPE))"
   ]
  },
  {
   "cell_type": "code",
   "execution_count": 6,
   "id": "8c494a43",
   "metadata": {},
   "outputs": [],
   "source": [
    "def getKey(sdict):\n",
    "    key_list = list(sdict.keys())\n",
    "    return key_list\n",
    "\n",
    "def makeGraph(Coordinates):\n",
    "    keys = getKey(Coordinates)\n",
    "    matrix = []\n",
    "    for i in range(len(keys)):\n",
    "        u = keys[i]\n",
    "        for j in range(i,len(keys)):\n",
    "            v = keys[j]\n",
    "            if v == u:\n",
    "                continue\n",
    "            w = computeWeight(Coordinates[u],Coordinates[v],EDGE_WEIGHT_TYPE) # weight computed for edge(u,v)\n",
    "            matrix.append((u,v,w))\n",
    "    return keys, matrix\n",
    "\n",
    "def makeDict(Coordinates):\n",
    "    keys = getKey(Coordinates)\n",
    "    dictionary = {}\n",
    "    for i in range(len(keys)):\n",
    "        u = keys[i]\n",
    "        for j in range(i,len(keys)):\n",
    "            v = keys[j]\n",
    "            if v == u:\n",
    "                continue\n",
    "            w = computeWeight(Coordinates[u],Coordinates[v],EDGE_WEIGHT_TYPE) # weight computed for edge(u,v)\n",
    "            dictionary[(u,v)] = (u,v,w)\n",
    "    return dictionary"
   ]
  },
  {
   "cell_type": "markdown",
   "id": "ea496c58",
   "metadata": {},
   "source": []
  },
  {
   "cell_type": "code",
   "execution_count": null,
   "id": "d9d8e46c",
   "metadata": {},
   "outputs": [],
   "source": []
  },
  {
   "cell_type": "code",
   "execution_count": 8,
   "id": "28243f74",
   "metadata": {},
   "outputs": [],
   "source": [
    "\"\"\"\n",
    "Nearest Neighbor Algorithm\n",
    "sort the edges\n",
    "pich the first node\n",
    "\"\"\"\n",
    "#  {\"1\": [(2,w), (3,w), ...]...}\n",
    "# creating adjacency matrix with sorted weights\n",
    "def make_set_nn(all_edges):\n",
    "    nn_weights = {}\n",
    "    for e in all_edges:\n",
    "        if e[0] not in nn_weights:\n",
    "            nn_weights[e[0]] = []\n",
    "        # add edges to the adjacency list    \n",
    "        nn_weights[e[0]].append((e[1], e[2]))\n",
    "        \n",
    "    # sort weights\n",
    "    for vertice in nn_weights:\n",
    "        nn_weights[vertice] = sorted(nn_weights[vertice], key=lambda el: el[1])\n",
    "        \n",
    "    return nn_weights\n",
    "\n",
    "\n",
    "\n",
    "def nearest_neighbour(vertice, matrix_nn, visited, path):\n",
    "    # if we saw the vertex before, return\n",
    "    if vertice not in matrix_nn or len(matrix_nn[vertice]) == 0:\n",
    "        return \n",
    "    \n",
    "    # get the lightest edge\n",
    "    lightest = matrix_nn[vertice].pop(0)    \n",
    "    # if we saw the neighbour before, go forward\n",
    "    while lightest[0] in visited and len(matrix_nn[vertice]) > 0:\n",
    "        lightest = matrix_nn[vertice].pop(0)\n",
    "    \n",
    "    # found the unseen one, remove fron adj_list\n",
    "    matrix_nn.pop(vertice)\n",
    "    # append the edge to a path\n",
    "    path.append((vertice , lightest[0], lightest[1]))\n",
    "    # populate the visited set\n",
    "    visited.add(lightest[0])\n",
    "    # call recursively for another vertice\n",
    "    nearest_neighbour(lightest[0], nn_mtrx, visited, path)\n",
    "    "
   ]
  },
  {
   "cell_type": "code",
   "execution_count": 10,
   "id": "1232648c",
   "metadata": {},
   "outputs": [
    {
     "ename": "NameError",
     "evalue": "name 'vertices' is not defined",
     "output_type": "error",
     "traceback": [
      "\u001b[1;31m---------------------------------------------------------------------------\u001b[0m",
      "\u001b[1;31mNameError\u001b[0m                                 Traceback (most recent call last)",
      "\u001b[1;32m~\\AppData\\Local\\Temp/ipykernel_12900/24467856.py\u001b[0m in \u001b[0;36m<module>\u001b[1;34m\u001b[0m\n\u001b[0;32m      1\u001b[0m \u001b[1;31m# define source\u001b[0m\u001b[1;33m\u001b[0m\u001b[1;33m\u001b[0m\u001b[0m\n\u001b[1;32m----> 2\u001b[1;33m \u001b[0msource\u001b[0m \u001b[1;33m=\u001b[0m \u001b[0mvertices\u001b[0m\u001b[1;33m[\u001b[0m\u001b[1;36m0\u001b[0m\u001b[1;33m]\u001b[0m\u001b[1;33m\u001b[0m\u001b[1;33m\u001b[0m\u001b[0m\n\u001b[0m\u001b[0;32m      3\u001b[0m \u001b[1;31m# create adjacency matrix\u001b[0m\u001b[1;33m\u001b[0m\u001b[1;33m\u001b[0m\u001b[0m\n\u001b[0;32m      4\u001b[0m \u001b[0mnn_mtrx\u001b[0m \u001b[1;33m=\u001b[0m \u001b[0mmake_set_nn\u001b[0m\u001b[1;33m(\u001b[0m\u001b[0medges\u001b[0m\u001b[1;33m)\u001b[0m\u001b[1;33m\u001b[0m\u001b[1;33m\u001b[0m\u001b[0m\n\u001b[0;32m      5\u001b[0m \u001b[1;31m# print(nn_mtrx)\u001b[0m\u001b[1;33m\u001b[0m\u001b[1;33m\u001b[0m\u001b[0m\n",
      "\u001b[1;31mNameError\u001b[0m: name 'vertices' is not defined"
     ]
    }
   ],
   "source": [
    "# define source\n",
    "source = vertices[0]\n",
    "# create adjacency matrix\n",
    "nn_mtrx = make_set_nn(edges)\n",
    "# print(nn_mtrx)\n",
    "path = []\n",
    "# save the adjacency for the source vertex\n",
    "source_list = nn_mtrx[source]\n",
    "visited = set([source])\n",
    "nearest_neighbour(source, nn_mtrx, visited, path)\n",
    "# create a cycle\n",
    "last_edge = [s for s in source_list if s[0] == path[-1][0]][0]\n",
    "cycle = path + [(last_edge[0], source, last_edge[1])]\n",
    "\n",
    "print(cycle)"
   ]
  },
  {
   "cell_type": "code",
   "execution_count": 11,
   "id": "e4d54b99",
   "metadata": {},
   "outputs": [],
   "source": [
    "# TODO: write the code for each graph"
   ]
  },
  {
   "cell_type": "code",
   "execution_count": null,
   "id": "968cbfa7",
   "metadata": {},
   "outputs": [],
   "source": []
  },
  {
   "cell_type": "markdown",
   "id": "37d7ef1d",
   "metadata": {},
   "source": [
    "### Efficient Kruskal "
   ]
  },
  {
   "cell_type": "code",
   "execution_count": 12,
   "id": "4c2f4c93",
   "metadata": {},
   "outputs": [],
   "source": [
    "# Graph object\n",
    "class Graph:\n",
    "    def __init__(self, V, E, num_V, num_E):\n",
    "        self.V = V\n",
    "        self.E = E\n",
    "        self.num_V = num_V\n",
    "        self.num_E = num_E"
   ]
  },
  {
   "cell_type": "code",
   "execution_count": 15,
   "id": "c042b3ef",
   "metadata": {},
   "outputs": [],
   "source": [
    "\"\"\"\n",
    "Kruskal Efficient Agorithm\n",
    "sort the edges\n",
    "make a list of vertices\n",
    "get the first edge\n",
    "find the parent of the vertices in the edge(u,v)\n",
    "if there is no loop union\n",
    "\"\"\"\n",
    "class Kruskal_Efficient:\n",
    "    \n",
    "    def __init__(self, graph):\n",
    "        self.graph = graph\n",
    "        self.sets = {} # set of vertices\n",
    "        self.MST = [] # Minimum Spanning Tree\n",
    "    \n",
    "    \n",
    "    # make a set of vertices\n",
    "    def make_sets(self):\n",
    "        for v in self.graph.V:\n",
    "            self.sets[v] = [v]\n",
    "        \n",
    "    \n",
    "    \n",
    "    # union the subsets which the vertices are not in the same sets\n",
    "    def union(self, u_prnt, v_prnt):\n",
    "        # get the size of two elements and append the vertices to the bigger one\n",
    "        if (len(self.sets.get(u_prnt)) >= len(self.sets.get(v_prnt))):\n",
    "            self.sets[u_prnt].extend(self.sets[v_prnt])\n",
    "            self.sets.pop(v_prnt)\n",
    "        \n",
    "        # append the list of vertices of parent u to v\n",
    "        else:\n",
    "            self.sets[v_prnt].extend(self.sets[u_prnt])\n",
    "            self.sets.pop(u_prnt)\n",
    "    \n",
    "    \n",
    "    \n",
    "    # find the parent of u and v vertices and return the parents\n",
    "    def find_parent(self, u, v, items):\n",
    "        u_key = v_key = 0\n",
    "        for item in list(items):\n",
    "            # item[0] is the key in dictionary\n",
    "            # item[1] is the values in the dictionary\n",
    "            key, value = item[0], item[1] \n",
    "            #if_true = all(x in value for x in[u, v]) # check if both u and v are in the same set\n",
    "            # check the vertices in the value list and return the key as the parent of the vertex\n",
    "            if u in value:\n",
    "                u_key = item[0]\n",
    "            if v in value:\n",
    "                v_key = item[0]\n",
    "            if u_key and v_key:\n",
    "                break\n",
    "        return (u_key, v_key)\n",
    "    \n",
    "    \n",
    "    def connecting(self, mst, all_edges):\n",
    "        leng = len(mst)\n",
    "        leng -= 1\n",
    "        first_node = mst[0][0]\n",
    "        last_node = mst[leng][1]\n",
    "        for e in all_edges:\n",
    "            u,v,w = e\n",
    "            if (first_node == u and last_node == v):\n",
    "                mst.append(e)\n",
    "            if (first_node == v and last_node == u):\n",
    "                mst.append(e) \n",
    "        return mst\n",
    "    \n",
    "    \n",
    "    \n",
    "    # make the MST tree\n",
    "    def execute(self):\n",
    "#         mst_weight = 0\n",
    "#         lenv = len(self.graph.V) # number of vertices\n",
    "        \n",
    "        # sorting the edges based on the wight of the edges    \n",
    "        E = sorted(self.graph.E, key = lambda m: m[2])\n",
    "#         print(\"this: \", E)\n",
    "        \n",
    "        self.make_sets() # make a set of vertices\n",
    "        # make a list of sets of key and value pairs to iterate through them\n",
    "        items = self.sets.items()\n",
    "        for e in E:\n",
    "            # check if number of edges in MST are less than  nodes are \n",
    "            if((len(self.MST)+1) <  int(self.graph.num_E)):\n",
    "                u, v, w = e\n",
    "                u_parent, v_parent = self.find_parent(u, v, items)\n",
    "                # if the vertices(u,v) are not in the same sets\n",
    "                if (u_parent != v_parent):\n",
    "                    self.union(u_parent, v_parent)\n",
    "                    # add the edge to the MST[]\n",
    "                    self.MST.append(e)\n",
    "            # if the MST is completed, stop looping through the edges\n",
    "            else:\n",
    "                break\n",
    "                \n",
    "        self.MST = self.connecting(self.MST, E)\n",
    "        \n",
    "        return self.MST\n",
    "\n",
    "    \n",
    "    # calculate the final weight of the MST\n",
    "    def MSTweight_EK(self):\n",
    "        sum = 0\n",
    "        for (u ,v, w) in self.MST:\n",
    "            sum = sum + w\n",
    "        return sum"
   ]
  },
  {
   "cell_type": "code",
   "execution_count": 16,
   "id": "6da8e431",
   "metadata": {},
   "outputs": [
    {
     "name": "stdout",
     "output_type": "stream",
     "text": [
      "did  berlin52  in  6032400  ns 6458.094351322505\n",
      "did  burma14  in  255000  ns 1281.0564259368643\n",
      "did  ch150  in  40098700  ns 6152.31044207293\n",
      "did  d493  in  1229924200  ns 31549.748274636288\n",
      "did  dsj1000  in  10454843900  ns 16581592.843637954\n",
      "did  eil51  in  17753600  ns 413.2872980055961\n",
      "did  gr202  in  99000000  ns 48553.90163725792\n",
      "did  gr229  in  133436000  ns 101088.59763083584\n",
      "did  kroA100  in  14681600  ns 21725.272085037737\n",
      "did  kroD100  in  14816400  ns 21430.38905104946\n",
      "did  pcb442  in  793998000  ns 49868.10016024597\n",
      "did  ulysses16.tsp  in  3085800  ns 7547.659158246416\n",
      "did  ulysses22.tsp  in  510100  ns 7635.227117770899\n"
     ]
    }
   ],
   "source": [
    "twoAppSol = []\n",
    "for file in os.listdir():\n",
    "    NAME , EDGE_WEIGHT_TYPE , DIMENSION , Coordinates = parse(file)\n",
    "    vertices, edges = makeGraph(Coordinates)\n",
    "    num_V_E = [len(vertices), len(edges)]\n",
    "    gc.disable()\n",
    "    start_time = perf_counter_ns()\n",
    "    graph = Graph(vertices, edges, num_V_E[0], num_V_E[1])\n",
    "    algo = Kruskal_Efficient(graph)\n",
    "    result = algo.execute()\n",
    "    weight = algo.MSTweight_EK()\n",
    "    end_time = perf_counter_ns()\n",
    "    time = end_time - start_time\n",
    "    gc.enable()\n",
    "    print(\"did \",NAME,\" in \",time,\" ns\", weight)\n",
    "    twoAppSol.append((NAME,weight,time))"
   ]
  },
  {
   "cell_type": "markdown",
   "id": "763e34d9",
   "metadata": {},
   "source": [
    "# Random Insertion"
   ]
  },
  {
   "cell_type": "code",
   "execution_count": 21,
   "id": "079e9c93",
   "metadata": {},
   "outputs": [],
   "source": [
    "def findClosest(seen, alledges):\n",
    "    sWeight = 999999\n",
    "    for (u,v,w) in alledges:\n",
    "        for place in seen:\n",
    "            if u == place or v == place:\n",
    "                if sWeight > w:\n",
    "                    sWeight = w\n",
    "                    smallest = (u,v,w)\n",
    "    if smallest[0] == place:\n",
    "        return smallest[1], smallest\n",
    "    return smallest[0], smallest\n",
    "\n",
    "\n",
    "def chooseRandom(unseen):\n",
    "    randPlace = choice(unseen)\n",
    "    return randPlace\n",
    "\n",
    "def weightCheck(rand, seen, edges, unseen):\n",
    "    bestWeight = float(\"inf\")\n",
    "    ijk = []\n",
    "    ik = None\n",
    "    kj = None\n",
    "    ij = None\n",
    "    for old1 in seen:\n",
    "        cpseen = seen.copy()\n",
    "        cpseen.remove(old1)\n",
    "        for old2 in cpseen:\n",
    "                if (old1,rand) in edges:\n",
    "                    ik = edges[(old1,rand)]\n",
    "                elif (rand,old1) in edges:\n",
    "                    ik = edges[(rand,old1)]\n",
    "                    \n",
    "                if (old2,rand) in edges:\n",
    "                    kj = edges[(old2,rand)]\n",
    "                elif (rand,old2) in edges:\n",
    "                    kj = edges[(rand,old2)]\n",
    "                    \n",
    "                    \n",
    "                if (old1,old2) in edges:\n",
    "                    ij = edges[(old1,old2)]\n",
    "                elif (old2,old1) in edges:\n",
    "                    ij = edges[(old2,old1)]\n",
    "                    \n",
    "                weight = ik[2] + kj[2] - ij[2]\n",
    "                if bestWeight > weight:\n",
    "                    currentBest = [ik,kj,ij]\n",
    "                ik = None\n",
    "                kj = None\n",
    "                ij = None\n",
    "    return currentBest[2],currentBest[0],currentBest[1]\n",
    "\n",
    "def totalWeight(solution):\n",
    "    return sum([edge[2] for edge in solution])"
   ]
  },
  {
   "cell_type": "code",
   "execution_count": 22,
   "id": "6f165411",
   "metadata": {},
   "outputs": [
    {
     "name": "stdout",
     "output_type": "stream",
     "text": [
      "did  berlin52  in  243054800  ns\n",
      "did  burma14  in  1251700  ns\n",
      "did  ch150  in  2312867600  ns\n",
      "did  d493  in  103192683600  ns\n",
      "did  dsj1000  in  893661997100  ns\n",
      "did  eil51  in  99852500  ns\n",
      "did  gr202  in  5729098200  ns\n",
      "did  gr229  in  8402847000  ns\n",
      "did  kroA100  in  627420500  ns\n",
      "did  kroD100  in  564244600  ns\n",
      "did  pcb442  in  62435998600  ns\n",
      "did  ulysses16.tsp  in  3449400  ns\n",
      "did  ulysses22.tsp  in  4815300  ns\n"
     ]
    }
   ],
   "source": [
    "RanInsSol = []\n",
    "for file in os.listdir():\n",
    "    NAME , EDGE_WEIGHT_TYPE , DIMENSION , Coordinates = parse(file)\n",
    "    edgeDict = makeDict(Coordinates)\n",
    "    vertices, edges = makeGraph(Coordinates)\n",
    "    num_V_E = [len(vertices), len(edges)]\n",
    "    gc.disable()\n",
    "    start_time = perf_counter_ns()\n",
    "    solution = []\n",
    "    seenPlaces = ['1']\n",
    "    closestPlace, newEdge = findClosest(seenPlaces,edges)\n",
    "    seenPlaces.append(closestPlace)\n",
    "    solution.append(newEdge)\n",
    "    x = seenPlaces\n",
    "    y = vertices\n",
    "    unseen = list(set(y) - set(x))\n",
    "    while unseen:    \n",
    "        randomPlace = chooseRandom(unseen)\n",
    "        toRemove, toAdd1, toAdd2 = weightCheck(randomPlace, seenPlaces, edgeDict, unseen)\n",
    "        solution.remove(toRemove)\n",
    "        solution.append(toAdd1)\n",
    "        solution.append(toAdd2)\n",
    "        seenPlaces.append(randomPlace)\n",
    "        x = seenPlaces\n",
    "        y = vertices\n",
    "        unseen = list(set(y) - set(x))\n",
    "    gc.enable()\n",
    "    end_time = perf_counter_ns()\n",
    "    time = end_time - start_time\n",
    "    weight = totalWeight(solution)\n",
    "    RanInsSol.append((NAME,weight,time))\n",
    "    print(\"did \",NAME,\" in \",time,\" ns\")"
   ]
  },
  {
   "cell_type": "code",
   "execution_count": 23,
   "id": "881573dd",
   "metadata": {},
   "outputs": [
    {
     "data": {
      "text/plain": [
       "[('berlin52', 29428.111786596794, 243054800),\n",
       " ('burma14', 2737.539853144332, 1251700),\n",
       " ('ch150', 55724.05461379605, 2312867600),\n",
       " ('d493', 443429.92589803785, 103192683600),\n",
       " ('dsj1000', 539510813.8346387, 893661997100),\n",
       " ('eil51', 1603.282360850528, 99852500),\n",
       " ('gr202', 342704.35531254986, 5729098200),\n",
       " ('gr229', 1358170.1554814645, 8402847000),\n",
       " ('kroA100', 158240.5919376652, 627420500),\n",
       " ('kroD100', 167326.36840013287, 564244600),\n",
       " ('pcb442', 757709.9369018618, 62435998600),\n",
       " ('ulysses16.tsp', 15499.728768686433, 3449400),\n",
       " ('ulysses22.tsp', 19474.773648798273, 4815300)]"
      ]
     },
     "execution_count": 23,
     "metadata": {},
     "output_type": "execute_result"
    }
   ],
   "source": [
    "RanInsSol"
   ]
  },
  {
   "cell_type": "code",
   "execution_count": null,
   "id": "9d7e7ea6",
   "metadata": {},
   "outputs": [],
   "source": []
  }
 ],
 "metadata": {
  "kernelspec": {
   "display_name": "Python 3 (ipykernel)",
   "language": "python",
   "name": "python3"
  },
  "language_info": {
   "codemirror_mode": {
    "name": "ipython",
    "version": 3
   },
   "file_extension": ".py",
   "mimetype": "text/x-python",
   "name": "python",
   "nbconvert_exporter": "python",
   "pygments_lexer": "ipython3",
   "version": "3.9.7"
  }
 },
 "nbformat": 4,
 "nbformat_minor": 5
}

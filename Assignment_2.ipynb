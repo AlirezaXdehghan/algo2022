{
 "cells": [
  {
   "cell_type": "code",
   "execution_count": 1,
   "metadata": {},
   "outputs": [],
   "source": [
    "import os\n",
    "os.chdir('tsp_dataset')"
   ]
  },
  {
   "cell_type": "markdown",
   "metadata": {},
   "source": [
    "# Parse input "
   ]
  },
  {
   "cell_type": "code",
   "execution_count": 43,
   "metadata": {},
   "outputs": [],
   "source": [
    "def parse(fileaddress):\n",
    "    CoOrdinates = {}\n",
    "    with open(fileaddress) as f:\n",
    "        lines = f.readlines()\n",
    "    Name = lines[0].split(\" \")[1].strip()\n",
    "    EWT = lines[4].split(\" \")[1].strip()\n",
    "    Dimension = lines[3].split(\" \")[1].strip()\n",
    "    lines = lines[6:-2]\n",
    "    for line in lines:\n",
    "        n,x,y = line.strip().split(\" \")\n",
    "        CoOrdinates[n] = (x,y)\n",
    "    return Name, EWT, Dimension, CoOrdinates"
   ]
  },
  {
   "cell_type": "markdown",
   "metadata": {},
   "source": [
    "<p>we save the coordinates in a dictionary with the vertex ID as the key and a (x,y) tuple as the data</p>"
   ]
  },
  {
   "cell_type": "code",
   "execution_count": 46,
   "metadata": {},
   "outputs": [],
   "source": [
    "NAME , EDGE_WEIGHT_TYPE , DIMENSION , Coordinates  = parse('berlin52.tsp')"
   ]
  },
  {
   "cell_type": "code",
   "execution_count": null,
   "metadata": {},
   "outputs": [],
   "source": []
  },
  {
   "cell_type": "code",
   "execution_count": null,
   "metadata": {},
   "outputs": [],
   "source": []
  }
 ],
 "metadata": {
  "kernelspec": {
   "display_name": "Python 3",
   "language": "python",
   "name": "python3"
  },
  "language_info": {
   "codemirror_mode": {
    "name": "ipython",
    "version": 3
   },
   "file_extension": ".py",
   "mimetype": "text/x-python",
   "name": "python",
   "nbconvert_exporter": "python",
   "pygments_lexer": "ipython3",
   "version": "3.7.0"
  }
 },
 "nbformat": 4,
 "nbformat_minor": 5
}

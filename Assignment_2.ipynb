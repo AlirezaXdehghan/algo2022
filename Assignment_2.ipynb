{
 "cells": [
  {
   "cell_type": "code",
   "execution_count": 62,
   "metadata": {},
   "outputs": [],
   "source": [
    "import os\n",
    "from math import *\n",
    "os.chdir('tsp_dataset')"
   ]
  },
  {
   "cell_type": "markdown",
   "metadata": {},
   "source": [
    "# Parse input "
   ]
  },
  {
   "cell_type": "code",
   "execution_count": 77,
   "metadata": {},
   "outputs": [],
   "source": [
    "def parse(fileaddress):\n",
    "    CoOrdinates = {}\n",
    "    with open(fileaddress) as f:\n",
    "        lines = f.readlines()\n",
    "    Name = lines[0].split(\" \")[1].strip()\n",
    "    EWT = lines[4].split(\" \")[1].strip()\n",
    "    Dimension = lines[3].split(\" \")[1].strip()\n",
    "    flag = False\n",
    "    for line in lines:\n",
    "        if line.strip().split(\" \")[0] == '1':\n",
    "            flag = True\n",
    "        elif flag == False:\n",
    "            continue\n",
    "        if line.strip().split(\" \")[0] == 'EOF':\n",
    "            break\n",
    "        n,x,y = line.strip().split(\" \")\n",
    "        CoOrdinates[n] = (x,y)\n",
    "    return Name, EWT, Dimension, CoOrdinates"
   ]
  },
  {
   "cell_type": "markdown",
   "metadata": {},
   "source": [
    "<p>we save the coordinates in a dictionary with the vertex ID as the key and a (x,y) tuple as the data</p>"
   ]
  },
  {
   "cell_type": "code",
   "execution_count": 89,
   "metadata": {},
   "outputs": [],
   "source": [
    "NAME , EDGE_WEIGHT_TYPE , DIMENSION , Coordinates  = parse('berlin52.tsp')"
   ]
  },
  {
   "cell_type": "code",
   "execution_count": 90,
   "metadata": {},
   "outputs": [],
   "source": [
    "def computeWeight(First, Second, Type):\n",
    "    x1 = float(First[0])\n",
    "    x2 = float(Second[0])\n",
    "    y1 = float(First[1])\n",
    "    y2 = float(Second[1])\n",
    "    if Type == \"EUC_2D\":\n",
    "        return sqrt((x1-x2)**2 + (y1-y2)**2)\n",
    "    if Type == \"GEO\":\n",
    "        Pi = 3.141592\n",
    "        R = 6378.388\n",
    "        lon1 = (x1/180)*Pi\n",
    "        lon2 = (x2/180)*Pi\n",
    "        lat1 = (y1/180)*Pi\n",
    "        lat2 = (y2/180)*Pi\n",
    "        dlon = lon2 - lon1\n",
    "        dlat = lat2 - lat1\n",
    "        a = sin(dlat / 2)**2 + cos(lat1) * cos(lat2) * sin(dlon / 2)**2\n",
    "        c = 2 * atan2(sqrt(a), sqrt(1 - a))\n",
    "        return R * c\n"
   ]
  },
  {
   "cell_type": "code",
   "execution_count": 91,
   "metadata": {},
   "outputs": [
    {
     "name": "stdout",
     "output_type": "stream",
     "text": [
      "666.1080993352356\n"
     ]
    }
   ],
   "source": [
    "print(computeWeight(Coordinates['1'],Coordinates['2'],EDGE_WEIGHT_TYPE))"
   ]
  },
  {
   "cell_type": "code",
   "execution_count": null,
   "metadata": {},
   "outputs": [],
   "source": []
  },
  {
   "cell_type": "code",
   "execution_count": null,
   "metadata": {},
   "outputs": [],
   "source": []
  }
 ],
 "metadata": {
  "kernelspec": {
   "display_name": "Python 3",
   "language": "python",
   "name": "python3"
  },
  "language_info": {
   "codemirror_mode": {
    "name": "ipython",
    "version": 3
   },
   "file_extension": ".py",
   "mimetype": "text/x-python",
   "name": "python",
   "nbconvert_exporter": "python",
   "pygments_lexer": "ipython3",
   "version": "3.7.0"
  }
 },
 "nbformat": 4,
 "nbformat_minor": 5
}

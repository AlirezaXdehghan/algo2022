{
 "cells": [
  {
   "cell_type": "code",
   "execution_count": 1,
   "id": "bd5d0004",
   "metadata": {},
   "outputs": [],
   "source": [
    "import os\n",
    "from math import *\n",
    "os.chdir('tsp_dataset')"
   ]
  },
  {
   "cell_type": "markdown",
   "id": "a70b7198",
   "metadata": {},
   "source": [
    "# Parse input "
   ]
  },
  {
   "cell_type": "code",
   "execution_count": 33,
   "id": "f9a56df0",
   "metadata": {},
   "outputs": [],
   "source": [
    "def parse(fileaddress):\n",
    "    CoOrdinates = {}\n",
    "    with open(fileaddress) as f:\n",
    "        lines = f.readlines()\n",
    "    Name = lines[0].split(\" \")[1].strip()\n",
    "    EWT = lines[4].split(\" \")[1].strip()\n",
    "    Dimension = lines[3].split(\" \")[1].strip()\n",
    "    flag = False\n",
    "    for line in lines:\n",
    "        print(line[0])\n",
    "        if line.strip().split(\" \")[0] == '1':\n",
    "            flag = True\n",
    "        elif flag == False:\n",
    "            continue\n",
    "        if line.strip().split(\" \")[0] == 'EOF': # at first it was 'EOF' which line[0] is on char==\n",
    "            break\n",
    "        n,x,y = line.strip().split(\" \")\n",
    "        CoOrdinates[n] = (x,y)\n",
    "    return Name, EWT, Dimension, CoOrdinates"
   ]
  },
  {
   "cell_type": "markdown",
   "id": "2a16fd53",
   "metadata": {},
   "source": [
    "<p>we save the coordinates in a dictionary with the vertex ID as the key and a (x,y) tuple as the data</p>"
   ]
  },
  {
   "cell_type": "code",
   "execution_count": 34,
   "id": "031ae83b",
   "metadata": {},
   "outputs": [
    {
     "name": "stdout",
     "output_type": "stream",
     "text": [
      "N\n",
      "T\n",
      "C\n",
      "D\n",
      "E\n",
      "N\n",
      "1\n",
      "2\n",
      "3\n",
      "4\n",
      "5\n",
      "6\n",
      "7\n",
      "8\n",
      "9\n",
      "1\n",
      "1\n",
      "1\n",
      "1\n",
      "1\n",
      "1\n",
      "1\n",
      "1\n",
      "1\n",
      "1\n",
      "2\n",
      "2\n",
      "2\n",
      "2\n",
      "2\n",
      "2\n",
      "2\n",
      "2\n",
      "2\n",
      "2\n",
      "3\n",
      "3\n",
      "3\n",
      "3\n",
      "3\n",
      "3\n",
      "3\n",
      "3\n",
      "3\n",
      "3\n",
      "4\n",
      "4\n",
      "4\n",
      "4\n",
      "4\n",
      "4\n",
      "4\n",
      "4\n",
      "4\n",
      "4\n",
      "5\n",
      "5\n",
      "5\n",
      "E\n",
      "Data set name: berlin52\n",
      "Type: EUC_2D\n",
      "Dimension: 52\n",
      "Coordinates: {'1': ('565.0', '575.0'), '2': ('25.0', '185.0'), '3': ('345.0', '750.0'), '4': ('945.0', '685.0'), '5': ('845.0', '655.0'), '6': ('880.0', '660.0'), '7': ('25.0', '230.0'), '8': ('525.0', '1000.0'), '9': ('580.0', '1175.0'), '10': ('650.0', '1130.0'), '11': ('1605.0', '620.0'), '12': ('1220.0', '580.0'), '13': ('1465.0', '200.0'), '14': ('1530.0', '5.0'), '15': ('845.0', '680.0'), '16': ('725.0', '370.0'), '17': ('145.0', '665.0'), '18': ('415.0', '635.0'), '19': ('510.0', '875.0'), '20': ('560.0', '365.0'), '21': ('300.0', '465.0'), '22': ('520.0', '585.0'), '23': ('480.0', '415.0'), '24': ('835.0', '625.0'), '25': ('975.0', '580.0'), '26': ('1215.0', '245.0'), '27': ('1320.0', '315.0'), '28': ('1250.0', '400.0'), '29': ('660.0', '180.0'), '30': ('410.0', '250.0'), '31': ('420.0', '555.0'), '32': ('575.0', '665.0'), '33': ('1150.0', '1160.0'), '34': ('700.0', '580.0'), '35': ('685.0', '595.0'), '36': ('685.0', '610.0'), '37': ('770.0', '610.0'), '38': ('795.0', '645.0'), '39': ('720.0', '635.0'), '40': ('760.0', '650.0'), '41': ('475.0', '960.0'), '42': ('95.0', '260.0'), '43': ('875.0', '920.0'), '44': ('700.0', '500.0'), '45': ('555.0', '815.0'), '46': ('830.0', '485.0'), '47': ('1170.0', '65.0'), '48': ('830.0', '610.0'), '49': ('605.0', '625.0'), '50': ('595.0', '360.0'), '51': ('1340.0', '725.0'), '52': ('1740.0', '245.0')}\n"
     ]
    }
   ],
   "source": [
    "NAME , EDGE_WEIGHT_TYPE , DIMENSION , Coordinates  = parse('berlin52.tsp')\n",
    "print(f\"Data set name: {NAME}\\nType: {EDGE_WEIGHT_TYPE}\\nDimension: {DIMENSION}\\nCoordinates: {Coordinates}\")"
   ]
  },
  {
   "cell_type": "code",
   "execution_count": 13,
   "id": "2bea501b",
   "metadata": {},
   "outputs": [],
   "source": [
    "def computeWeight(First, Second, Type):\n",
    "    x1 = float(First[0])\n",
    "    x2 = float(Second[0])\n",
    "    y1 = float(First[1])\n",
    "    y2 = float(Second[1])\n",
    "    if Type == \"EUC_2D\":\n",
    "        return sqrt((x1-x2)**2 + (y1-y2)**2)\n",
    "    if Type == \"GEO\":\n",
    "        Pi = 3.141592\n",
    "        R = 6378.388\n",
    "        lon1 = (x1/180)*Pi\n",
    "        lon2 = (x2/180)*Pi\n",
    "        lat1 = (y1/180)*Pi\n",
    "        lat2 = (y2/180)*Pi\n",
    "        dlon = lon2 - lon1\n",
    "        dlat = lat2 - lat1\n",
    "        a = sin(dlat / 2)**2 + cos(lat1) * cos(lat2) * sin(dlon / 2)**2\n",
    "        c = 2 * atan2(sqrt(a), sqrt(1 - a))\n",
    "        return R * c\n"
   ]
  },
  {
   "cell_type": "code",
   "execution_count": 5,
   "id": "5b895040",
   "metadata": {},
   "outputs": [
    {
     "name": "stdout",
     "output_type": "stream",
     "text": [
      "666.1080993352356\n"
     ]
    }
   ],
   "source": [
    "print(computeWeight(Coordinates['1'],Coordinates['2'],EDGE_WEIGHT_TYPE))"
   ]
  },
  {
   "cell_type": "code",
   "execution_count": null,
   "id": "ed955b3b",
   "metadata": {},
   "outputs": [],
   "source": []
  },
  {
   "cell_type": "code",
   "execution_count": null,
   "id": "2d25d2e7",
   "metadata": {},
   "outputs": [],
   "source": []
  }
 ],
 "metadata": {
  "kernelspec": {
   "display_name": "Python 3 (ipykernel)",
   "language": "python",
   "name": "python3"
  },
  "language_info": {
   "codemirror_mode": {
    "name": "ipython",
    "version": 3
   },
   "file_extension": ".py",
   "mimetype": "text/x-python",
   "name": "python",
   "nbconvert_exporter": "python",
   "pygments_lexer": "ipython3",
   "version": "3.9.7"
  }
 },
 "nbformat": 4,
 "nbformat_minor": 5
}

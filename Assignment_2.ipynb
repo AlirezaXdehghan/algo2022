{
 "cells": [
  {
   "cell_type": "code",
   "execution_count": 54,
   "metadata": {},
   "outputs": [],
   "source": [
    "import os\n",
    "from math import *\n",
    "from time import perf_counter_ns\n",
    "import gc\n",
    "os.chdir('tsp_dataset')"
   ]
  },
  {
   "cell_type": "markdown",
   "metadata": {},
   "source": [
    "# Parse input "
   ]
  },
  {
   "cell_type": "code",
   "execution_count": 51,
   "metadata": {},
   "outputs": [],
   "source": [
    "def parse(fileaddress):\n",
    "    CoOrdinates = {}\n",
    "    with open(fileaddress) as f:\n",
    "        lines = f.readlines()\n",
    "    lines[0] = ': '.join(lines[0].split(' : '))\n",
    "    Name = lines[0].split(\" \")[1].strip()\n",
    "    lines[4] = ': '.join(lines[4].split(' : '))\n",
    "    EWT = lines[4].split(\" \")[1].strip()\n",
    "    lines[3] = ': '.join(lines[3].split(' : '))\n",
    "    Dimension = lines[3].split(\" \")[1].strip()\n",
    "    flag = False\n",
    "    for line in lines:\n",
    "        line = ' '.join(line.split())\n",
    "        if line.strip().split(\" \")[0] == '1':\n",
    "            flag = True\n",
    "        elif flag == False:\n",
    "            continue\n",
    "        if line.strip().split(\" \")[0] == 'EOF':\n",
    "            break\n",
    "        n,x,y = line.strip().split(\" \")\n",
    "        CoOrdinates[n] = (x,y)\n",
    "    return Name, EWT, Dimension, CoOrdinates"
   ]
  },
  {
   "cell_type": "markdown",
   "metadata": {},
   "source": [
    "<p>we save the coordinates in a dictionary with the vertex ID as the key and a (x,y) tuple as the data</p>"
   ]
  },
  {
   "cell_type": "code",
   "execution_count": 36,
   "metadata": {},
   "outputs": [
    {
     "name": "stdout",
     "output_type": "stream",
     "text": [
      "Data set name: berlin52\n",
      "Type: EUC_2D\n",
      "Dimension: 52\n",
      "Coordinates: {'1': ('565.0', '575.0'), '2': ('25.0', '185.0'), '3': ('345.0', '750.0'), '4': ('945.0', '685.0'), '5': ('845.0', '655.0'), '6': ('880.0', '660.0'), '7': ('25.0', '230.0'), '8': ('525.0', '1000.0'), '9': ('580.0', '1175.0'), '10': ('650.0', '1130.0'), '11': ('1605.0', '620.0'), '12': ('1220.0', '580.0'), '13': ('1465.0', '200.0'), '14': ('1530.0', '5.0'), '15': ('845.0', '680.0'), '16': ('725.0', '370.0'), '17': ('145.0', '665.0'), '18': ('415.0', '635.0'), '19': ('510.0', '875.0'), '20': ('560.0', '365.0'), '21': ('300.0', '465.0'), '22': ('520.0', '585.0'), '23': ('480.0', '415.0'), '24': ('835.0', '625.0'), '25': ('975.0', '580.0'), '26': ('1215.0', '245.0'), '27': ('1320.0', '315.0'), '28': ('1250.0', '400.0'), '29': ('660.0', '180.0'), '30': ('410.0', '250.0'), '31': ('420.0', '555.0'), '32': ('575.0', '665.0'), '33': ('1150.0', '1160.0'), '34': ('700.0', '580.0'), '35': ('685.0', '595.0'), '36': ('685.0', '610.0'), '37': ('770.0', '610.0'), '38': ('795.0', '645.0'), '39': ('720.0', '635.0'), '40': ('760.0', '650.0'), '41': ('475.0', '960.0'), '42': ('95.0', '260.0'), '43': ('875.0', '920.0'), '44': ('700.0', '500.0'), '45': ('555.0', '815.0'), '46': ('830.0', '485.0'), '47': ('1170.0', '65.0'), '48': ('830.0', '610.0'), '49': ('605.0', '625.0'), '50': ('595.0', '360.0'), '51': ('1340.0', '725.0'), '52': ('1740.0', '245.0')}\n"
     ]
    }
   ],
   "source": [
    "NAME , EDGE_WEIGHT_TYPE , DIMENSION , Coordinates  = parse('berlin52.tsp')\n",
    "print(f\"Data set name: {NAME}\\nType: {EDGE_WEIGHT_TYPE}\\nDimension: {DIMENSION}\\nCoordinates: {Coordinates}\")"
   ]
  },
  {
   "cell_type": "code",
   "execution_count": 37,
   "metadata": {},
   "outputs": [],
   "source": [
    "def computeWeight(First, Second, Type):\n",
    "    x1 = float(First[0])\n",
    "    x2 = float(Second[0])\n",
    "    y1 = float(First[1])\n",
    "    y2 = float(Second[1])\n",
    "    if Type == \"EUC_2D\":\n",
    "        return sqrt((x1-x2)**2 + (y1-y2)**2)\n",
    "    if Type == \"GEO\":\n",
    "        Pi = 3.141592\n",
    "        R = 6378.388\n",
    "        lon1 = (x1/180)*Pi\n",
    "        lon2 = (x2/180)*Pi\n",
    "        lat1 = (y1/180)*Pi\n",
    "        lat2 = (y2/180)*Pi\n",
    "        dlon = lon2 - lon1\n",
    "        dlat = lat2 - lat1\n",
    "        a = sin(dlat / 2)**2 + cos(lat1) * cos(lat2) * sin(dlon / 2)**2\n",
    "        c = 2 * atan2(sqrt(a), sqrt(1 - a))\n",
    "        return R * c\n"
   ]
  },
  {
   "cell_type": "code",
   "execution_count": 38,
   "metadata": {},
   "outputs": [
    {
     "name": "stdout",
     "output_type": "stream",
     "text": [
      "('565.0', '575.0') ('25.0', '185.0')\n",
      "666.1080993352356\n"
     ]
    }
   ],
   "source": [
    "print(Coordinates['1'],Coordinates['2'])\n",
    "print(computeWeight(Coordinates['1'],Coordinates['2'],EDGE_WEIGHT_TYPE))"
   ]
  },
  {
   "cell_type": "code",
   "execution_count": 39,
   "metadata": {},
   "outputs": [],
   "source": [
    "def getKey(sdict):\n",
    "    key_list = list(sdict.keys())\n",
    "    return key_list\n",
    "\n",
    "def makeGraph(Coordinates):\n",
    "    keys = getKey(Coordinates)\n",
    "    matrix = []\n",
    "    for u in keys:\n",
    "        for v in keys:\n",
    "            if v == u:\n",
    "                continue\n",
    "            w = computeWeight(Coordinates[u],Coordinates[v],EDGE_WEIGHT_TYPE) # weight computed for edge(u,v)\n",
    "            matrix.append((u,v,w))\n",
    "    return keys, matrix"
   ]
  },
  {
   "cell_type": "code",
   "execution_count": 40,
   "metadata": {},
   "outputs": [],
   "source": [
    "# Graph object\n",
    "class Graph:\n",
    "    def __init__(self, V, E, num_V, num_E):\n",
    "        self.V = V\n",
    "        self.E = E\n",
    "        self.num_V = num_V\n",
    "        self.num_E = num_E"
   ]
  },
  {
   "cell_type": "code",
   "execution_count": 41,
   "metadata": {},
   "outputs": [],
   "source": [
    "class Kruskal_Efficient:\n",
    "    \n",
    "    def __init__(self, graph):\n",
    "        self.graph = graph\n",
    "        self.sets = {} # set of vertices\n",
    "        self.MST = [] # Minimum Spanning Tree\n",
    "    \n",
    "    \n",
    "    # make a set of vertices\n",
    "    def make_sets(self):\n",
    "        for v in self.graph.V:\n",
    "            self.sets[v] = [v]\n",
    "        \n",
    "    \n",
    "    \n",
    "    # union the subsets which the vertices are not in the same sets\n",
    "    def union(self, u_prnt, v_prnt):\n",
    "        # get the size of two elements and append the vertices to the bigger one\n",
    "        if (len(self.sets.get(u_prnt)) >= len(self.sets.get(v_prnt))):\n",
    "            self.sets[u_prnt].extend(self.sets[v_prnt])\n",
    "            self.sets.pop(v_prnt)\n",
    "        \n",
    "        # append the list of vertices of parent u to v\n",
    "        else:\n",
    "            self.sets[v_prnt].extend(self.sets[u_prnt])\n",
    "            self.sets.pop(u_prnt)\n",
    "    \n",
    "    \n",
    "    \n",
    "    # find the parent of u and v vertices and return the parents\n",
    "    def find_parent(self, u, v, items):\n",
    "        u_key = v_key = 0\n",
    "        for item in list(items):\n",
    "            # item[0] is the key in dictionary\n",
    "            # item[1] is the values in the dictionary\n",
    "            key, value = item[0], item[1] \n",
    "            #if_true = all(x in value for x in[u, v]) # check if both u and v are in the same set\n",
    "            # check the vertices in the value list and return the key as the parent of the vertex\n",
    "            if u in value:\n",
    "                u_key = item[0]\n",
    "            if v in value:\n",
    "                v_key = item[0]\n",
    "            if u_key and v_key:\n",
    "                break\n",
    "        return (u_key, v_key)\n",
    "    \n",
    "    \n",
    "    \n",
    "    # make the MST tree\n",
    "    def execute(self):\n",
    "#         mst_weight = 0\n",
    "#         lenv = len(self.graph.V) # number of vertices\n",
    "        \n",
    "        # sorting the edges based on the wight of the edges    \n",
    "        E = sorted(self.graph.E, key = lambda m: m[2])\n",
    "#         print(\"this: \", E)\n",
    "        \n",
    "        self.make_sets() # make a set of vertices\n",
    "        # make a list of sets of key and value pairs to iterate through them\n",
    "        items = self.sets.items()\n",
    "        for e in E:\n",
    "            # check if number of edges in MST are less than  nodes are \n",
    "            if((len(self.MST)+1) <  int(self.graph.num_E)):\n",
    "                u, v, w = e\n",
    "                u_parent, v_parent = self.find_parent(u, v, items)\n",
    "                # if the vertices(u,v) are not in the same sets\n",
    "                if (u_parent != v_parent):\n",
    "                    self.union(u_parent, v_parent)\n",
    "                    # add the edge to the MST[]\n",
    "                    self.MST.append(e)\n",
    "            # if the MST is completed, stop looping through the edges\n",
    "            else:\n",
    "                break\n",
    "        return self.MST\n",
    "\n",
    "    \n",
    "    # calculate the final weight of the MST\n",
    "    def MSTweight_EK(self):\n",
    "        sum = 0\n",
    "        for (u ,v, w) in self.MST:\n",
    "            sum = sum + w\n",
    "        return sum"
   ]
  },
  {
   "cell_type": "code",
   "execution_count": 42,
   "metadata": {},
   "outputs": [
    {
     "name": "stdout",
     "output_type": "stream",
     "text": [
      "[('35', '36', 15.0), ('24', '48', 15.811388300841896), ('34', '35', 21.213203435596427), ('5', '15', 25.0), ('5', '24', 31.622776601683793), ('5', '6', 35.35533905932738), ('20', '50', 35.35533905932738), ('38', '40', 35.35533905932738), ('37', '40', 41.23105625617661), ('39', '40', 42.720018726587654), ('36', '39', 43.01162633521314), ('24', '38', 44.721359549995796), ('2', '7', 45.0), ('1', '22', 46.09772228646444), ('32', '49', 50.0), ('1', '49', 64.03124237432849), ('8', '41', 64.03124237432849), ('4', '6', 69.6419413859206), ('19', '45', 75.0), ('7', '42', 76.15773105863909), ('34', '44', 80.0), ('18', '31', 80.15609770940699), ('36', '49', 81.39410298049853), ('9', '10', 83.21658488546619), ('19', '41', 91.92388155425118), ('20', '23', 94.33981132056604), ('22', '31', 104.4030650891055), ('4', '25', 109.20164833920778), ('27', '28', 110.11357772772621), ('46', '48', 125.0), ('26', '27', 126.19429464123962), ('16', '50', 130.38404810405297), ('16', '44', 132.38202294873727), ('3', '18', 134.6291201783626), ('21', '31', 150.0), ('32', '45', 151.32745950421557), ('23', '30', 179.2344832893492), ('8', '10', 180.34688796871433), ('12', '28', 182.4828759089466), ('13', '27', 185.06755523321746), ('26', '47', 185.53975315279473), ('12', '51', 188.2153022471871), ('29', '50', 191.3765920900464), ('13', '14', 205.54804791094466), ('3', '17', 217.3131381210073), ('15', '43', 241.8677324489565), ('12', '25', 245.0), ('13', '52', 278.65749586185547), ('11', '51', 285.0438562747845), ('21', '42', 289.9137802864845), ('33', '43', 365.0)]\n",
      "\n",
      "The Weight of MST is:  6081.630541640883\n"
     ]
    }
   ],
   "source": [
    "graph = Graph(vertices, edges, num_V_E[0], num_V_E[1])\n",
    "algo = Kruskal_Efficient(graph)\n",
    "result = algo.execute()\n",
    "print(result)\n",
    "print(\"\\nThe Weight of MST is: \", algo.MSTweight_EK())"
   ]
  },
  {
   "cell_type": "code",
   "execution_count": 55,
   "metadata": {},
   "outputs": [
    {
     "name": "stdout",
     "output_type": "stream",
     "text": [
      "berlin52\n",
      "burma14\n",
      "ch150\n",
      "d493\n",
      "dsj1000\n",
      "eil51\n",
      "gr202\n",
      "gr229\n",
      "kroA100\n",
      "kroD100\n",
      "pcb442\n",
      "ulysses16.tsp\n",
      "ulysses22.tsp\n"
     ]
    }
   ],
   "source": [
    "twoAppSol = []\n",
    "for file in os.listdir():\n",
    "    NAME , EDGE_WEIGHT_TYPE , DIMENSION , Coordinates = parse(file)\n",
    "    vertices, edges = makeGraph(Coordinates)\n",
    "    num_V_E = [len(vertices), len(edges)]\n",
    "    gc.disable()\n",
    "    start_time = perf_counter_ns()\n",
    "    graph = Graph(vertices, edges, num_V_E[0], num_V_E[1])\n",
    "    algo = Kruskal_Efficient(graph)\n",
    "    print(NAME)\n",
    "    result = algo.execute()\n",
    "    weight = algo.MSTweight_EK()\n",
    "    end_time = perf_counter_ns()\n",
    "    time = end_time - start_time\n",
    "    gc.enable()\n",
    "    twoAppSol.append((NAME,weight,time))"
   ]
  },
  {
   "cell_type": "code",
   "execution_count": 56,
   "metadata": {},
   "outputs": [
    {
     "data": {
      "text/plain": [
       "[('berlin52', 6081.630541640883, 27753400),\n",
       " ('burma14', 830.7778546003948, 1594700),\n",
       " ('ch150', 5880.955830859872, 185165100),\n",
       " ('d493', 29284.55098300803, 4517393700),\n",
       " ('dsj1000', 15905257.207705617, 40049387900),\n",
       " ('eil51', 376.4905590196479, 64531700),\n",
       " ('gr202', 41918.8554509152, 430780200),\n",
       " ('gr229', 92987.17687347162, 508141800),\n",
       " ('kroA100', 18772.173204200863, 67838900),\n",
       " ('kroD100', 18596.715640086226, 66710800),\n",
       " ('pcb442', 46362.39053165435, 2941092600),\n",
       " ('ulysses16.tsp', 5268.036033544723, 12100400),\n",
       " ('ulysses22.tsp', 5429.474859481939, 1947600)]"
      ]
     },
     "execution_count": 56,
     "metadata": {},
     "output_type": "execute_result"
    }
   ],
   "source": [
    "twoAppSol"
   ]
  },
  {
   "cell_type": "code",
   "execution_count": null,
   "metadata": {},
   "outputs": [],
   "source": []
  }
 ],
 "metadata": {
  "kernelspec": {
   "display_name": "Python 3",
   "language": "python",
   "name": "python3"
  },
  "language_info": {
   "codemirror_mode": {
    "name": "ipython",
    "version": 3
   },
   "file_extension": ".py",
   "mimetype": "text/x-python",
   "name": "python",
   "nbconvert_exporter": "python",
   "pygments_lexer": "ipython3",
   "version": "3.7.0"
  }
 },
 "nbformat": 4,
 "nbformat_minor": 5
}

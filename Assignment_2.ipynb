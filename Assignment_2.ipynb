{
 "cells": [
  {
   "cell_type": "code",
   "execution_count": 1,
   "id": "bd5d0004",
   "metadata": {},
   "outputs": [],
   "source": [
    "import os\n",
    "from math import *\n",
    "os.chdir('tsp_dataset')"
   ]
  },
  {
   "cell_type": "markdown",
   "id": "a70b7198",
   "metadata": {},
   "source": [
    "# Parse input "
   ]
  },
  {
   "cell_type": "code",
   "execution_count": 47,
   "id": "f9a56df0",
   "metadata": {},
   "outputs": [],
   "source": [
    "def parse(fileaddress):\n",
    "    CoOrdinates = {}\n",
    "    with open(fileaddress) as f:\n",
    "        lines = f.readlines()\n",
    "    Name = lines[0].split(\" \")[1].strip()\n",
    "    EWT = lines[4].split(\" \")[1].strip()\n",
    "    Dimension = lines[3].split(\" \")[1].strip()\n",
    "    flag = False\n",
    "    for line in lines:\n",
    "        if line.strip().split(\" \")[0] == '1':\n",
    "            flag = True\n",
    "        elif flag == False:\n",
    "            continue\n",
    "        if line.strip().split(\" \")[0] == 'EOF':\n",
    "            break\n",
    "        n,x,y = line.strip().split(\" \")\n",
    "        CoOrdinates[n] = (x,y)\n",
    "    return Name, EWT, Dimension, CoOrdinates"
   ]
  },
  {
   "cell_type": "markdown",
   "id": "2a16fd53",
   "metadata": {},
   "source": [
    "<p>we save the coordinates in a dictionary with the vertex ID as the key and a (x,y) tuple as the data</p>"
   ]
  },
  {
   "cell_type": "code",
   "execution_count": 51,
   "id": "031ae83b",
   "metadata": {},
   "outputs": [
    {
     "name": "stdout",
     "output_type": "stream",
     "text": [
      "Data set name: berlin52\n",
      "Type: EUC_2D\n",
      "Dimension: 52\n",
      "Coordinates: {'1': ('565.0', '575.0'), '2': ('25.0', '185.0'), '3': ('345.0', '750.0'), '4': ('945.0', '685.0'), '5': ('845.0', '655.0'), '6': ('880.0', '660.0'), '7': ('25.0', '230.0'), '8': ('525.0', '1000.0'), '9': ('580.0', '1175.0'), '10': ('650.0', '1130.0'), '11': ('1605.0', '620.0'), '12': ('1220.0', '580.0'), '13': ('1465.0', '200.0'), '14': ('1530.0', '5.0'), '15': ('845.0', '680.0'), '16': ('725.0', '370.0'), '17': ('145.0', '665.0'), '18': ('415.0', '635.0'), '19': ('510.0', '875.0'), '20': ('560.0', '365.0'), '21': ('300.0', '465.0'), '22': ('520.0', '585.0'), '23': ('480.0', '415.0'), '24': ('835.0', '625.0'), '25': ('975.0', '580.0'), '26': ('1215.0', '245.0'), '27': ('1320.0', '315.0'), '28': ('1250.0', '400.0'), '29': ('660.0', '180.0'), '30': ('410.0', '250.0'), '31': ('420.0', '555.0'), '32': ('575.0', '665.0'), '33': ('1150.0', '1160.0'), '34': ('700.0', '580.0'), '35': ('685.0', '595.0'), '36': ('685.0', '610.0'), '37': ('770.0', '610.0'), '38': ('795.0', '645.0'), '39': ('720.0', '635.0'), '40': ('760.0', '650.0'), '41': ('475.0', '960.0'), '42': ('95.0', '260.0'), '43': ('875.0', '920.0'), '44': ('700.0', '500.0'), '45': ('555.0', '815.0'), '46': ('830.0', '485.0'), '47': ('1170.0', '65.0'), '48': ('830.0', '610.0'), '49': ('605.0', '625.0'), '50': ('595.0', '360.0'), '51': ('1340.0', '725.0'), '52': ('1740.0', '245.0')}\n",
      "\n",
      "('565.0', '575.0') ('25.0', '185.0')\n"
     ]
    }
   ],
   "source": [
    "NAME , EDGE_WEIGHT_TYPE , DIMENSION , Coordinates  = parse('berlin52.tsp')\n",
    "print(f\"Data set name: {NAME}\\nType: {EDGE_WEIGHT_TYPE}\\nDimension: {DIMENSION}\\nCoordinates: {Coordinates}\")"
   ]
  },
  {
   "cell_type": "code",
   "execution_count": 13,
   "id": "2bea501b",
   "metadata": {},
   "outputs": [],
   "source": [
    "def computeWeight(First, Second, Type):\n",
    "    x1 = float(First[0])\n",
    "    x2 = float(Second[0])\n",
    "    y1 = float(First[1])\n",
    "    y2 = float(Second[1])\n",
    "    if Type == \"EUC_2D\":\n",
    "        return sqrt((x1-x2)**2 + (y1-y2)**2)\n",
    "    if Type == \"GEO\":\n",
    "        Pi = 3.141592\n",
    "        R = 6378.388\n",
    "        lon1 = (x1/180)*Pi\n",
    "        lon2 = (x2/180)*Pi\n",
    "        lat1 = (y1/180)*Pi\n",
    "        lat2 = (y2/180)*Pi\n",
    "        dlon = lon2 - lon1\n",
    "        dlat = lat2 - lat1\n",
    "        a = sin(dlat / 2)**2 + cos(lat1) * cos(lat2) * sin(dlon / 2)**2\n",
    "        c = 2 * atan2(sqrt(a), sqrt(1 - a))\n",
    "        return R * c\n"
   ]
  },
  {
   "cell_type": "code",
   "execution_count": 52,
   "id": "5b895040",
   "metadata": {},
   "outputs": [
    {
     "name": "stdout",
     "output_type": "stream",
     "text": [
      "('565.0', '575.0') ('25.0', '185.0')\n",
      "666.1080993352356\n"
     ]
    }
   ],
   "source": [
    "print(Coordinates['1'],Coordinates['2'])\n",
    "print(computeWeight(Coordinates['1'],Coordinates['2'],EDGE_WEIGHT_TYPE))"
   ]
  },
  {
   "cell_type": "code",
   "execution_count": 116,
   "id": "ed955b3b",
   "metadata": {},
   "outputs": [],
   "source": [
    "def getKey(sdict):\n",
    "    key_list = list(sdict.keys())\n",
    "    return key_list\n",
    "\n",
    "def makeGraph():\n",
    "    keys = getKey(Coordinates)\n",
    "    matrix = []\n",
    "    for i in range(len(keys)):\n",
    "        u = keys[i]\n",
    "        for v in keys:\n",
    "            if v == u:\n",
    "                continue\n",
    "            w = computeWeight(Coordinates[u],Coordinates[v],EDGE_WEIGHT_TYPE) # weight computed for edge(u,v)\n",
    "            matrix.append((u,v, w))\n",
    "#     print(matrix)\n",
    "    return keys, matrix"
   ]
  },
  {
   "cell_type": "code",
   "execution_count": 126,
   "id": "2d25d2e7",
   "metadata": {},
   "outputs": [],
   "source": [
    "vertices, edges = makeGraph()\n",
    "num_V_E = [len(vertices), len(edges)]\n",
    "# print(len(vertices))\n",
    "# print(len(edges))\n",
    "# print(num_V_E)\n",
    "# print(f\"vertices: {vertices}\\n\\n edges: {edges}\")"
   ]
  },
  {
   "cell_type": "code",
   "execution_count": 127,
   "id": "1c375a6b",
   "metadata": {},
   "outputs": [],
   "source": [
    "# Graph object\n",
    "class Graph:\n",
    "    def __init__(self, V, E, num_V, num_E):\n",
    "        self.V = V\n",
    "        self.E = E\n",
    "        self.num_V = num_V\n",
    "        self.num_E = num_E"
   ]
  },
  {
   "cell_type": "code",
   "execution_count": 128,
   "id": "3c8c2f8c",
   "metadata": {},
   "outputs": [],
   "source": [
    "class Kruskal_Efficient:\n",
    "    \n",
    "    def __init__(self, graph):\n",
    "        self.graph = graph\n",
    "        self.sets = {} # set of vertices\n",
    "        self.MST = [] # Minimum Spanning Tree\n",
    "    \n",
    "    \n",
    "    # make a set of vertices\n",
    "    def make_sets(self):\n",
    "        for v in self.graph.V:\n",
    "            self.sets[v] = [v]\n",
    "        \n",
    "    \n",
    "    # union the subsets which the vertices are not in the same sets\n",
    "    def union(self, u_prnt, v_prnt):\n",
    "        # get the size of two elements and append the vertices to the bigger one\n",
    "        if (len(self.sets.get(u_prnt)) >= len(self.sets.get(v_prnt))):\n",
    "            self.sets[u_prnt].extend(self.sets[v_prnt])\n",
    "            self.sets.pop(v_prnt)\n",
    "        # append the list of vertices of parent u to v\n",
    "        else:\n",
    "            self.sets[v_prnt].extend(self.sets[u_prnt])\n",
    "            self.sets.pop(u_prnt)\n",
    "    \n",
    "    \n",
    "    \n",
    "    # find the parent of u and v vertices and return the parents\n",
    "    def find_parent(self, u, v, items):\n",
    "        u_key = v_key = 0\n",
    "        for item in list(items):\n",
    "            # item[0] is the key in dictionary\n",
    "            # item[1] is the values in the dictionary\n",
    "            key, value = item[0], item[1]\n",
    "            # check the vertices in the value list and return the key as the parent of the vertex\n",
    "            if u in value:\n",
    "                u_key = item[0]\n",
    "            if v in value:\n",
    "                v_key = item[0]\n",
    "            if u_key and v_key:\n",
    "                break\n",
    "        return (u_key, v_key)\n",
    "    \n",
    "    \n",
    "    \n",
    "    # make the MST tree\n",
    "    def execute(self):      \n",
    "        # sorting the edges based on the wight of the edges    \n",
    "        E = sorted(self.graph.E, key = lambda m: m[2])\n",
    "        self.make_sets() # make a set of vertices\n",
    "        # make a list of sets of key and value pairs to iterate through them\n",
    "        items = self.sets.items()\n",
    "        for e in E:\n",
    "            # check if number of edges in MST are less than  nodes are \n",
    "            if((len(self.MST)+1) <  int(self.graph.num_E)):\n",
    "                u, v, w = e\n",
    "                u_parent, v_parent = self.find_parent(u, v, items)\n",
    "                # if the vertices(u,v) are not in the same sets\n",
    "                if (u_parent != v_parent):\n",
    "                    self.union(u_parent, v_parent)\n",
    "                    # add the edge to the MST[]\n",
    "                    self.MST.append(e)\n",
    "            # if the MST is completed, stop looping through the edges\n",
    "            else:\n",
    "                break\n",
    "\n",
    "        return self.MST\n",
    "\n",
    "    \n",
    "    # calculate the final weight of the MST\n",
    "    def MSTweight_EK(self):\n",
    "        sum = 0\n",
    "        for (u ,v, w) in self.MST:\n",
    "            sum = sum + w\n",
    "        return sum"
   ]
  },
  {
   "cell_type": "code",
   "execution_count": 129,
   "id": "d4c3e71a",
   "metadata": {},
   "outputs": [],
   "source": [
    "def get_time_kruskal(vertices, edges, num_V_E):\n",
    "    graph = Graph(vertices, edges, num_V_E[0], num_V_E[1]) # initialize graph\n",
    "    algo = Kruskal_Efficient(graph) # initialize algorithm object\n",
    "    gc.disable() # disable garbage collector\n",
    "    start_time = perf_counter_ns()\n",
    "    result = algo.execute()\n",
    "    end_time = perf_counter_ns()\n",
    "    gc.enable()\n",
    "    print(\"Running Time was: \", end_time-start_time)\n",
    "    print(\"The Weight of MST is: \", algo.MSTweight_EK())\n",
    "    return (end_time-start_time)"
   ]
  },
  {
   "cell_type": "code",
   "execution_count": 130,
   "id": "3ae22cea",
   "metadata": {},
   "outputs": [
    {
     "ename": "NameError",
     "evalue": "name 'tqdm_notebook' is not defined",
     "output_type": "error",
     "traceback": [
      "\u001b[1;31m---------------------------------------------------------------------------\u001b[0m",
      "\u001b[1;31mNameError\u001b[0m                                 Traceback (most recent call last)",
      "\u001b[1;32m~\\AppData\\Local\\Temp/ipykernel_15488/3616888236.py\u001b[0m in \u001b[0;36m<module>\u001b[1;34m\u001b[0m\n\u001b[0;32m      1\u001b[0m \u001b[0mresults_k_efficient\u001b[0m \u001b[1;33m=\u001b[0m \u001b[1;33m[\u001b[0m\u001b[1;33m]\u001b[0m\u001b[1;33m\u001b[0m\u001b[1;33m\u001b[0m\u001b[0m\n\u001b[0;32m      2\u001b[0m \u001b[1;31m# with a progress bar, execute the algorithm\u001b[0m\u001b[1;33m\u001b[0m\u001b[1;33m\u001b[0m\u001b[0m\n\u001b[1;32m----> 3\u001b[1;33m \u001b[1;32mfor\u001b[0m \u001b[0mi\u001b[0m \u001b[1;32min\u001b[0m \u001b[0mtqdm_notebook\u001b[0m\u001b[1;33m(\u001b[0m\u001b[0mrange\u001b[0m\u001b[1;33m(\u001b[0m\u001b[0mlen\u001b[0m\u001b[1;33m(\u001b[0m\u001b[0mgraphs_kruskal\u001b[0m\u001b[1;33m)\u001b[0m\u001b[1;33m)\u001b[0m\u001b[1;33m)\u001b[0m\u001b[1;33m:\u001b[0m\u001b[1;33m\u001b[0m\u001b[1;33m\u001b[0m\u001b[0m\n\u001b[0m\u001b[0;32m      4\u001b[0m     \u001b[0mprint\u001b[0m\u001b[1;33m(\u001b[0m\u001b[1;34m\"|V| = \"\u001b[0m\u001b[1;33m,\u001b[0m \u001b[0mgraphs_kruskal\u001b[0m\u001b[1;33m[\u001b[0m\u001b[0mi\u001b[0m\u001b[1;33m]\u001b[0m\u001b[1;33m[\u001b[0m\u001b[1;36m0\u001b[0m\u001b[1;33m]\u001b[0m\u001b[1;33m[\u001b[0m\u001b[1;36m0\u001b[0m\u001b[1;33m]\u001b[0m\u001b[1;33m,\u001b[0m \u001b[1;34m\" |E| = \"\u001b[0m\u001b[1;33m,\u001b[0m \u001b[0mgraphs_kruskal\u001b[0m\u001b[1;33m[\u001b[0m\u001b[0mi\u001b[0m\u001b[1;33m]\u001b[0m\u001b[1;33m[\u001b[0m\u001b[1;36m0\u001b[0m\u001b[1;33m]\u001b[0m\u001b[1;33m[\u001b[0m\u001b[1;36m1\u001b[0m\u001b[1;33m]\u001b[0m\u001b[1;33m)\u001b[0m\u001b[1;33m\u001b[0m\u001b[1;33m\u001b[0m\u001b[0m\n\u001b[0;32m      5\u001b[0m     \u001b[0mresults_k_efficient\u001b[0m\u001b[1;33m.\u001b[0m\u001b[0mappend\u001b[0m\u001b[1;33m(\u001b[0m\u001b[1;33m(\u001b[0m\u001b[0mgraphs_kruskal\u001b[0m\u001b[1;33m[\u001b[0m\u001b[0mi\u001b[0m\u001b[1;33m]\u001b[0m\u001b[1;33m[\u001b[0m\u001b[1;36m0\u001b[0m\u001b[1;33m]\u001b[0m\u001b[1;33m[\u001b[0m\u001b[1;36m0\u001b[0m\u001b[1;33m]\u001b[0m\u001b[1;33m,\u001b[0m \u001b[0mget_time_kruskal\u001b[0m\u001b[1;33m(\u001b[0m\u001b[0mgraphs_kruskal\u001b[0m\u001b[1;33m[\u001b[0m\u001b[0mi\u001b[0m\u001b[1;33m]\u001b[0m\u001b[1;33m[\u001b[0m\u001b[1;36m1\u001b[0m\u001b[1;33m]\u001b[0m\u001b[1;33m,\u001b[0m \u001b[0mgraphs_kruskal\u001b[0m\u001b[1;33m[\u001b[0m\u001b[0mi\u001b[0m\u001b[1;33m]\u001b[0m\u001b[1;33m[\u001b[0m\u001b[1;36m2\u001b[0m\u001b[1;33m]\u001b[0m\u001b[1;33m,\u001b[0m \u001b[0mgraphs_kruskal\u001b[0m\u001b[1;33m[\u001b[0m\u001b[0mi\u001b[0m\u001b[1;33m]\u001b[0m\u001b[1;33m[\u001b[0m\u001b[1;36m0\u001b[0m\u001b[1;33m]\u001b[0m\u001b[1;33m)\u001b[0m\u001b[1;33m)\u001b[0m\u001b[1;33m)\u001b[0m\u001b[1;33m\u001b[0m\u001b[1;33m\u001b[0m\u001b[0m\n",
      "\u001b[1;31mNameError\u001b[0m: name 'tqdm_notebook' is not defined"
     ]
    }
   ],
   "source": [
    "results_k_efficient = []\n",
    "# with a progress bar, execute the algorithm\n",
    "for i in tqdm_notebook(range(len(graphs_kruskal))):\n",
    "    print(\"|V| = \", graphs_kruskal[i][0][0], \" |E| = \", graphs_kruskal[i][0][1])\n",
    "    results_k_efficient.append((graphs_kruskal[i][0][0], get_time_kruskal(graphs_kruskal[i][1], graphs_kruskal[i][2], graphs_kruskal[i][0])))"
   ]
  },
  {
   "cell_type": "code",
   "execution_count": null,
   "id": "f5fa6550",
   "metadata": {},
   "outputs": [],
   "source": []
  }
 ],
 "metadata": {
  "kernelspec": {
   "display_name": "Python 3 (ipykernel)",
   "language": "python",
   "name": "python3"
  },
  "language_info": {
   "codemirror_mode": {
    "name": "ipython",
    "version": 3
   },
   "file_extension": ".py",
   "mimetype": "text/x-python",
   "name": "python",
   "nbconvert_exporter": "python",
   "pygments_lexer": "ipython3",
   "version": "3.9.7"
  }
 },
 "nbformat": 4,
 "nbformat_minor": 5
}
